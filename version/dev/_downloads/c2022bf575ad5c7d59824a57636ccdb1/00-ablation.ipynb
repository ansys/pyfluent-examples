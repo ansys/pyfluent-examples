{
  "cells": [
    {
      "cell_type": "markdown",
      "metadata": {},
      "source": [
        "Modeling Ablation {#modeling_ablation}\n=================\n"
      ]
    },
    {
      "cell_type": "markdown",
      "metadata": {},
      "source": [
        "Objective\n=========\n\nAblation is an effective treatment used to protect an atmospheric\nreentry vehicle from the damaging effects of external high temperatures\ncaused by shock wave and viscous heating. The ablative material is\nchipped away due to surface reactions that remove a significant amount\nof heat and keep the vehicle surface temperature below the melting\npoint. In this tutorial, Fluent ablation model is demonstrated for a\nreendtry vehicle geometry simplified as a 3D wedge.\n\nThis tutorial demonstrates how to do the following:\n\n-   Define boundary conditions for a high-speed flow.\n-   Set up the ablation model to model effects of a moving boundary due\n    to ablation.\n-   Initiate and solve the transient simulation using the density-based\n    solver.\n\nProblem Description:\n====================\n\nThe geometry of the 3D wedge considered in this tutorial is shown in\nfollowing figure. The air flow passes around a nose of a re-entry\nvehicle operating under high speed conditions. The inlet air has a\ntemperature of 4500 K, a gauge pressure of 13500 Pa, and a Mach number\nof 3. The domain is bounded above and below by symmetry planes\n(displayed in yellow). As the ablative coating chips away, the surface\nof the wall moves. The moving of the surface is modeled using dynamic\nmeshes. The surface moving rate is estimated by Vieille\\'s empirical\nlaw:\n\nwhere r is the surface moving rate, p is the absolute pressure, and A\nand n are model parameters. In the considered case, A = 5 and n = 0.1.\n"
      ]
    },
    {
      "cell_type": "markdown",
      "metadata": {},
      "source": [
        "$$r = A \\cdot p^n$$\n"
      ]
    },
    {
      "cell_type": "markdown",
      "metadata": {},
      "source": [
        "![Problem Schematic](../../_static/ablation-problem-schematic.png){.align-center}\n"
      ]
    },
    {
      "cell_type": "markdown",
      "metadata": {},
      "source": [
        "Import required libraries/modules\n=================================\n"
      ]
    },
    {
      "cell_type": "code",
      "execution_count": null,
      "metadata": {
        "collapsed": false
      },
      "outputs": [],
      "source": [
        "from pathlib import Path\n\nimport ansys.fluent.core as pyfluent\nfrom ansys.fluent.core import examples\nfrom ansys.fluent.visualization.pyvista import Graphics"
      ]
    },
    {
      "cell_type": "markdown",
      "metadata": {},
      "source": [
        "Specifying save path\n====================\n\nsave\\_path can be specified as Path(\\\"E:/\\\",\n\\\"pyfluent-examples-tests\\\") or Path(\\\"E:/pyfluent-examples-tests\\\") in\na Windows machine for example, or Path(\\\"\\~/pyfluent-examples-tests\\\")\nin Linux.\n"
      ]
    },
    {
      "cell_type": "code",
      "execution_count": null,
      "metadata": {
        "collapsed": false
      },
      "outputs": [],
      "source": [
        "save_path = Path(pyfluent.EXAMPLES_PATH)"
      ]
    },
    {
      "cell_type": "markdown",
      "metadata": {},
      "source": [
        "Download example file\n=====================\n"
      ]
    },
    {
      "cell_type": "code",
      "execution_count": null,
      "metadata": {
        "collapsed": false
      },
      "outputs": [],
      "source": [
        "import_filename = examples.download_file(\n    \"ablation.msh.h5\", \"pyfluent/examples/Ablation-tutorial\", save_path=save_path\n)"
      ]
    },
    {
      "cell_type": "markdown",
      "metadata": {},
      "source": [
        "Fluent Solution Setup\n=====================\n"
      ]
    },
    {
      "cell_type": "code",
      "execution_count": null,
      "metadata": {
        "collapsed": false
      },
      "outputs": [],
      "source": [
        "from ansys.fluent.visualization import set_config\n\nset_config(blocking=True, set_view_on_display=\"isometric\")"
      ]
    },
    {
      "cell_type": "markdown",
      "metadata": {},
      "source": [
        "Launch Fluent session with solver mode\n======================================\n"
      ]
    },
    {
      "cell_type": "code",
      "execution_count": null,
      "metadata": {
        "collapsed": false
      },
      "outputs": [],
      "source": [
        "session = pyfluent.launch_fluent(version=\"3d\", precision=\"double\", processor_count=4)"
      ]
    },
    {
      "cell_type": "markdown",
      "metadata": {},
      "source": [
        "Import mesh\n===========\n"
      ]
    },
    {
      "cell_type": "code",
      "execution_count": null,
      "metadata": {
        "collapsed": false
      },
      "outputs": [],
      "source": [
        "session.tui.file.read_case(import_filename)"
      ]
    },
    {
      "cell_type": "markdown",
      "metadata": {},
      "source": [
        "Define models\n=============\n"
      ]
    },
    {
      "cell_type": "code",
      "execution_count": null,
      "metadata": {
        "collapsed": false
      },
      "outputs": [],
      "source": [
        "session.tui.define.models.solver.density_based_implicit(\"yes\")\nsession.tui.define.models.unsteady_1st_order(\"yes\")\nsession.tui.define.operating_conditions.operating_pressure(\"0\")\nsession.tui.define.models.energy(\"yes\")\nsession.tui.define.models.ablation(\"yes\")"
      ]
    },
    {
      "cell_type": "markdown",
      "metadata": {},
      "source": [
        "Define material\n===============\n"
      ]
    },
    {
      "cell_type": "code",
      "execution_count": null,
      "metadata": {
        "collapsed": false
      },
      "outputs": [],
      "source": [
        "session.tui.define.materials.change_create(\n    \"air\", \"air\", \"yes\", \"ideal-gas\", \"no\", \"no\", \"no\", \"no\", \"no\", \"no\"\n)"
      ]
    },
    {
      "cell_type": "markdown",
      "metadata": {},
      "source": [
        "Following is alternative Settings API method to define material properties\n==========================================================================\n"
      ]
    },
    {
      "cell_type": "code",
      "execution_count": null,
      "metadata": {
        "collapsed": false
      },
      "outputs": [],
      "source": [
        "session.setup.materials.fluid[\"air\"]()\nsession.setup.materials.fluid[\"air\"] = {\"density\": {\"option\": \"ideal-gas\"}}"
      ]
    },
    {
      "cell_type": "markdown",
      "metadata": {},
      "source": [
        "Define boundary conditions\n==========================\n"
      ]
    },
    {
      "cell_type": "code",
      "execution_count": null,
      "metadata": {
        "collapsed": false
      },
      "outputs": [],
      "source": [
        "session.setup.boundary_conditions.change_type(\n    zone_list=[\"inlet\"], new_type=\"pressure-far-field\"\n)\nsession.setup.boundary_conditions.pressure_far_field[\"inlet\"] = {\n    \"gauge_pressure\": 13500,\n    \"t\": 4500,\n    \"m\": 3,\n    \"turb_intensity\": 0.001,\n}\nsession.setup.boundary_conditions.pressure_outlet[\"outlet\"] = {\n    \"gauge_pressure\": 13500,\n    \"prevent_reverse_flow\": True,\n}"
      ]
    },
    {
      "cell_type": "markdown",
      "metadata": {},
      "source": [
        "Ablation boundary condition (Vielles Model)\n===========================================\n\nOnce you have specified the ablation boundary conditions for the wall,\nAnsys Fluent automatically enables the Dynamic Mesh model with the\nSmoothing and Remeshing options, \\#creates the wall-ablation dynamic\nmesh zone, and configure appropriate dynamic mesh settings.\n"
      ]
    },
    {
      "cell_type": "code",
      "execution_count": null,
      "metadata": {
        "collapsed": false
      },
      "outputs": [],
      "source": [
        "session.setup.boundary_conditions.wall[\"wall_ablation\"] = {\n    \"ablation_select_model\": \"Vielle's Model\",\n    \"ablation_vielle_a\": 5,\n    \"ablation_vielle_n\": 0.1,\n}"
      ]
    },
    {
      "cell_type": "markdown",
      "metadata": {},
      "source": [
        "Define dynamic mesh controls\n============================\n"
      ]
    },
    {
      "cell_type": "code",
      "execution_count": null,
      "metadata": {
        "collapsed": false
      },
      "outputs": [],
      "source": [
        "session.tui.define.dynamic_mesh.dynamic_mesh(\"yes\")\nsession.tui.define.dynamic_mesh.zones.create(\n    \"interior--flow\",\n    \"deforming\",\n    \"faceted\",\n    \"no\",\n    \"no\",\n    \"yes\",\n    \"no\",\n    \"yes\",\n    \"yes\",\n    \"no\",\n    \"yes\",\n)\nsession.tui.define.dynamic_mesh.zones.create(\n    \"outlet\",\n    \"deforming\",\n    \"faceted\",\n    \"no\",\n    \"yes\",\n    \"no\",\n    \"yes\",\n    \"yes\",\n    \"coefficient-based\",\n    \"0.1\",\n    \"yes\",\n)\nsession.tui.define.dynamic_mesh.zones.create(\n    \"symm1\",\n    \"deforming\",\n    \"plane\",\n    \"0\",\n    \"-0.04\",\n    \"0\",\n    \"0\",\n    \"-1\",\n    \"0\",\n    \"no\",\n    \"yes\",\n    \"no\",\n    \"yes\",\n    \"yes\",\n    \"coefficient-based\",\n    \"0.1\",\n    \"yes\",\n)\nsession.tui.define.dynamic_mesh.zones.create(\n    \"symm2\",\n    \"deforming\",\n    \"plane\",\n    \"0\",\n    \"0.04\",\n    \"0\",\n    \"0\",\n    \"1\",\n    \"0\",\n    \"no\",\n    \"yes\",\n    \"no\",\n    \"yes\",\n    \"yes\",\n    \"coefficient-based\",\n    \"0.1\",\n    \"yes\",\n)\nsession.tui.define.dynamic_mesh.zones.create(\n    \"wall_ablation\",\n    \"user-defined\",\n    \"**ablation**\",\n    \"no\",\n    \"no\",\n    \"189\",\n    \"constant\",\n    \"0\",\n    \"yes\",\n    \"yes\",\n    \"0.7\",\n    \"no\",\n    \"no\",\n)"
      ]
    },
    {
      "cell_type": "markdown",
      "metadata": {},
      "source": [
        "Define solver settings\n======================\n"
      ]
    },
    {
      "cell_type": "code",
      "execution_count": null,
      "metadata": {
        "collapsed": false
      },
      "outputs": [],
      "source": [
        "session.tui.define.models.unsteady_2nd_order(\"yes\")\nsession.tui.solve.set.limits(\n    \"1\", \"5e+10\", \"1\", \"25000\", \"1e-14\", \"1e-20\", \"100000\", \"0.2\"\n)\nsession.tui.solve.monitors.residual.convergence_criteria(\n    \"1e-3\", \"1e-3\", \"1e-3\", \"1e-3\", \"1e-6\", \"1e-3\", \"1e-3\"\n)"
      ]
    },
    {
      "cell_type": "markdown",
      "metadata": {},
      "source": [
        "Create report definitions\n=========================\n"
      ]
    },
    {
      "cell_type": "code",
      "execution_count": null,
      "metadata": {
        "collapsed": false
      },
      "outputs": [],
      "source": [
        "session.tui.solve.report_definitions.add(\n    \"drag_force_x\", \"drag\", \"thread-names\", \"wall_ablation\", \"()\", \"scaled?\", \"no\", \"q\"\n)\nsession.tui.solve.report_plots.add(\n    \"drag_force_x\", \"report-defs\", \"drag_force_x\", \"()\", \"q\"\n)\nsession.tui.solve.report_plots.axes(\n    \"drag_force_x\", \"numbers\", \"float\", \"4\", \"exponential\", \"2\", \"q\"\n)\nsession.tui.solve.report_files.add(\n    \"drag_force_x\",\n    \"report-defs\",\n    \"drag_force_x\",\n    \"()\",\n    \"file-name\",\n    \"drag_force_x.out\",\n    \"q\",\n)\nsession.tui.solve.report_definitions.add(\n    \"pressure_avg_abl_wall\",\n    \"surface-areaavg\",\n    \"field\",\n    \"pressure\",\n    \"surface-names\",\n    \"wall_ablation\",\n    \"()\",\n    \"q\",\n)\nsession.tui.solve.report_plots.add(\n    \"pressure_avg_abl_wall\", \"report-defs\", \"pressure_avg_abl_wall\", \"()\", \"q\"\n)\nsession.tui.solve.report_plots.axes(\n    \"pressure_avg_abl_wall\", \"numbers\", \"float\", \"4\", \"exponential\", \"2\", \"q\"\n)\nsession.tui.solve.report_files.add(\n    \"pressure_avg_abl_wall\",\n    \"report-defs\",\n    \"pressure_avg_abl_wall\",\n    \"()\",\n    \"file-name\",\n    \"pressure_avg_abl_wall.out\",\n    \"q\",\n)\nsession.tui.solve.report_definitions.add(\n    \"recede_point\",\n    \"surface-vertexmax\",\n    \"field\",\n    \"z-coordinate\",\n    \"surface-names\",\n    \"wall_ablation\",\n    \"()\",\n    \"q\",\n)\nsession.tui.solve.report_plots.add(\n    \"recede_point\", \"report-defs\", \"recede_point\", \"()\", \"q\"\n)\nsession.tui.solve.report_plots.axes(\n    \"recede_point\", \"numbers\", \"float\", \"4\", \"exponential\", \"2\", \"q\"\n)\nsession.tui.solve.report_files.add(\n    \"recede_point\",\n    \"report-defs\",\n    \"recede_point\",\n    \"()\",\n    \"file-name\",\n    \"recede_point.out\",\n    \"q\",\n)"
      ]
    },
    {
      "cell_type": "markdown",
      "metadata": {},
      "source": [
        "Initialize and Save case\n========================\n"
      ]
    },
    {
      "cell_type": "code",
      "execution_count": null,
      "metadata": {
        "collapsed": false
      },
      "outputs": [],
      "source": [
        "session.tui.solve.initialize.compute_defaults.pressure_far_field(\"inlet\")\nsession.tui.solve.initialize.initialize_flow()\nsession.tui.solve.set.transient_controls.time_step_size(\"1e-6\")\n\nsave_case_data_as = Path(save_path) / \"ablation.cas.h5\"\nsession.tui.file.write_case(save_case_data_as)"
      ]
    },
    {
      "cell_type": "markdown",
      "metadata": {},
      "source": [
        "Run the calculation\n===================\n\nNote: It may take about half an hour to finish the calculation.\n"
      ]
    },
    {
      "cell_type": "code",
      "execution_count": null,
      "metadata": {
        "collapsed": false
      },
      "outputs": [],
      "source": [
        "session.tui.solve.dual_time_iterate(100, 20)"
      ]
    },
    {
      "cell_type": "markdown",
      "metadata": {},
      "source": [
        "Save simulation data\n====================\n\nWrite case and data files\n"
      ]
    },
    {
      "cell_type": "code",
      "execution_count": null,
      "metadata": {
        "collapsed": false
      },
      "outputs": [],
      "source": [
        "save_case_data_as = Path(save_path) / \"ablation_Solved.cas.h5\"\nsession.tui.file.write_case_data(save_case_data_as)"
      ]
    },
    {
      "cell_type": "markdown",
      "metadata": {},
      "source": [
        "Post Processing\n===============\n"
      ]
    },
    {
      "cell_type": "markdown",
      "metadata": {},
      "source": [
        "Display plots\n=============\n"
      ]
    },
    {
      "cell_type": "markdown",
      "metadata": {},
      "source": [
        "![residual](../../_static/ablation-residual.png){.align-center}\n"
      ]
    },
    {
      "cell_type": "markdown",
      "metadata": {},
      "source": [
        "Scaled residual plot\n"
      ]
    },
    {
      "cell_type": "markdown",
      "metadata": {},
      "source": [
        "![Drag force in x direction](../../_static/ablation-drag_force_x.png){.align-center}\n"
      ]
    },
    {
      "cell_type": "markdown",
      "metadata": {},
      "source": [
        "History of the drag force on the ablation wall\n"
      ]
    },
    {
      "cell_type": "markdown",
      "metadata": {},
      "source": [
        "![Average pressure on the ablation wall](../../_static/ablation-avg_pressure.png){.align-center}\n"
      ]
    },
    {
      "cell_type": "markdown",
      "metadata": {},
      "source": [
        "History of the averaged pressure on the ablation wall\n"
      ]
    },
    {
      "cell_type": "markdown",
      "metadata": {},
      "source": [
        "![Recede point (albation)](../../_static/ablation-recede_point.png){.align-center}\n"
      ]
    },
    {
      "cell_type": "markdown",
      "metadata": {},
      "source": [
        "Recede point (deformation due to ablation)\n"
      ]
    },
    {
      "cell_type": "markdown",
      "metadata": {},
      "source": [
        "Display contour\n===============\n\nFollowing contours are displayed in the Fluent GUI:\n"
      ]
    },
    {
      "cell_type": "code",
      "execution_count": null,
      "metadata": {
        "collapsed": false
      },
      "outputs": [],
      "source": [
        "session.tui.display.surface.plane_surface(\"mid_plane\", \"zx-plane\", \"0\")\n\nsession.results.graphics.contour[\"contour_pressure\"] = {\n    \"field\": \"pressure\",\n    \"surfaces_list\": [\"mid_plane\"],\n}\nsession.results.graphics.contour.display(object_name=\"contour_pressure\")\n\nsession.results.graphics.contour[\"contour_mach\"] = {\n    \"field\": \"mach-number\",\n    \"surfaces_list\": [\"mid_plane\"],\n}\nsession.results.graphics.contour.display(object_name=\"contour_mach\")"
      ]
    },
    {
      "cell_type": "markdown",
      "metadata": {},
      "source": [
        "Post processing with PyVista (3D visualization)\n===============================================\n\nFollowing graphics is displayed in the a new window/notebook\n"
      ]
    },
    {
      "cell_type": "code",
      "execution_count": null,
      "metadata": {
        "collapsed": false
      },
      "outputs": [],
      "source": [
        "graphics_session1 = Graphics(session)\ncontour1 = graphics_session1.Contours[\"contour-1\"]\ncontour1.field = \"pressure\"\ncontour1.surfaces_list = [\"mid_plane\"]\ncontour1.display()"
      ]
    },
    {
      "cell_type": "markdown",
      "metadata": {},
      "source": [
        "![Static Pressure Contour](../../_static/ablation-pressure.png){.align-center}\n"
      ]
    },
    {
      "cell_type": "markdown",
      "metadata": {},
      "source": [
        "Static Pressure Contour\n"
      ]
    },
    {
      "cell_type": "code",
      "execution_count": null,
      "metadata": {
        "collapsed": false
      },
      "outputs": [],
      "source": [
        "contour1.field = \"mach-number\"\ncontour1.range.option = \"auto-range-off\"\ncontour1.range.auto_range_off.minimum = 0.5\ncontour1.range.auto_range_off.maximum = 3.0\ncontour1.display()"
      ]
    },
    {
      "cell_type": "markdown",
      "metadata": {},
      "source": [
        "![Mach Number Contour](../../_static/ablation-mach-number.png){.align-center}\n"
      ]
    },
    {
      "cell_type": "markdown",
      "metadata": {},
      "source": [
        "Mach Number Contour\n"
      ]
    },
    {
      "cell_type": "markdown",
      "metadata": {},
      "source": [
        "Close the session\n=================\n"
      ]
    },
    {
      "cell_type": "code",
      "execution_count": null,
      "metadata": {
        "collapsed": false
      },
      "outputs": [],
      "source": [
        "session.exit()\n\n# sphinx_gallery_thumbnail_path = '_static/ablation-mach-number-thumbnail.png'"
      ]
    }
  ],
  "metadata": {
    "kernelspec": {
      "display_name": "Python 3",
      "language": "python",
      "name": "python3"
    },
    "language_info": {
      "codemirror_mode": {
        "name": "ipython",
        "version": 3
      },
      "file_extension": ".py",
      "mimetype": "text/x-python",
      "name": "python",
      "nbconvert_exporter": "python",
      "pygments_lexer": "ipython3",
      "version": "3.9.19"
    }
  },
  "nbformat": 4,
  "nbformat_minor": 0
}