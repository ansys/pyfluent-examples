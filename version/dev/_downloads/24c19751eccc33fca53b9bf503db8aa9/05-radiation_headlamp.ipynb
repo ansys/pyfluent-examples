{
  "cells": [
    {
      "cell_type": "markdown",
      "metadata": {},
      "source": [
        "Modeling Radiation in a Headlamp Using the Monte Carlo Method {#ref_radiation_headlamp}\n=============================================================\n\nThis example solves for the radiative and conductive heat transfer\nwithin a car headlamp exposed to the sun\\'s rays to determine the\nseverity of any hotspots that form. It uses a Monte Carlo radiation\nmodel and the pressure-based solver. This is based on the Fluent\ntutorial titled \\\"Using the Monte Carlo Radiation Model\\\".\n\n**Workflow tasks**\n\nThe Modeling Radiation Using the Monte Carlo Method example guides you\nthrough these tasks:\n\n-   Creation of a mesh using the Watertight Geometry workflow.\n-   Setting up a Monte Carlo radiation model.\n-   Creation of materials with thermal and radiation properties.\n-   Setting boundary conditions for heat transfer and radiation\n    calculations.\n-   Calculating a solution using the pressure-based solver.\n\n**Problem description**\n\nThe problem considers the headlamp of a parked car exposed to sunlight.\nThe lens focuses incoming radiation onto the internal components of the\nheadlamp, producing thermal hotspots that could cause damage due to\nthermal stresses or material degradation.\n"
      ]
    },
    {
      "cell_type": "code",
      "execution_count": null,
      "metadata": {
        "collapsed": false
      },
      "outputs": [],
      "source": [
        "# sphinx_gallery_thumbnail_path = '_static/radiation_headlamp_thumbnail.png'"
      ]
    },
    {
      "cell_type": "markdown",
      "metadata": {},
      "source": [
        "![image](../../_static/radiation_headlamp_geom.png){.align-center\nwidth=\"6.94444in\"}\n"
      ]
    },
    {
      "cell_type": "markdown",
      "metadata": {},
      "source": [
        "Example Setup\n=============\n\nBefore you can use the watertight geometry meshing workflow, you must\nset up the example and initialize this workflow.\n\nPerform required imports\n------------------------\n\nPerform required imports, which includes downloading and importing the\ngeometry files.\n"
      ]
    },
    {
      "cell_type": "code",
      "execution_count": null,
      "metadata": {
        "collapsed": false
      },
      "outputs": [],
      "source": [
        "import ansys.fluent.core as pyfluent\nfrom ansys.fluent.core import examples\n\nheadlamp_spaceclaim_file, headlamp_pmdb_file = [\n    examples.download_file(\n        f, \"pyfluent/radiation_headlamp\", save_path=pyfluent.EXAMPLES_PATH\n    )\n    for f in [\"headlamp.scdoc\", \"headlamp.pmdb\"]\n]"
      ]
    },
    {
      "cell_type": "markdown",
      "metadata": {},
      "source": [
        "Launch Fluent\n=============\n\nLaunch Fluent as a service in meshing mode with single precision running\non four processors.\n"
      ]
    },
    {
      "cell_type": "code",
      "execution_count": null,
      "metadata": {
        "collapsed": false
      },
      "outputs": [],
      "source": [
        "meshing = pyfluent.launch_fluent(\n    precision=\"single\",\n    processor_count=4,\n    mode=\"meshing\",\n    cwd=pyfluent.EXAMPLES_PATH,\n)"
      ]
    },
    {
      "cell_type": "markdown",
      "metadata": {},
      "source": [
        "Initialize workflow\n===================\n\nInitialize the watertight geometry meshing workflow.\n"
      ]
    },
    {
      "cell_type": "code",
      "execution_count": null,
      "metadata": {
        "collapsed": false
      },
      "outputs": [],
      "source": [
        "meshing.workflow.InitializeWorkflow(WorkflowType=\"Watertight Geometry\")"
      ]
    },
    {
      "cell_type": "markdown",
      "metadata": {},
      "source": [
        "Watertight geometry meshing workflow\n====================================\n\nThe fault-tolerant meshing workflow guides you through the several tasks\nthat follow.\n\nImport CAD and set length units\n-------------------------------\n\nImport the CAD geometry and set the length units to millimeters.\n"
      ]
    },
    {
      "cell_type": "code",
      "execution_count": null,
      "metadata": {
        "collapsed": false
      },
      "outputs": [],
      "source": [
        "geo_import = meshing.workflow.TaskObject[\"Import Geometry\"]\ngeo_import.Arguments.set_state(\n    {\n        \"FileName\": headlamp_pmdb_file,\n        \"LengthUnit\": \"mm\",\n    }\n)\n\ngeo_import.Execute()"
      ]
    },
    {
      "cell_type": "markdown",
      "metadata": {},
      "source": [
        "Add local sizing\n================\n\nAdd local sizing controls to the geometry.\n"
      ]
    },
    {
      "cell_type": "code",
      "execution_count": null,
      "metadata": {
        "collapsed": false
      },
      "outputs": [],
      "source": [
        "local_sizing = meshing.workflow.TaskObject[\"Add Local Sizing\"]\nlocal_sizing.Arguments.set_state(\n    {\n        \"AddChild\": \"yes\",\n        \"BOIControlName\": \"boi_lens\",\n        \"BOIExecution\": \"Body Of Influence\",\n        \"BOIFaceLabelList\": [\"boi\"],\n        \"BOISize\": 2,\n    }\n)\n\nlocal_sizing.AddChildAndUpdate()\n\nlocal_sizing.Arguments.set_state(\n    {\n        \"AddChild\": \"yes\",\n        \"BOIControlName\": \"bodysize_lens\",\n        \"BOIExecution\": \"Body Size\",\n        \"BOIFaceLabelList\": [\"lens\"],\n        \"BOISize\": 2,\n    }\n)\n\nlocal_sizing.AddChildAndUpdate()"
      ]
    },
    {
      "cell_type": "markdown",
      "metadata": {},
      "source": [
        "Generate surface mesh\n=====================\n\nGenerate the surface mesh.\n"
      ]
    },
    {
      "cell_type": "code",
      "execution_count": null,
      "metadata": {
        "collapsed": false
      },
      "outputs": [],
      "source": [
        "surface_mesh_gen = meshing.workflow.TaskObject[\"Generate the Surface Mesh\"]\nsurface_mesh_gen.Arguments.set_state(\n    {\n        \"CFDSurfaceMeshControls\": {\n            \"MinSize\": 1,\n            \"MaxSize\": 40,\n        }\n    }\n)\n\nsurface_mesh_gen.Execute()"
      ]
    },
    {
      "cell_type": "markdown",
      "metadata": {},
      "source": [
        "Improve surface mesh\n====================\n\nImprove the surface mesh.\n"
      ]
    },
    {
      "cell_type": "code",
      "execution_count": null,
      "metadata": {
        "collapsed": false
      },
      "outputs": [],
      "source": [
        "surface_mesh_gen.InsertNextTask(CommandName=\"ImproveSurfaceMesh\")\n\nmeshing.workflow.TaskObject[\"Improve Surface Mesh\"].Execute()"
      ]
    },
    {
      "cell_type": "markdown",
      "metadata": {},
      "source": [
        "Describe geometry\n=================\n\nDescribe geometry and define the fluid region.\n"
      ]
    },
    {
      "cell_type": "code",
      "execution_count": null,
      "metadata": {
        "collapsed": false
      },
      "outputs": [],
      "source": [
        "describe_geo = meshing.workflow.TaskObject[\"Describe Geometry\"]\ndescribe_geo.Arguments.set_state(\n    {\n        \"SetupType\": \"The geometry consists of both fluid and solid regions \\\n            and/or voids\",\n        \"CappingRequired\": \"No\",\n        \"WallToInternal\": \"No\",\n        \"InvokeShareTopology\": \"No\",\n        \"Multizone\": \"No\",\n    }\n)\n\ndescribe_geo.Execute()"
      ]
    },
    {
      "cell_type": "markdown",
      "metadata": {},
      "source": [
        "Update boundaries\n=================\n\nUpdate the boundaries.\n"
      ]
    },
    {
      "cell_type": "code",
      "execution_count": null,
      "metadata": {
        "collapsed": false
      },
      "outputs": [],
      "source": [
        "update_bc = meshing.workflow.TaskObject[\"Update Boundaries\"]\nupdate_bc.Arguments.set_state(\n    {\n        \"BoundaryLabelList\": [\"rad-input\"],\n        \"BoundaryLabelTypeList\": [\"wall\"],\n    }\n)\n\nupdate_bc.Execute()"
      ]
    },
    {
      "cell_type": "markdown",
      "metadata": {},
      "source": [
        "Create fluid region\n===================\n\nCreate the fluid region.\n"
      ]
    },
    {
      "cell_type": "code",
      "execution_count": null,
      "metadata": {
        "collapsed": false
      },
      "outputs": [],
      "source": [
        "create_regions = meshing.workflow.TaskObject[\"Create Regions\"]\ncreate_regions.Arguments.set_state({\"NumberOfFlowVolumes\": 1})\n\ncreate_regions.Execute()"
      ]
    },
    {
      "cell_type": "markdown",
      "metadata": {},
      "source": [
        "Update regions\n==============\n\nUpdate the regions.\n"
      ]
    },
    {
      "cell_type": "code",
      "execution_count": null,
      "metadata": {
        "collapsed": false
      },
      "outputs": [],
      "source": [
        "meshing.workflow.TaskObject[\"Update Regions\"].Execute()"
      ]
    },
    {
      "cell_type": "markdown",
      "metadata": {},
      "source": [
        "Boundary layers\n===============\n\nDo not add boundary layers and proceed to the next task.\n"
      ]
    },
    {
      "cell_type": "code",
      "execution_count": null,
      "metadata": {
        "collapsed": false
      },
      "outputs": [],
      "source": [
        "add_boundary_layers = meshing.workflow.TaskObject[\"Add Boundary Layers\"]\nadd_boundary_layers.Arguments.set_state({\"AddChild\": \"no\"})\n\nadd_boundary_layers.Execute()"
      ]
    },
    {
      "cell_type": "markdown",
      "metadata": {},
      "source": [
        "Generate volume mesh\n====================\n\nGenerate the volume mesh, which consists of setting properties for the\nvolume mesh.\n"
      ]
    },
    {
      "cell_type": "code",
      "execution_count": null,
      "metadata": {
        "collapsed": false
      },
      "outputs": [],
      "source": [
        "volume_mesh_gen = meshing.workflow.TaskObject[\"Generate the Volume Mesh\"]\nvolume_mesh_gen.Arguments.set_state(\n    {\n        \"VolumeMeshPreferences\": {\n            \"PolyFeatureAngle\": 40,\n        },\n    },\n)\nvolume_mesh_gen.Execute()"
      ]
    },
    {
      "cell_type": "markdown",
      "metadata": {},
      "source": [
        "Check mesh in meshing mode\n==========================\n\nCheck the mesh in meshing mode.\n"
      ]
    },
    {
      "cell_type": "code",
      "execution_count": null,
      "metadata": {
        "collapsed": false
      },
      "outputs": [],
      "source": [
        "meshing.tui.mesh.check_mesh()"
      ]
    },
    {
      "cell_type": "markdown",
      "metadata": {},
      "source": [
        "Save mesh file\n==============\n\nSave the mesh file (`headlamp.msh.h5`).\n"
      ]
    },
    {
      "cell_type": "code",
      "execution_count": null,
      "metadata": {
        "collapsed": false
      },
      "outputs": [],
      "source": [
        "meshing.tui.file.write_mesh(\"headlamp.msh.h5\")"
      ]
    },
    {
      "cell_type": "markdown",
      "metadata": {},
      "source": [
        "Solve and postprocess\n=====================\n\nOnce you have completed the watertight geometry meshing workflow, you\ncan solve and postprocess the results.\n\nSwitch to solution mode\n-----------------------\n\nSwitch to solution mode. Now that a high-quality mesh has been generated\nusing Fluent in meshing mode, you can switch to solver mode to complete\nthe setup of the simulation.\n"
      ]
    },
    {
      "cell_type": "code",
      "execution_count": null,
      "metadata": {
        "collapsed": false
      },
      "outputs": [],
      "source": [
        "solver = meshing.switch_to_solver()"
      ]
    },
    {
      "cell_type": "markdown",
      "metadata": {},
      "source": [
        "Enable energy and viscosity models\n==================================\n\nSet up the energy and viscosity models.\n"
      ]
    },
    {
      "cell_type": "code",
      "execution_count": null,
      "metadata": {
        "collapsed": false
      },
      "outputs": [],
      "source": [
        "models = solver.setup.models\nmodels.energy.enabled = True\nmodels.viscous.model = \"laminar\""
      ]
    },
    {
      "cell_type": "markdown",
      "metadata": {},
      "source": [
        "Set up radiation model\n======================\n\nSet up the Monte Carlo radiation model. The number of histories is set\nto 10 million in order to reduce computation time, but this may need to\nbe increased to obtain accurate results.\n"
      ]
    },
    {
      "cell_type": "code",
      "execution_count": null,
      "metadata": {
        "collapsed": false
      },
      "outputs": [],
      "source": [
        "radiation = models.radiation\nradiation.model = \"monte-carlo\"\nradiation.monte_carlo.number_of_histories = 1e7\nradiation.solve_frequency.iteration_interval = 20"
      ]
    },
    {
      "cell_type": "markdown",
      "metadata": {},
      "source": [
        "Define materials\n================\n\nCreate materials to represent the glass and plastic parts of the\nheadlamp. To demonstrate two different methods of creating materials\nthrough the settings API, we will create glass using a dictionary and\nplastic using dot syntax.\n"
      ]
    },
    {
      "cell_type": "code",
      "execution_count": null,
      "metadata": {
        "collapsed": false
      },
      "outputs": [],
      "source": [
        "# --- Properties of glass ---\n# Density: 2650 [kg/m^3]\n# Specific heat capacity: 1887 [J/(kg K)]\n# Thermal conductivity: 7.6 [W/(m K)]\n# Absorption coefficient: 5.302\n# Refractive index: 1.4714\n\nglass = solver.setup.materials.solid.create(\"glass\")\nglass.set_state(\n    {\n        \"chemical_formula\": \"\",\n        \"density\": {\n            \"option\": \"constant\",\n            \"value\": 2650,\n        },\n        \"specific_heat\": {\n            \"option\": \"constant\",\n            \"value\": 1887,\n        },\n        \"thermal_conductivity\": {\n            \"option\": \"constant\",\n            \"value\": 7.6,\n        },\n        \"absorption_coefficient\": {\n            \"option\": \"constant\",\n            \"value\": 5.302,\n        },\n        \"refractive_index\": {\n            \"option\": \"constant\",\n            \"value\": 1.4714,\n        },\n    }\n)\n\n# --- Properties of plastic ---\n# Density: 1545.3 [kg/m^3]\n# Specific heat capacity: 2302 [J/(kg K)]\n# Thermal conductivity: 0.316 [W/(m K)]\n\nplastic = solver.setup.materials.solid.create(\"plastic\")\nplastic.chemical_formula = \"\"\nplastic.density.value = 1545.3\nplastic.specific_heat.value = 2302\nplastic.thermal_conductivity.value = 0.316\nplastic.absorption_coefficient.value = 0\nplastic.refractive_index.value = 1"
      ]
    },
    {
      "cell_type": "markdown",
      "metadata": {},
      "source": [
        "Cell Zone Conditions\n====================\n\nSet the cell zone conditions for the bezel and the lens.\n"
      ]
    },
    {
      "cell_type": "code",
      "execution_count": null,
      "metadata": {
        "collapsed": false
      },
      "outputs": [],
      "source": [
        "solver.setup.cell_zone_conditions.solid[\"bezel\"].material = \"plastic\"\nsolver.setup.cell_zone_conditions.copy(\n    from_=\"bezel\",\n    to=[\n        \"holder\",\n        \"housing\",\n        \"inner-bezel\",\n        \"reflector\",\n        \"rim-bezel\",\n        \"seating-steel-rim\",\n    ],\n)\n\nlens_cellzone_conds = solver.setup.cell_zone_conditions.solid[\"lens\"]\nlens_cellzone_conds.material = \"glass\"\nlens_cellzone_conds.radiating = True"
      ]
    },
    {
      "cell_type": "markdown",
      "metadata": {},
      "source": [
        "Boundary Conditions\n===================\n\nSet the boundary conditions.\n"
      ]
    },
    {
      "cell_type": "code",
      "execution_count": null,
      "metadata": {
        "collapsed": false
      },
      "outputs": [],
      "source": [
        "# --- Set up bezel-enclosure BC ---\n# Material: plastic\n# BC type: opaque\n# Internal emissivity: 1\n# Diffuse fraction: 1\n\nbezel_enc_bc = solver.setup.boundary_conditions.wall[\"bezel-enclosure\"]\nbezel_enc_bc.material = \"plastic\"\nbezel_enc_bc.radiation_bc = \"Opaque\"\nbezel_enc_bc.in_emiss = 1\nbezel_enc_bc.band_diffuse_frac = {\"s-\": 1}\n\n# Get list of wall zones\nbc_state = solver.setup.boundary_conditions.get_state()\n\n# Copy bezel-enclosure BC to all other BCs\nsolver.setup.boundary_conditions.copy(\n    from_=\"bezel-enclosure\",\n    to=bc_state[\"wall\"].keys(),\n)\n\n# --- Set up enclosure-lens BC ---\n# Material: glass\n# BC type: semi-transparent\n# Diffuse fraction: 0\n\nenc_lens_bc = solver.setup.boundary_conditions.wall[\"enclosure-lens\"]\nenc_lens_bc.material = \"glass\"\nenc_lens_bc.radiation_bc = \"Semi Transparent\"\nenc_lens_bc.band_diffuse_frac = {\"s-\": 0}\n\n# Copy enclosure-lens BC to other lens boundary\nsolver.setup.boundary_conditions.copy(\n    from_=\"enclosure-lens\",\n    to=[\"enclosure-lens-shadow\"],\n)\n\n# --- Set up enclosure-rim-bezel BC ---\n# Material: plastic\n# BC type: opaque\n# Internal emissivity: 0.16\n# Diffuse fraction: 0.1\n\nenc_rim_bezel_bc = solver.setup.boundary_conditions.wall[\"enclosure-rim-bezel\"]\nenc_rim_bezel_bc.material = \"plastic\"\nenc_rim_bezel_bc.radiation_bc = \"Opaque\"\nenc_rim_bezel_bc.in_emiss = 0.16\nenc_rim_bezel_bc.band_diffuse_frac = {\"s-\": 0.1}\n\n# Copy enclosure-rim-bezel BC to other rim bezel boundaries\nsolver.setup.boundary_conditions.copy(\n    from_=\"enclosure-rim-bezel\",\n    to=[\n        \"enclosure-rim-bezel-shadow\",\n        \"holder-rim-bezel\",\n        \"holder-rim-bezel-shadow\",\n        \"housing-rim-bezel\",\n        \"housing-rim-bezel-shadow\",\n    ],\n)\n\n# --- Set up enclosure:1 (domain boundaries) BC ---\n# BC type: temperature\n# Temperature: 298.15 [K]\n\nenc1_bc = solver.setup.boundary_conditions.wall[\"enclosure:1\"]\nenc1_bc.thermal_bc = \"Temperature\"\nenc1_bc.t = 298.15\n\n# --- Set up radiation input BC ---\n# BC type: temperature\n# Temperature: 298.15 [K]\n# Boundary source: yes\n# Direct irradiation: 1200 [W/m^2]\n# Radiation direction: (-0.848, 0, -0.53)\n\nrad_inp_bc = solver.setup.boundary_conditions.wall[\"rad-input\"]\nrad_inp_bc.thermal_bc = \"Temperature\"\nrad_inp_bc.t = 298.15\nrad_inp_bc.mc_bsource_p = True\nrad_inp_bc.band_q_irrad = {\n    \"s-\": {\n        \"option\": \"value\",\n        \"value\": 1200,\n    }\n}\nrad_inp_bc.radiation_direction = [-0.848, 0, -0.53]"
      ]
    },
    {
      "cell_type": "markdown",
      "metadata": {},
      "source": [
        "Set convergence criteria\n========================\n\nEnable residual plots and set the convergence criteria to \\'none\\'.\n"
      ]
    },
    {
      "cell_type": "code",
      "execution_count": null,
      "metadata": {
        "collapsed": false
      },
      "outputs": [],
      "source": [
        "solver.tui.solve.monitors.residual.plot(\"yes\")\nsolver.tui.solve.monitors.residual.criterion_type(\"3\")"
      ]
    },
    {
      "cell_type": "markdown",
      "metadata": {},
      "source": [
        "Define surface reports\n======================\n\nDefine a surface report to find the maximum temperature of the inner\nbezel, then print the state of the report object.\n"
      ]
    },
    {
      "cell_type": "code",
      "execution_count": null,
      "metadata": {
        "collapsed": false
      },
      "outputs": [],
      "source": [
        "solver.solution.report_definitions.surface[\"max-temp\"] = {}\nmax_temp_surf_report = solver.solution.report_definitions.surface[\"max-temp\"]\nmax_temp_surf_report.surface_names = [\"enclosure-inner-bezel\"]\nmax_temp_surf_report.report_type = \"surface-facetmax\"\nmax_temp_surf_report.field = \"temperature\"\n\nmax_temp_surf_report.print_state()"
      ]
    },
    {
      "cell_type": "markdown",
      "metadata": {},
      "source": [
        "Define report plots\n===================\n\nDefine a plot of the maximum temperature.\n"
      ]
    },
    {
      "cell_type": "code",
      "execution_count": null,
      "metadata": {
        "collapsed": false
      },
      "outputs": [],
      "source": [
        "solver.solution.monitor.report_plots[\"max-temp-rplot\"] = {}\nmax_temp_rplot = solver.solution.monitor.report_plots[\"max-temp-rplot\"]\nmax_temp_rplot.report_defs = \"max-temp\"\nmax_temp_rplot.print = True"
      ]
    },
    {
      "cell_type": "markdown",
      "metadata": {},
      "source": [
        "Save case file\n==============\n\nSave the case file (`headlamp.cas.h5`).\n"
      ]
    },
    {
      "cell_type": "code",
      "execution_count": null,
      "metadata": {
        "collapsed": false
      },
      "outputs": [],
      "source": [
        "solver.file.write(file_name=\"headlamp.cas.h5\", file_type=\"case\")"
      ]
    },
    {
      "cell_type": "markdown",
      "metadata": {},
      "source": [
        "Initialize flow field\n=====================\n\nInitialize the solution.\n"
      ]
    },
    {
      "cell_type": "code",
      "execution_count": null,
      "metadata": {
        "collapsed": false
      },
      "outputs": [],
      "source": [
        "solver.solution.initialization.initialize()"
      ]
    },
    {
      "cell_type": "markdown",
      "metadata": {},
      "source": [
        "Solve for 19 iterations\n=======================\n\nSolve for 19 iterations. 99 iterations is recommended by the tutorial,\nbut is reduced to 19 for this example for demonstration purposes.\n"
      ]
    },
    {
      "cell_type": "code",
      "execution_count": null,
      "metadata": {
        "collapsed": false
      },
      "outputs": [],
      "source": [
        "solver.solution.run_calculation.iterate(iter_count=19)"
      ]
    },
    {
      "cell_type": "markdown",
      "metadata": {},
      "source": [
        "Write final case file and data\n==============================\n\nEnable overwrite so that the original case file will be overwritten.\nWrite the final case file and the data.\n"
      ]
    },
    {
      "cell_type": "code",
      "execution_count": null,
      "metadata": {
        "collapsed": false
      },
      "outputs": [],
      "source": [
        "solver.file.confirm_overwrite = True\nsolver.file.write(file_name=\"headlamp.cas.h5\", file_type=\"case-data\")"
      ]
    },
    {
      "cell_type": "markdown",
      "metadata": {},
      "source": [
        "Close Fluent\n============\n\nClose Fluent.\n"
      ]
    },
    {
      "cell_type": "code",
      "execution_count": null,
      "metadata": {
        "collapsed": false
      },
      "outputs": [],
      "source": [
        "solver.exit()"
      ]
    }
  ],
  "metadata": {
    "kernelspec": {
      "display_name": "Python 3",
      "language": "python",
      "name": "python3"
    },
    "language_info": {
      "codemirror_mode": {
        "name": "ipython",
        "version": 3
      },
      "file_extension": ".py",
      "mimetype": "text/x-python",
      "name": "python",
      "nbconvert_exporter": "python",
      "pygments_lexer": "ipython3",
      "version": "3.9.19"
    }
  },
  "nbformat": 4,
  "nbformat_minor": 0
}