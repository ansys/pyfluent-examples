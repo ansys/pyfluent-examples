{
  "cells": [
    {
      "cell_type": "markdown",
      "metadata": {},
      "source": [
        "Ahmed Body External Aerodynamics Simulation {#ahmed_body_simulation}\n===========================================\n"
      ]
    },
    {
      "cell_type": "markdown",
      "metadata": {},
      "source": [
        "Objective\n=========\n\nAhmed body is a simplified car model used for studying the flow around\nit and to predict the drag and lift forces. The model consists of a\nslanted back and a blunt front.\n\nIn this example, PyFluent API is used to perform Ahmed Body external\naerodynamics simulation. which includes typical workflow of CFD\nSimulation as follows:\n\n-   Importing the geometry/CAD model.\n-   Meshing the geometry.\n-   Setting up the solver.\n-   Running the solver.\n-   Post-processing the results.\n\n![Ahmed Body Model](../../_static/ahmed_body_model.png){.align-center}\n"
      ]
    },
    {
      "cell_type": "markdown",
      "metadata": {},
      "source": [
        "Import required libraries/modules\n=================================\n"
      ]
    },
    {
      "cell_type": "code",
      "execution_count": null,
      "metadata": {
        "collapsed": false
      },
      "outputs": [],
      "source": [
        "from pathlib import Path\n\nimport ansys.fluent.core as pyfluent\nfrom ansys.fluent.core import examples\n\ntry:\n    import ansys.fluent.visualization.pyvista as pv\nexcept ImportError:\n    import ansys.fluent.post.pyvista as pv\n\nfrom ansys.fluent.visualization import set_config"
      ]
    },
    {
      "cell_type": "markdown",
      "metadata": {},
      "source": [
        "Specifying save path\n====================\n\nsave\\_path can be specified as Path(\\\"E:/\\\",\n\\\"pyfluent-examples-tests\\\") or Path(\\\"E:/pyfluent-examples-tests\\\") in\na Windows machine for example, or Path(\\\"\\~/pyfluent-examples-tests\\\")\nin Linux.\n"
      ]
    },
    {
      "cell_type": "code",
      "execution_count": null,
      "metadata": {
        "collapsed": false
      },
      "outputs": [],
      "source": [
        "save_path = Path(pyfluent.EXAMPLES_PATH)"
      ]
    },
    {
      "cell_type": "markdown",
      "metadata": {},
      "source": [
        "Configure specific settings for this example\n============================================\n"
      ]
    },
    {
      "cell_type": "code",
      "execution_count": null,
      "metadata": {
        "collapsed": false
      },
      "outputs": [],
      "source": [
        "set_config(blocking=True, set_view_on_display=\"isometric\")"
      ]
    },
    {
      "cell_type": "markdown",
      "metadata": {},
      "source": [
        "Launch Fluent session with meshing mode\n=======================================\n"
      ]
    },
    {
      "cell_type": "code",
      "execution_count": null,
      "metadata": {
        "collapsed": false
      },
      "outputs": [],
      "source": [
        "session = pyfluent.launch_fluent(mode=\"meshing\", cleanup_on_exit=True)\nsession.check_health()"
      ]
    },
    {
      "cell_type": "markdown",
      "metadata": {},
      "source": [
        "Meshing Workflow\n================\n"
      ]
    },
    {
      "cell_type": "markdown",
      "metadata": {},
      "source": [
        "Initialize the Meshing Workflow\n===============================\n"
      ]
    },
    {
      "cell_type": "code",
      "execution_count": null,
      "metadata": {
        "collapsed": false
      },
      "outputs": [],
      "source": [
        "workflow = session.workflow\ngeometry_filename = examples.download_file(\n    \"ahmed_body_20_0degree_boi_half.scdoc\",\n    \"pyfluent/examples/Ahmed-Body-Simulation\",\n    save_path=save_path,\n)\nworkflow.InitializeWorkflow(WorkflowType=\"Watertight Geometry\")\nworkflow.TaskObject[\"Import Geometry\"].Arguments = dict(FileName=geometry_filename)\nworkflow.TaskObject[\"Import Geometry\"].Execute()"
      ]
    },
    {
      "cell_type": "markdown",
      "metadata": {},
      "source": [
        "Add Local Face Sizing\n=====================\n"
      ]
    },
    {
      "cell_type": "code",
      "execution_count": null,
      "metadata": {
        "collapsed": false
      },
      "outputs": [],
      "source": [
        "add_local_sizing = workflow.TaskObject[\"Add Local Sizing\"]\nadd_local_sizing.Arguments = dict(\n    {\n        \"AddChild\": \"yes\",\n        \"BOIControlName\": \"facesize_front\",\n        \"BOIFaceLabelList\": [\"wall_ahmed_body_front\"],\n        \"BOIGrowthRate\": 1.15,\n        \"BOISize\": 8,\n    }\n)\nadd_local_sizing.Execute()\n\nadd_local_sizing.InsertCompoundChildTask()\nworkflow.TaskObject[\"Add Local Sizing\"].Execute()\nadd_local_sizing = workflow.TaskObject[\"Add Local Sizing\"]\nadd_local_sizing.Arguments = dict(\n    {\n        \"AddChild\": \"yes\",\n        \"BOIControlName\": \"facesize_rear\",\n        \"BOIFaceLabelList\": [\"wall_ahmed_body_rear\"],\n        \"BOIGrowthRate\": 1.15,\n        \"BOISize\": 5,\n    }\n)\nadd_local_sizing.Execute()\n\nadd_local_sizing.InsertCompoundChildTask()\nworkflow.TaskObject[\"Add Local Sizing\"].Execute()\nadd_local_sizing = workflow.TaskObject[\"Add Local Sizing\"]\nadd_local_sizing.Arguments = dict(\n    {\n        \"AddChild\": \"yes\",\n        \"BOIControlName\": \"facesize_main\",\n        \"BOIFaceLabelList\": [\"wall_ahmed_body_main\"],\n        \"BOIGrowthRate\": 1.15,\n        \"BOISize\": 12,\n    }\n)\nadd_local_sizing.Execute()"
      ]
    },
    {
      "cell_type": "markdown",
      "metadata": {},
      "source": [
        "Add BOI (Body of Influence) Sizing\n==================================\n"
      ]
    },
    {
      "cell_type": "code",
      "execution_count": null,
      "metadata": {
        "collapsed": false
      },
      "outputs": [],
      "source": [
        "add_boi_sizing = workflow.TaskObject[\"Add Local Sizing\"]\nadd_boi_sizing.InsertCompoundChildTask()\nadd_boi_sizing.Arguments = dict(\n    {\n        \"AddChild\": \"yes\",\n        \"BOIControlName\": \"boi_1\",\n        \"BOIExecution\": \"Body Of Influence\",\n        \"BOIFaceLabelList\": [\"ahmed_body_20_0degree_boi_half-boi\"],\n        \"BOISize\": 20,\n    }\n)\nadd_boi_sizing.Execute()\nadd_boi_sizing.InsertCompoundChildTask()"
      ]
    },
    {
      "cell_type": "markdown",
      "metadata": {},
      "source": [
        "Add Surface Mesh Sizing\n=======================\n"
      ]
    },
    {
      "cell_type": "code",
      "execution_count": null,
      "metadata": {
        "collapsed": false
      },
      "outputs": [],
      "source": [
        "generate_surface_mesh = workflow.TaskObject[\"Generate the Surface Mesh\"]\ngenerate_surface_mesh.Arguments = dict(\n    {\n        \"CFDSurfaceMeshControls\": {\n            \"CurvatureNormalAngle\": 12,\n            \"GrowthRate\": 1.15,\n            \"MaxSize\": 50,\n            \"MinSize\": 1,\n            \"SizeFunctions\": \"Curvature\",\n        }\n    }\n)\n\ngenerate_surface_mesh.Execute()\ngenerate_surface_mesh.InsertNextTask(CommandName=\"ImproveSurfaceMesh\")\nimprove_surface_mesh = workflow.TaskObject[\"Improve Surface Mesh\"]\nimprove_surface_mesh.Arguments.update_dict({\"FaceQualityLimit\": 0.4})\nimprove_surface_mesh.Execute()"
      ]
    },
    {
      "cell_type": "markdown",
      "metadata": {},
      "source": [
        "Describe Geometry, Update Boundaries, Update Regions\n====================================================\n"
      ]
    },
    {
      "cell_type": "code",
      "execution_count": null,
      "metadata": {
        "collapsed": false
      },
      "outputs": [],
      "source": [
        "workflow.TaskObject[\"Describe Geometry\"].Arguments = dict(\n    CappingRequired=\"Yes\",\n    SetupType=\"The geometry consists of only fluid regions with no voids\",\n)\nworkflow.TaskObject[\"Describe Geometry\"].Execute()\nworkflow.TaskObject[\"Update Boundaries\"].Execute()\nworkflow.TaskObject[\"Update Regions\"].Execute()"
      ]
    },
    {
      "cell_type": "markdown",
      "metadata": {},
      "source": [
        "Add Boundary Layers\n===================\n"
      ]
    },
    {
      "cell_type": "code",
      "execution_count": null,
      "metadata": {
        "collapsed": false
      },
      "outputs": [],
      "source": [
        "add_boundary_layers = workflow.TaskObject[\"Add Boundary Layers\"]\nadd_boundary_layers.AddChildToTask()\nadd_boundary_layers.InsertCompoundChildTask()\nworkflow.TaskObject[\"smooth-transition_1\"].Arguments.update_dict(\n    {\n        \"BLControlName\": \"smooth-transition_1\",\n        \"NumberOfLayers\": 14,\n        \"Rate\": 1.15,\n        \"TransitionRatio\": 0.5,\n    }\n)\nadd_boundary_layers.Execute()"
      ]
    },
    {
      "cell_type": "markdown",
      "metadata": {},
      "source": [
        "Generate the Volume Mesh\n========================\n"
      ]
    },
    {
      "cell_type": "code",
      "execution_count": null,
      "metadata": {
        "collapsed": false
      },
      "outputs": [],
      "source": [
        "generate_volume_mesh = workflow.TaskObject[\"Generate the Volume Mesh\"]\ngenerate_volume_mesh.Arguments.update_dict({\"VolumeFill\": \"poly-hexcore\"})\ngenerate_volume_mesh.Execute()"
      ]
    },
    {
      "cell_type": "markdown",
      "metadata": {},
      "source": [
        "Switch to the Solver Mode\n=========================\n"
      ]
    },
    {
      "cell_type": "code",
      "execution_count": null,
      "metadata": {
        "collapsed": false
      },
      "outputs": [],
      "source": [
        "session = session.switch_to_solver()"
      ]
    },
    {
      "cell_type": "markdown",
      "metadata": {},
      "source": [
        "Mesh Visualization\n==================\n"
      ]
    },
    {
      "cell_type": "markdown",
      "metadata": {},
      "source": [
        "![Ahmed Body Mesh](../../_static/ahmed_body_mesh_1.png){.align-center}\n"
      ]
    },
    {
      "cell_type": "markdown",
      "metadata": {},
      "source": [
        "![Ahmed Body Mesh](../../_static/ahmed_body_mesh_2.png){.align-center}\n"
      ]
    },
    {
      "cell_type": "markdown",
      "metadata": {},
      "source": [
        "Solver Setup and Solve Workflow\n===============================\n"
      ]
    },
    {
      "cell_type": "markdown",
      "metadata": {},
      "source": [
        "Define Constants\n================\n"
      ]
    },
    {
      "cell_type": "code",
      "execution_count": null,
      "metadata": {
        "collapsed": false
      },
      "outputs": [],
      "source": [
        "density = 1.225\ninlet_velocity = 30\ninlet_area = 0.11203202"
      ]
    },
    {
      "cell_type": "markdown",
      "metadata": {},
      "source": [
        "Define Materials\n================\n"
      ]
    },
    {
      "cell_type": "code",
      "execution_count": null,
      "metadata": {
        "collapsed": false
      },
      "outputs": [],
      "source": [
        "session.tui.define.materials.change_create(\"air\", \"air\", \"yes\", \"constant\", density)\nsession.tui.define.models.viscous.ke_realizable(\"yes\")\nsession.tui.define.models.viscous.curvature_correction(\"yes\")"
      ]
    },
    {
      "cell_type": "markdown",
      "metadata": {},
      "source": [
        "Define Boundary Conditions\n==========================\n"
      ]
    },
    {
      "cell_type": "code",
      "execution_count": null,
      "metadata": {
        "collapsed": false
      },
      "outputs": [],
      "source": [
        "inlet = session.setup.boundary_conditions.velocity_inlet[\"inlet\"]\ninlet.turb_intensity = 0.05\ninlet.vmag = inlet_velocity\ninlet.turb_viscosity_ratio = 5\n\noutlet = session.setup.boundary_conditions.pressure_outlet[\"outlet\"]\noutlet.turb_intensity = 0.05"
      ]
    },
    {
      "cell_type": "markdown",
      "metadata": {},
      "source": [
        "Define Reference Values\n=======================\n"
      ]
    },
    {
      "cell_type": "code",
      "execution_count": null,
      "metadata": {
        "collapsed": false
      },
      "outputs": [],
      "source": [
        "session.tui.report.reference_values.area(inlet_area)\nsession.tui.report.reference_values.density(density)\nsession.tui.report.reference_values.velocity(inlet_velocity)"
      ]
    },
    {
      "cell_type": "markdown",
      "metadata": {},
      "source": [
        "Define Solver Settings\n======================\n"
      ]
    },
    {
      "cell_type": "code",
      "execution_count": null,
      "metadata": {
        "collapsed": false
      },
      "outputs": [],
      "source": [
        "session.tui.solve.set.p_v_coupling(24)\n\nsession.tui.solve.set.discretization_scheme(\"pressure\", 12)\nsession.tui.solve.set.discretization_scheme(\"k\", 1)\nsession.tui.solve.set.discretization_scheme(\"epsilon\", 1)\nsession.tui.solve.initialize.set_defaults(\"k\", 0.000001)\n\nsession.tui.solve.monitors.residual.convergence_criteria(\n    0.0001, 0.0001, 0.0001, 0.0001, 0.0001, 0.0001\n)"
      ]
    },
    {
      "cell_type": "markdown",
      "metadata": {},
      "source": [
        "Define Report Definitions\n=========================\n"
      ]
    },
    {
      "cell_type": "code",
      "execution_count": null,
      "metadata": {
        "collapsed": false
      },
      "outputs": [],
      "source": [
        "session.tui.solve.report_definitions.add(\n    \"cd-mon1\",\n    \"drag\",\n    \"thread-names\",\n    \"*ahmed*\",\n    \"()\",\n    \"scaled?\",\n    \"yes\",\n    \"force-vector\",\n    \"0 0 1\",\n    \"q\",\n)\nsession.tui.define.parameters.output_parameters.create(\"report-definition\", \"cd-mon1\")\nsession.tui.solve.report_plots.add(\"cd-mon1\", \"report-defs\", \"cd-mon1\", \"()\", \"q\")"
      ]
    },
    {
      "cell_type": "markdown",
      "metadata": {},
      "source": [
        "Initialize and Run Solver\n=========================\n"
      ]
    },
    {
      "cell_type": "code",
      "execution_count": null,
      "metadata": {
        "collapsed": false
      },
      "outputs": [],
      "source": [
        "session.tui.solve.set.number_of_iterations(5)\nsession.tui.solve.initialize.initialize_flow()\nsession.tui.solve.iterate()"
      ]
    },
    {
      "cell_type": "markdown",
      "metadata": {},
      "source": [
        "Post-Processing Workflow\n========================\n"
      ]
    },
    {
      "cell_type": "code",
      "execution_count": null,
      "metadata": {
        "collapsed": false
      },
      "outputs": [],
      "source": [
        "session.tui.surface.iso_surface(\"x-coordinate\", \"xmid\", \"()\", \"()\", 0, \"()\")\ngraphics_session1 = pv.Graphics(session)\ncontour1 = graphics_session1.Contours[\"contour-1\"]\ncontour1.field = \"velocity-magnitude\"\ncontour1.surfaces_list = [\"xmid\"]\ncontour1.display(\"window-1\")\n\ncontour2 = graphics_session1.Contours[\"contour-2\"]\ncontour2.field.allowed_values\ncontour2.field = \"pressure-coefficient\"\ncontour2.surfaces_list = [\"xmid\"]\ncontour2.display(\"window-2\")"
      ]
    },
    {
      "cell_type": "markdown",
      "metadata": {},
      "source": [
        "Simulation Results Visualization\n================================\n"
      ]
    },
    {
      "cell_type": "markdown",
      "metadata": {},
      "source": [
        "![Velocity Magnitude](../../_static/ahmed_body_model_velocity_mag.png){.align-center}\n"
      ]
    },
    {
      "cell_type": "markdown",
      "metadata": {},
      "source": [
        "Velocity Magnitude Contour\n"
      ]
    },
    {
      "cell_type": "markdown",
      "metadata": {},
      "source": [
        "![Peressure Coefficient](../../_static/ahmed_body_model_pressure_coeff.png){.align-center}\n"
      ]
    },
    {
      "cell_type": "markdown",
      "metadata": {},
      "source": [
        "Pressure Coefficient Contour\n"
      ]
    },
    {
      "cell_type": "markdown",
      "metadata": {},
      "source": [
        "Save the case file\n==================\n"
      ]
    },
    {
      "cell_type": "code",
      "execution_count": null,
      "metadata": {
        "collapsed": false
      },
      "outputs": [],
      "source": [
        "save_case_data_as = Path(save_path) / \"ahmed_body_final.cas.h5\"\nsession.tui.file.write_case_data(save_case_data_as)"
      ]
    },
    {
      "cell_type": "markdown",
      "metadata": {},
      "source": [
        "Close the session\n=================\n"
      ]
    },
    {
      "cell_type": "code",
      "execution_count": null,
      "metadata": {
        "collapsed": false
      },
      "outputs": [],
      "source": [
        "session.exit()"
      ]
    },
    {
      "cell_type": "markdown",
      "metadata": {},
      "source": [
        "References\n==========\n\n\\[1\\] S.R. Ahmed, G. Ramm, Some Salient Features of the Time-Averaged\nGround Vehicle Wake,SAE-Paper 840300,1984\n"
      ]
    },
    {
      "cell_type": "code",
      "execution_count": null,
      "metadata": {
        "collapsed": false
      },
      "outputs": [],
      "source": [
        "# sphinx_gallery_thumbnail_path = '_static/ahmed_body_model_pressure_coeff.png'"
      ]
    }
  ],
  "metadata": {
    "kernelspec": {
      "display_name": "Python 3",
      "language": "python",
      "name": "python3"
    },
    "language_info": {
      "codemirror_mode": {
        "name": "ipython",
        "version": 3
      },
      "file_extension": ".py",
      "mimetype": "text/x-python",
      "name": "python",
      "nbconvert_exporter": "python",
      "pygments_lexer": "ipython3",
      "version": "3.9.19"
    }
  },
  "nbformat": 4,
  "nbformat_minor": 0
}