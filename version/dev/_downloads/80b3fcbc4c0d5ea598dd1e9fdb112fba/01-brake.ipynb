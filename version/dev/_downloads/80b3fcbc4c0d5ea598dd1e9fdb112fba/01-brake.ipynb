{
  "cells": [
    {
      "cell_type": "markdown",
      "metadata": {},
      "source": [
        "Automotive Brake Thermal Analysis\n=================================\n\nObjective:\n----------\n\nBraking surfaces get heated due to frictional heating during braking.\nHigh temperature affects the braking performance and life of the braking\nsystem. This example demonstrates:\n\n-   Fluent setup and simulation using PyFluent\n-   Post processing using PyVista (3D Viewer) and Matplotlib (2D graphs)\n"
      ]
    },
    {
      "cell_type": "markdown",
      "metadata": {},
      "source": [
        "Import required libraries/modules\n=================================\n"
      ]
    },
    {
      "cell_type": "code",
      "execution_count": null,
      "metadata": {
        "collapsed": false
      },
      "outputs": [],
      "source": [
        "import csv\nfrom pathlib import Path\n\nimport ansys.fluent.core as pyfluent\nfrom ansys.fluent.core import examples"
      ]
    },
    {
      "cell_type": "markdown",
      "metadata": {},
      "source": [
        "PyVista\n=======\n"
      ]
    },
    {
      "cell_type": "code",
      "execution_count": null,
      "metadata": {
        "collapsed": false
      },
      "outputs": [],
      "source": [
        "import ansys.fluent.visualization.pyvista as pv"
      ]
    },
    {
      "cell_type": "markdown",
      "metadata": {},
      "source": [
        "Matplotlib\n==========\n"
      ]
    },
    {
      "cell_type": "code",
      "execution_count": null,
      "metadata": {
        "collapsed": false
      },
      "outputs": [],
      "source": [
        "import matplotlib.pyplot as plt"
      ]
    },
    {
      "cell_type": "markdown",
      "metadata": {},
      "source": [
        "Specifying save path\n====================\n\nsave\\_path can be specified as Path(\\\"E:/\\\",\n\\\"pyfluent-examples-tests\\\") or Path(\\\"E:/pyfluent-examples-tests\\\") in\na Windows machine for example, or Path(\\\"\\~/pyfluent-examples-tests\\\")\nin Linux.\n"
      ]
    },
    {
      "cell_type": "code",
      "execution_count": null,
      "metadata": {
        "collapsed": false
      },
      "outputs": [],
      "source": [
        "save_path = Path(pyfluent.EXAMPLES_PATH)\n\nimport_filename = examples.download_file(\n    \"brake.msh\",\n    \"pyfluent/examples/Brake-Thermal-PyVista-Matplotlib\",\n    save_path=save_path,\n)"
      ]
    },
    {
      "cell_type": "markdown",
      "metadata": {},
      "source": [
        "Fluent Solution Setup\n=====================\n"
      ]
    },
    {
      "cell_type": "markdown",
      "metadata": {},
      "source": [
        "Launch Fluent session with solver mode\n======================================\n"
      ]
    },
    {
      "cell_type": "code",
      "execution_count": null,
      "metadata": {
        "collapsed": false
      },
      "outputs": [],
      "source": [
        "session = pyfluent.launch_fluent(\n    mode=\"solver\", show_gui=False, version=\"3ddp\", precision=\"double\", processor_count=2\n)\nsession.check_health()"
      ]
    },
    {
      "cell_type": "markdown",
      "metadata": {},
      "source": [
        "Import mesh\n===========\n"
      ]
    },
    {
      "cell_type": "code",
      "execution_count": null,
      "metadata": {
        "collapsed": false
      },
      "outputs": [],
      "source": [
        "session.tui.file.read_case(import_filename)"
      ]
    },
    {
      "cell_type": "markdown",
      "metadata": {},
      "source": [
        "Define models and material\n==========================\n"
      ]
    },
    {
      "cell_type": "code",
      "execution_count": null,
      "metadata": {
        "collapsed": false
      },
      "outputs": [],
      "source": [
        "session.tui.define.models.energy(\"yes\", \"no\", \"no\", \"no\", \"yes\")\nsession.tui.define.models.unsteady_2nd_order_bounded(\"Yes\")\nsession.tui.define.materials.copy(\"solid\", \"steel\")"
      ]
    },
    {
      "cell_type": "markdown",
      "metadata": {},
      "source": [
        "Solve only energy equation (conduction)\n=======================================\n"
      ]
    },
    {
      "cell_type": "code",
      "execution_count": null,
      "metadata": {
        "collapsed": false
      },
      "outputs": [],
      "source": [
        "session.tui.solve.set.equations(\"flow\", \"no\", \"kw\", \"no\")"
      ]
    },
    {
      "cell_type": "markdown",
      "metadata": {},
      "source": [
        "Define disc rotation\n====================\n\n(15.79 rps corresponds to 100 km/h car speed with 0.28 m of axis height\nfrom ground)\n"
      ]
    },
    {
      "cell_type": "code",
      "execution_count": null,
      "metadata": {
        "collapsed": false
      },
      "outputs": [],
      "source": [
        "session.tui.define.boundary_conditions.set.solid(\n    \"disc1\",\n    \"disc2\",\n    \"()\",\n    \"solid-motion?\",\n    \"yes\",\n    \"solid-omega\",\n    \"no\",\n    -15.79,\n    \"solid-x-origin\",\n    \"no\",\n    -0.035,\n    \"solid-y-origin\",\n    \"no\",\n    -0.821,\n    \"solid-z-origin\",\n    \"no\",\n    0.045,\n    \"solid-ai\",\n    \"no\",\n    0,\n    \"solid-aj\",\n    \"no\",\n    1,\n    \"solid-ak\",\n    \"no\",\n    0,\n    \"q\",\n)"
      ]
    },
    {
      "cell_type": "markdown",
      "metadata": {},
      "source": [
        "Apply frictional heating on pad-disc surfaces\n=============================================\n\nWall thickness 0f 2 mm has been assumed and 2e9 w/m3 is the heat\ngeneration which has been calculated from kinetic energy change due to\nbraking.\n"
      ]
    },
    {
      "cell_type": "code",
      "execution_count": null,
      "metadata": {
        "collapsed": false
      },
      "outputs": [],
      "source": [
        "session.tui.define.boundary_conditions.set.wall(\n    \"wall_pad-disc1\",\n    \"wall-pad-disc2\",\n    \"()\",\n    \"wall-thickness\",\n    0.002,\n    \"q-dot\",\n    \"no\",\n    2e9,\n    \"q\",\n)"
      ]
    },
    {
      "cell_type": "markdown",
      "metadata": {},
      "source": [
        "Apply convection cooling on outer surfaces due to air flow\n==========================================================\n\nOuter surfaces are applied a constant htc of 100 W/(m2 K) and 300 K free\nstream temperature\n"
      ]
    },
    {
      "cell_type": "code",
      "execution_count": null,
      "metadata": {
        "collapsed": false
      },
      "outputs": [],
      "source": [
        "session.tui.define.boundary_conditions.set.wall(\n    \"wall-disc*\",\n    \"wall-geom*\",\n    \"()\",\n    \"thermal-bc\",\n    \"yes\",\n    \"convection\",\n    \"convective-heat-transfer-coefficient\",\n    \"no\",\n    100,\n    \"q\",\n)"
      ]
    },
    {
      "cell_type": "markdown",
      "metadata": {},
      "source": [
        "Initialize\n==========\n\nInitialize with 300 K temperature\n"
      ]
    },
    {
      "cell_type": "code",
      "execution_count": null,
      "metadata": {
        "collapsed": false
      },
      "outputs": [],
      "source": [
        "session.tui.solve.initialize.initialize_flow()"
      ]
    },
    {
      "cell_type": "markdown",
      "metadata": {},
      "source": [
        "Post processing setup\n=====================\n\n-   Report definitions and monitor plots\n-   Set contour plot properties\n-   Set views and camera\n-   Set animation object\n"
      ]
    },
    {
      "cell_type": "code",
      "execution_count": null,
      "metadata": {
        "collapsed": false
      },
      "outputs": [],
      "source": [
        "session.tui.solve.report_definitions.add(\n    \"max-pad-temperature\",\n    \"volume-max\",\n    \"field\",\n    \"temperature\",\n    \"zone-names\",\n    \"geom-1-innerpad\",\n    \"geom-1-outerpad\",\n)\nsession.tui.solve.report_definitions.add(\n    \"max-disc-temperature\",\n    \"volume-max\",\n    \"field\",\n    \"temperature\",\n    \"zone-names\",\n    \"disc1\",\n    \"disc2\",\n)\n\nsession.tui.solve.report_plots.add(\n    \"max-temperature\",\n    \"report-defs\",\n    \"max-pad-temperature\",\n    \"max-disc-temperature\",\n    \"()\",\n)\n\nreport_file_path = Path(save_path) / \"max-temperature.out\"\nsession.tui.solve.report_files.add(\n    \"max-temperature\",\n    \"report-defs\",\n    \"max-pad-temperature\",\n    \"max-disc-temperature\",\n    \"()\",\n    \"file-name\",\n    str(report_file_path),\n)\n\n\nsession.results.graphics.contour[\"contour-1\"] = {\n    \"boundary_values\": True,\n    \"color_map\": {\n        \"color\": \"field-velocity\",\n        \"font_automatic\": True,\n        \"font_name\": \"Helvetica\",\n        \"font_size\": 0.032,\n        \"format\": \"%0.2e\",\n        \"length\": 0.54,\n        \"log_scale\": False,\n        \"position\": 1,\n        \"show_all\": True,\n        \"size\": 100,\n        \"user_skip\": 9,\n        \"visible\": True,\n        \"width\": 6.0,\n    },\n    \"coloring\": {\"smooth\": False},\n    \"contour_lines\": False,\n    \"display_state_name\": \"None\",\n    \"draw_mesh\": False,\n    \"field\": \"temperature\",\n    \"filled\": True,\n    \"mesh_object\": \"\",\n    \"node_values\": True,\n    \"range_option\": {\"auto_range_on\": {\"global_range\": True}},\n}\n\n\nsession.tui.display.objects.create(\n    \"contour\",\n    \"temperature\",\n    \"field\",\n    \"temperature\",\n    \"surface-list\",\n    \"wall*\",\n    \"()\",\n    \"color-map\",\n    \"format\",\n    \"%0.1f\",\n    \"q\",\n    \"range-option\",\n    \"auto-range-off\",\n    \"minimum\",\n    300,\n    \"maximum\",\n    400,\n    \"q\",\n    \"q\",\n)\n\n\nsession.tui.display.views.restore_view(\"top\")\nsession.tui.display.views.camera.zoom_camera(2)\nsession.tui.display.views.save_view(\"animation-view\")\n\nsession.tui.solve.animate.objects.create(\n    \"animate-temperature\",\n    \"animate-on\",\n    \"temperature\",\n    \"frequency-of\",\n    \"flow-time\",\n    \"flow-time-frequency\",\n    0.05,\n    \"view\",\n    \"animation-view\",\n    \"q\",\n)"
      ]
    },
    {
      "cell_type": "markdown",
      "metadata": {},
      "source": [
        "Run simulation\n==============\n\n-   Run simulation for 2 seconds flow time\n-   Set time step size\n-   Set number of time steps and maximum number of iterations per time\n    step\n"
      ]
    },
    {
      "cell_type": "code",
      "execution_count": null,
      "metadata": {
        "collapsed": false
      },
      "outputs": [],
      "source": [
        "session.tui.solve.set.transient_controls.time_step_size(0.01)\nsession.tui.solve.dual_time_iterate(200, 5)"
      ]
    },
    {
      "cell_type": "markdown",
      "metadata": {},
      "source": [
        "Save simulation data\n====================\n\nWrite case and data files\n"
      ]
    },
    {
      "cell_type": "code",
      "execution_count": null,
      "metadata": {
        "collapsed": false
      },
      "outputs": [],
      "source": [
        "save_case_data_as = Path(save_path) / \"brake-final.cas.h5\"\nsession.tui.file.write_case_data(save_case_data_as)"
      ]
    },
    {
      "cell_type": "markdown",
      "metadata": {},
      "source": [
        "Post processing with PyVista (3D visualization)\n===============================================\n"
      ]
    },
    {
      "cell_type": "markdown",
      "metadata": {},
      "source": [
        "Create a graphics session\n=========================\n"
      ]
    },
    {
      "cell_type": "code",
      "execution_count": null,
      "metadata": {
        "collapsed": false
      },
      "outputs": [],
      "source": [
        "graphics_session1 = pv.Graphics(session)"
      ]
    },
    {
      "cell_type": "markdown",
      "metadata": {},
      "source": [
        "Temperature contour object\n==========================\n"
      ]
    },
    {
      "cell_type": "code",
      "execution_count": null,
      "metadata": {
        "collapsed": false
      },
      "outputs": [],
      "source": [
        "contour1 = graphics_session1.Contours[\"temperature\"]"
      ]
    },
    {
      "cell_type": "markdown",
      "metadata": {},
      "source": [
        "Check available options for contour object\n==========================================\n"
      ]
    },
    {
      "cell_type": "code",
      "execution_count": null,
      "metadata": {
        "collapsed": false
      },
      "outputs": [],
      "source": [
        "contour1()"
      ]
    },
    {
      "cell_type": "markdown",
      "metadata": {},
      "source": [
        "Set contour properties\n======================\n"
      ]
    },
    {
      "cell_type": "code",
      "execution_count": null,
      "metadata": {
        "collapsed": false
      },
      "outputs": [],
      "source": [
        "contour1.field = \"temperature\"\ncontour1.surfaces_list = [\n    \"wall-disc1\",\n    \"wall-disc2\",\n    \"wall-pad-disc2\",\n    \"wall_pad-disc1\",\n    \"wall-geom-1-bp_inner\",\n    \"wall-geom-1-bp_outer\",\n    \"wall-geom-1-innerpad\",\n    \"wall-geom-1-outerpad\",\n]\ncontour1.range.option = \"auto-range-off\"\ncontour1()\ncontour1.range.auto_range_off.minimum = 300\ncontour1.range.auto_range_off.maximum = 400"
      ]
    },
    {
      "cell_type": "markdown",
      "metadata": {},
      "source": [
        "Display contour\n===============\n"
      ]
    },
    {
      "cell_type": "code",
      "execution_count": null,
      "metadata": {
        "collapsed": false
      },
      "outputs": [],
      "source": [
        "contour1.display()"
      ]
    },
    {
      "cell_type": "markdown",
      "metadata": {},
      "source": [
        "![Brake Surface Temperature Contour](../../_static/brake_surface_temperature.png){.align-center}\n"
      ]
    },
    {
      "cell_type": "markdown",
      "metadata": {},
      "source": [
        "Brake Surface Temperature\n"
      ]
    },
    {
      "cell_type": "markdown",
      "metadata": {},
      "source": [
        "Post processing with Matplotlib (2D graph)\n==========================================\n"
      ]
    },
    {
      "cell_type": "markdown",
      "metadata": {},
      "source": [
        "Read monitor file\n=================\n"
      ]
    },
    {
      "cell_type": "code",
      "execution_count": null,
      "metadata": {
        "collapsed": false
      },
      "outputs": [],
      "source": [
        "X = []\nY = []\nZ = []\ni = -1\nwith open(report_file_path, \"r\") as datafile:\n    plotting = csv.reader(datafile, delimiter=\" \")\n    for rows in plotting:\n        i = i + 1\n        if i > 2:\n            X.append(float(rows[3]))\n            Y.append(float(rows[2]))\n            Z.append(float(rows[1]))"
      ]
    },
    {
      "cell_type": "markdown",
      "metadata": {},
      "source": [
        "Plot graph\n==========\n"
      ]
    },
    {
      "cell_type": "code",
      "execution_count": null,
      "metadata": {
        "collapsed": false
      },
      "outputs": [],
      "source": [
        "plt.title(\"Maximum Temperature\", fontdict={\"color\": \"darkred\", \"size\": 20})\nplt.plot(X, Z, label=\"Max. Pad Temperature\", color=\"red\")\nplt.plot(X, Y, label=\"Max. Disc Temperature\", color=\"blue\")\nplt.xlabel(\"Time (sec)\")\nplt.ylabel(\"Max Temperature (K)\")\nplt.legend(loc=\"lower right\", shadow=True, fontsize=\"x-large\")"
      ]
    },
    {
      "cell_type": "markdown",
      "metadata": {},
      "source": [
        "Show graph\n==========\n"
      ]
    },
    {
      "cell_type": "code",
      "execution_count": null,
      "metadata": {
        "collapsed": false
      },
      "outputs": [],
      "source": [
        "plt.show()"
      ]
    },
    {
      "cell_type": "markdown",
      "metadata": {},
      "source": [
        "![Brake Maximum Temperature](../../_static/brake_maximum_temperature.png){.align-center}\n"
      ]
    },
    {
      "cell_type": "markdown",
      "metadata": {},
      "source": [
        "Brake Maximum Temperature\n"
      ]
    },
    {
      "cell_type": "markdown",
      "metadata": {},
      "source": [
        "Close the session\n=================\n"
      ]
    },
    {
      "cell_type": "code",
      "execution_count": null,
      "metadata": {
        "collapsed": false
      },
      "outputs": [],
      "source": [
        "session.exit()\n\n# sphinx_gallery_thumbnail_path = '_static/brake_surface_temperature-thumbnail.png'"
      ]
    }
  ],
  "metadata": {
    "kernelspec": {
      "display_name": "Python 3",
      "language": "python",
      "name": "python3"
    },
    "language_info": {
      "codemirror_mode": {
        "name": "ipython",
        "version": 3
      },
      "file_extension": ".py",
      "mimetype": "text/x-python",
      "name": "python",
      "nbconvert_exporter": "python",
      "pygments_lexer": "ipython3",
      "version": "3.9.19"
    }
  },
  "nbformat": 4,
  "nbformat_minor": 0
}