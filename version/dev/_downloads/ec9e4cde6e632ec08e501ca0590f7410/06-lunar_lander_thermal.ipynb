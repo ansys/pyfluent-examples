{
  "cells": [
    {
      "cell_type": "markdown",
      "metadata": {},
      "source": [
        "Thermal Model of a Lunar Lander Using the Monte Carlo Radiation Model {#ref_lunar_lander_thermal}\n=====================================================================\n\nThis example demonstrates creating and solving a thermal model of a\nlander on the lunar surface using Fluent\\'s Monte Carlo radiation\nsolver.\n\nPyFluent uses the following loop at each timestep to retrofit the\nrequired functionality to Fluent:\n\n1.  Calculate the current sun vector (direction of Sun relative to\n    observer).\n2.  Update the radiation direction in Fluent.\n3.  Change the radiator emissivity depending on whether the louvers are\n    open.\n4.  Run the solution for 1 timestep.\n\n**Workflow tasks**\n\nThe Thermal Model of a Lunar Lander Using the Monte Carlo Radiation\nModel example guides you through these tasks:\n\n-   Setting up a Monte Carlo radiation model.\n-   Creation of materials with thermal and radiation properties.\n-   Setting boundary conditions for heat transfer and radiation\n    calculations.\n-   Setting up shell conduction boundary conditions.\n-   Calculating a solution using the pressure-based solver.\n-   Dynamically updating the Sun direction and lander state at each\n    step.\n\n**Problem description**\n\nThe lander is modelled as a hollow 1 m \u00d7 1 m \u00d7 1 m cube with aluminum\nwalls 3 mm thick, covered in highly reflective multilayer insulation\n(MLI). To allow for comparison to empirical data, the landing site is\nselected to be the same as that of the Apollo 17 mission, which took\nmeasurements of the regolith temperatures in the Taurus-Littrow valley\nlocated at 20.1908\u00b0 N, 30.7717\u00b0 E.\n\nThe lander has a radiator on the top surface of size 0.7 m \u00d7 0.7 m with\nlouvers, which open above 273 K to reject heat and close below 273 K to\nretain heat. The PyFluent API is used to automatically update the\nradiator state and the direction of the Sun at each timestep.\n\nThe case setup is taken from reference \\[[1]()\\], originally created in\nANSYS Thermal Desktop. It uses a thermal model of the lunar regolith\ndeveloped in reference \\[[2]()\\]. Validation data for the regolith\ntemperatures are taken from measurements conducted by the Apollo 17\nmission to the Moon \\[[3]()\\].\n"
      ]
    },
    {
      "cell_type": "code",
      "execution_count": null,
      "metadata": {
        "collapsed": false
      },
      "outputs": [],
      "source": [
        "# sphinx_gallery_thumbnail_path = '_static/lunar_lander_thermal_thumbnail.png'"
      ]
    },
    {
      "cell_type": "markdown",
      "metadata": {},
      "source": [
        "![image](../../_static/lunar_lander_thermal_setup.png){.align-center}\n"
      ]
    },
    {
      "cell_type": "markdown",
      "metadata": {},
      "source": [
        "Preliminary Setup\n=================\n\nFirst, we will define functions to compute the direction of the Sun\nrelative to the lander.\n\nPerform required imports\n------------------------\n\nPerform required imports, including downloading the required geometry\nfiles. The mesh has been pre-made for this problem.\n"
      ]
    },
    {
      "cell_type": "code",
      "execution_count": null,
      "metadata": {
        "collapsed": false
      },
      "outputs": [],
      "source": [
        "from itertools import chain\n\nimport ansys.fluent.core as pyfluent\nfrom ansys.fluent.core import examples\nimport numpy as np\n\nlander_spaceclaim_file, lander_mesh_file, apollo17_temp_data = [\n    examples.download_file(\n        f, \"pyfluent/lunar_lander_thermal\", save_path=pyfluent.EXAMPLES_PATH\n    )\n    for f in [\n        \"lander_geom.scdoc\",\n        \"lander_mesh.msh\",\n        \"apollo17_temp_data.csv\",\n    ]\n]"
      ]
    },
    {
      "cell_type": "markdown",
      "metadata": {},
      "source": [
        "Define variables\n================\n\nDefine the key variables:\n\n-   The obliquity (axial tilt) of the Moon relative to the plane of the\n    Earth\\'s orbit around the Sun\n-   The setpoint temperature above which the radiator louvers open\n-   The coordinates of the lander\n-   The timestep size\n-   The number of timesteps\n\nWe will use a timestep size of 24 hours and run the simulation for 60\nEarth days, or approximately 2 lunar days.\n"
      ]
    },
    {
      "cell_type": "code",
      "execution_count": null,
      "metadata": {
        "collapsed": false
      },
      "outputs": [],
      "source": [
        "# Lunar axial obliquity relative to ecliptic\nmoon_obliquity = np.deg2rad(1.54)\n\n# Louver setpoint temperature [K]\nlouver_setpoint_temp = 273\n\n# Lander coordinates (Apollo 17 landing site)\nland_lat = np.deg2rad(20.1908)\nland_lon = np.deg2rad(30.7717)\n\n# Timestep size of 1 Earth day\nstep_size = 86400\n\n# Run simulation for 60 Earth days\nn_steps = 60"
      ]
    },
    {
      "cell_type": "markdown",
      "metadata": {},
      "source": [
        "Define sun vector function\n==========================\n\nDefine the function to calculate the Sun vector at the landing site.\nThis is a vector that points from the observer\\'s location toward the\nSun. It takes Earth\\'s ecliptic longitude at the beginning of the\nsimulation, the subsolar longitude at the beginning of the simulation,\nthe observer\\'s coordinates, and the time elapsed in seconds since the\nbeginning of the simulation as inputs. It returns the Sun\\'s altitude\nand azimuth as outputs.\n\nFor more information, see the following links:\n\n-   [Ecliptic longitude](https://w.wiki/7zFR)\n-   [Subsolar longitude](https://w.wiki/7zFS)\n-   [Altitude and azimuth](https://w.wiki/7zFU)\n"
      ]
    },
    {
      "cell_type": "code",
      "execution_count": null,
      "metadata": {
        "collapsed": false
      },
      "outputs": [],
      "source": [
        "def calc_sun_vecs_for_moon(\n    earth_ecliptic_lon_start: float,\n    subsol_lon_start: float,\n    obsv_lat: float,\n    obsv_lon: float,\n    t: float,\n) -> tuple[float, float]:\n    # Earth ecliptic longitude\n    earth_ecliptic_lon = earth_ecliptic_lon_start + 2 * np.pi / (365 * 86400) * t\n\n    # Subsolar point\n    subsol_lat = np.arcsin(np.sin(-moon_obliquity) * np.sin(earth_ecliptic_lon))\n    subsol_lon = subsol_lon_start + t / (29.5 * 86400) * 2 * np.pi\n\n    # Solar altitude and azimuth\n    sun_obsv_phaseang = np.arccos(\n        np.sin(subsol_lat) * np.sin(obsv_lat)\n        + np.cos(subsol_lat) * np.cos(obsv_lat) * np.cos(obsv_lon - subsol_lon)\n    )\n\n    sun_alt = np.pi / 2 - sun_obsv_phaseang\n    sun_azm = np.arctan2(\n        np.cos(obsv_lat) * np.sin(subsol_lat)\n        - np.sin(obsv_lat) * np.cos(subsol_lat) * np.cos(subsol_lon - obsv_lon),\n        np.cos(subsol_lat) * np.sin(subsol_lon - obsv_lon),\n    )\n\n    return sun_alt, sun_azm"
      ]
    },
    {
      "cell_type": "markdown",
      "metadata": {},
      "source": [
        "Define beam direction function\n==============================\n\nDefine the function that converts the Sun\\'s altitude and azimuth, as\ncalculated by `calc_sun_vecs_for_moon`, into a beam direction in\nCartesian coordinates that can be used in Fluent. The coordinate system\nused is:\n\n-   X: North\n-   Y: Zenith\n-   Z: East\n"
      ]
    },
    {
      "cell_type": "code",
      "execution_count": null,
      "metadata": {
        "collapsed": false
      },
      "outputs": [],
      "source": [
        "def sun_vec_to_beam_dir(\n    sun_alt: float,\n    sun_azm: float,\n) -> tuple[float, float, float]:\n    # Coordinate system:\n    #   X: North\n    #   Y: Zenith\n    #   Z: East\n    x = np.cos(sun_alt) * np.cos(sun_azm)\n    y = np.sin(sun_alt)\n    z = np.cos(sun_alt) * np.sin(sun_azm)\n\n    # Since the sun vector points toward the sun, we need to take the\n    # negative to get the beam direction\n    return -x, -y, -z"
      ]
    },
    {
      "cell_type": "markdown",
      "metadata": {},
      "source": [
        "Define mean surface temperature function\n========================================\n\nThe radiator will be opened or closed based on its mean temperature. We\nwill access the solver session object to extract nodal temperatures. It\ntakes a list of surface names as input, finds their surface IDs, obtains\nthe scalar field data from the solver, then returns the average\ntemperature.\n"
      ]
    },
    {
      "cell_type": "code",
      "execution_count": null,
      "metadata": {
        "collapsed": false
      },
      "outputs": [],
      "source": [
        "def get_surf_mean_temp(\n    surf_names: list[str],\n    solver: pyfluent.session_solver.Solver,\n) -> float:\n    # Get surface IDs\n    surfs = solver.field_info.get_surfaces_info()\n    surf_ids_ = [surfs[surf_name][\"surface_id\"] for surf_name in surf_names]\n\n    # Flatten surf_ids nested list\n    surf_ids = list(chain(*surf_ids_))\n\n    # Get temperature data\n    temp_data = solver.field_data.get_scalar_field_data(\n        \"temperature\",\n        surface_ids=surf_ids,\n    )\n\n    # Calculate mean temperature across surfaces\n    temps = np.array([])\n    for x in temp_data.values():\n        temps = np.concatenate(\n            (\n                temps,\n                np.array([y.scalar_data for y in x.data]),\n            ),\n        )\n\n    return np.mean(temps)"
      ]
    },
    {
      "cell_type": "markdown",
      "metadata": {},
      "source": [
        "Start Fluent\n============\n\nWe are now ready to launch Fluent and load the mesh.\n\nLaunch Fluent\n-------------\n"
      ]
    },
    {
      "cell_type": "code",
      "execution_count": null,
      "metadata": {
        "collapsed": false
      },
      "outputs": [],
      "source": [
        "solver = pyfluent.launch_fluent(\n    precision=\"double\",\n    processor_count=12,\n    mode=\"solver\",\n    cwd=pyfluent.EXAMPLES_PATH,\n)"
      ]
    },
    {
      "cell_type": "markdown",
      "metadata": {},
      "source": [
        "Load the mesh\n=============\n"
      ]
    },
    {
      "cell_type": "code",
      "execution_count": null,
      "metadata": {
        "collapsed": false
      },
      "outputs": [],
      "source": [
        "solver.file.read_mesh(file_name=lander_mesh_file)"
      ]
    },
    {
      "cell_type": "markdown",
      "metadata": {},
      "source": [
        "Case Setup\n==========\n\nWe are now ready to begin setting up the case.\n\nTransient settings\n------------------\n\nSet the solution type to transient and configure. We will use 2nd-order\ntime-stepping, a fixed timestep size, and a limit of 20 iterations per\ntimestep. Since we are only running 1 timestep at a time, the time step\ncount is set to 1.\n"
      ]
    },
    {
      "cell_type": "code",
      "execution_count": null,
      "metadata": {
        "collapsed": false
      },
      "outputs": [],
      "source": [
        "# Set solution to transient\nsolver.setup.general.solver.time = \"unsteady-2nd-order\"\n\n# Set transient settings\ntrans_controls = solver.solution.run_calculation.transient_controls\ntrans_controls.type = \"Fixed\"\ntrans_controls.max_iter_per_time_step = 20\ntrans_controls.time_step_count = 1\ntrans_controls.time_step_size = step_size"
      ]
    },
    {
      "cell_type": "markdown",
      "metadata": {},
      "source": [
        "Enable models\n=============\n\nEnable the energy model. Since fluid flow is not simulated, we will set\nthe viscosity model to laminar.\n"
      ]
    },
    {
      "cell_type": "code",
      "execution_count": null,
      "metadata": {
        "collapsed": false
      },
      "outputs": [],
      "source": [
        "models = solver.setup.models\nmodels.energy.enabled = True\nmodels.viscous.model = \"laminar\""
      ]
    },
    {
      "cell_type": "markdown",
      "metadata": {},
      "source": [
        "Set up radiation model\n======================\n\nEnable the Monte Carlo radiation model with two radiation bands: one for\nsolar radiation and one for thermal infrared radiation. Ensure that\nbands are created in order of increasing wavelength.\n\nThe number of histories is set to 10 million to reduce computation time,\nbut more may be required for accurate results.\n\nThe limits of each band are based on Fluent manual recommendations and\non space industry best practices \\[[4]()\\].\n"
      ]
    },
    {
      "cell_type": "code",
      "execution_count": null,
      "metadata": {
        "collapsed": false
      },
      "outputs": [],
      "source": [
        "# Set up radiation model\nradiation = models.radiation\nradiation.model = \"monte-carlo\"\nradiation.monte_carlo.number_of_histories = 1e7\n\n# Define range of solar wavelengths\nradiation.multiband[\"solar\"] = {\n    \"start\": 0,\n    \"end\": 2.8,\n}\n# Define range of thermal IR wavelengths\nradiation.multiband[\"thermal-ir\"] = {\n    \"start\": 2.8,\n    \"end\": 100,\n}\n\n# Solve radiation once per timestep\nradiation_freq = radiation.solve_frequency\nradiation_freq.method = \"time-step\"\nradiation_freq.time_step_interval = 1"
      ]
    },
    {
      "cell_type": "markdown",
      "metadata": {},
      "source": [
        "Define materials\n================\n\nCreate materials to represent the vacuum of space (to prevent thermal\nconduction through the cell zone representing vacuum) and the lunar\nregolith (soil). The thermal conductivity of the regolith and the\nsurface \\'fluff\\' is strongly temperature-dependent and so must be\nmodelled using an expression.\n"
      ]
    },
    {
      "cell_type": "code",
      "execution_count": null,
      "metadata": {
        "collapsed": false
      },
      "outputs": [],
      "source": [
        "# --- Properties of vacuum ---\n# Thermal conductivity: 0\n\nvacuum = solver.setup.materials.solid.create(\"vacuum\")\nvacuum.chemical_formula = \"\"\nvacuum.thermal_conductivity.value = 0\nvacuum.absorption_coefficient.value = 0\nvacuum.refractive_index.value = 1\n\n# --- Properties of fluff (see ref. [2]) ---\n# Density: 1000 [kg m^-3]\n# Specific heat capacity: 1050 [J kg^-1 K^-1]\n# Thermal conductivity: 9.22e-4*(1 + 1.48*(temperature/350 K)^3) [W m^-1 K^-1]\n\nfluff = solver.setup.materials.solid.create(\"fluff\")\nfluff.chemical_formula = \"\"\nfluff.density.value = 1000\nfluff.specific_heat.value = 1050\nfluff.thermal_conductivity.option = \"expression\"\nfluff.thermal_conductivity.expression = (\n    \"9.22e-4[W m^-1 K^-1]*(1 + 1.48*(StaticTemperature/350[K])^3)\"\n)\n\n# --- Properties of regolith (see ref. [2]) ---\n# Density: 2000 [kg m^-3]\n# Specific heat capacity: 1050 [J kg^-1 K^-1]\n# Thermal conductivity: 9.30e-4*(1 + 0.73*(temperature/350 K)^3) [W m^-1 K^-1]\n\nregolith = solver.setup.materials.solid.create(\"regolith\")\nregolith.chemical_formula = \"\"\nregolith.density.value = 2000\nregolith.specific_heat.value = 1050\nregolith.thermal_conductivity.option = \"expression\"\nregolith.thermal_conductivity.expression = (\n    \"9.30e-4[W m^-1 K^-1]*(1 + 0.73*(StaticTemperature/350[K])^3)\"\n)"
      ]
    },
    {
      "cell_type": "markdown",
      "metadata": {},
      "source": [
        "Cell zone conditions\n====================\n\nSince the Monte Carlo radiation model only supports radiative transfer\nthrough a cell zone, a cell zone is used to model the vacuum around the\nlander. This cell zone must be set to be a solid so that the fluid\nequations are not solved there, then it must be assigned to the vacuum\nmaterial.\n"
      ]
    },
    {
      "cell_type": "code",
      "execution_count": null,
      "metadata": {
        "collapsed": false
      },
      "outputs": [],
      "source": [
        "cellzones = solver.setup.cell_zone_conditions\ncellzones.set_zone_type(\n    zone_list=[\"geom-2_domain\"],\n    new_type=\"solid\",\n)\ncellzones.solid[\"geom-2_domain\"].material = \"vacuum\""
      ]
    },
    {
      "cell_type": "markdown",
      "metadata": {},
      "source": [
        "Regolith boundary condition\n===========================\n\nWe will implement the regolith model in reference \\[[2]()\\] by modelling\nit as a wall exhibiting multilayer shell conduction. A basal heat flux\nis used to represent the geothermal heat from the Moon\\'s interior that\nheats the regolith from the bottom.\n"
      ]
    },
    {
      "cell_type": "code",
      "execution_count": null,
      "metadata": {
        "collapsed": false
      },
      "outputs": [],
      "source": [
        "# --- Regolith BC ---\n# Thickness of layers: 0.02, 0.04, 0.08, 0.16, 0.32 [m]\n# Heating at base: 0.031 [W m^-2]\n# Surface absorptivity: 0.87\n# Surface emissivity: 0.97\n\nregolith_bc = solver.setup.boundary_conditions.wall[\"regolith\"]\n\nregolith_bc.thermal.q.value = 0.031\nregolith_bc.thermal.planar_conduction = True\nregolith_bc.thermal.shell_conduction = [\n    {\n        \"thickness\": 0.02,\n        \"material\": \"fluff\",\n    },\n    {\n        \"thickness\": 0.04,\n        \"material\": \"regolith\",\n    },\n    {\n        \"thickness\": 0.08,\n        \"material\": \"regolith\",\n    },\n    {\n        \"thickness\": 0.16,\n        \"material\": \"regolith\",\n    },\n    {\n        \"thickness\": 0.32,\n        \"material\": \"regolith\",\n    },\n]\nregolith_bc.radiation.band_in_emiss = {\n    \"solar\": 0.87,\n    \"thermal-ir\": 0.97,\n}"
      ]
    },
    {
      "cell_type": "markdown",
      "metadata": {},
      "source": [
        "Space boundary condition\n========================\n\nThe space boundary condition represents deep space and also acts as the\nsource of the Sun\\'s illumination in the simulation.\n"
      ]
    },
    {
      "cell_type": "code",
      "execution_count": null,
      "metadata": {
        "collapsed": false
      },
      "outputs": [],
      "source": [
        "# --- Set up space boundary condition ---\n# Temperature: 3 [K]\n# Emissivity: 1\n# Absorptivity: 1\n# Solar flux: 1414 [W m^-2]\n\nspace_bc = solver.setup.boundary_conditions.wall[\"space\"]\n\nspace_bc.thermal.thermal_bc = \"Temperature\"\nspace_bc.thermal.t.value = 3\nspace_bc.thermal.material = \"vacuum\"\nspace_bc.radiation.mc_bsource_p = True\nspace_bc.radiation.band_q_irrad[\"solar\"].value = 1414\nspace_bc.radiation.band_diffuse_frac = {\n    \"solar\": 0,\n    \"thermal-ir\": 0,\n}\nspace_bc.radiation.band_in_emiss = {\n    \"solar\": 1,\n    \"thermal-ir\": 1,\n}"
      ]
    },
    {
      "cell_type": "markdown",
      "metadata": {},
      "source": [
        "Spacecraft walls boundary condition\n===================================\n\nThe spacecraft is covered in reflective MLI (multilayer insulation) and\nheat transfer through the aluminum shell can be simulated using shell\nconduction.\n"
      ]
    },
    {
      "cell_type": "code",
      "execution_count": null,
      "metadata": {
        "collapsed": false
      },
      "outputs": [],
      "source": [
        "# --- Set up spacecraft shell boundary condition ---\n# Thickness: 0.03 [m]\n# Material: aluminum\n# Absorptivity: 0.05\n# Emissivity: 0.05\n\nsc_mli_bc = solver.setup.boundary_conditions.wall[\"sc-mli\"]\n\nsc_mli_bc.thermal.planar_conduction = True\nsc_mli_bc.thermal.shell_conduction = [\n    {\n        \"thickness\": 0.03,\n        \"material\": \"aluminum\",\n    },\n]\nsc_mli_bc.radiation.band_in_emiss = {\n    \"solar\": 0.05,\n    \"thermal-ir\": 0.05,\n}"
      ]
    },
    {
      "cell_type": "markdown",
      "metadata": {},
      "source": [
        "Spacecraft radiator boundary condition\n======================================\n\nThe spacecraft\\'s radiator is modelled in a similar way to the\nspacecraft\\'s walls, but the emissivity is left unset as it will be\nchanged dynamically by our PyFluent script depending on its temperature\nduring the simulation.\n"
      ]
    },
    {
      "cell_type": "code",
      "execution_count": null,
      "metadata": {
        "collapsed": false
      },
      "outputs": [],
      "source": [
        "# --- Set up spacecraft radiator boundary condition ---\n# Thickness: 0.03 [m]\n# Material: aluminum\n# Absorptivity: 0.17\n# Emissivity: 0.09 below 273 K, 0.70 otherwise\n\nsc_rad_bc = solver.setup.boundary_conditions.wall[\"sc-radiator\"]\n\nsc_rad_bc.thermal.planar_conduction = True\nsc_rad_bc.thermal.shell_conduction = [\n    {\n        \"thickness\": 0.03,\n        \"material\": \"aluminum\",\n    },\n]\nsc_rad_bc.radiation.band_in_emiss = {\n    \"solar\": 0.17,\n}"
      ]
    },
    {
      "cell_type": "markdown",
      "metadata": {},
      "source": [
        "Initialize simulation\n=====================\n\nInitialize the simulation. Doing so now will create conductive zones\nbetween shell layers representing the regolith, allowing us to make\nreport definitions on them in the next step. The entire domain will be\ninitialized to a temperature of 230 K, or -43 \u00b0C.\n"
      ]
    },
    {
      "cell_type": "code",
      "execution_count": null,
      "metadata": {
        "collapsed": false
      },
      "outputs": [],
      "source": [
        "sim_init = solver.solution.initialization\nsim_init.defaults[\"temperature\"] = 230\nsim_init.initialize()"
      ]
    },
    {
      "cell_type": "markdown",
      "metadata": {},
      "source": [
        "Spacecraft temperature reports\n==============================\n\nCreate reports for the spacecraft\\'s minimum, mean, and maximum\ntemperatures.\n"
      ]
    },
    {
      "cell_type": "code",
      "execution_count": null,
      "metadata": {
        "collapsed": false
      },
      "outputs": [],
      "source": [
        "surf_report_defs = solver.solution.report_definitions.surface\n\nsc_surfs = [\"sc-radiator\", \"sc-mli\"]\n\nsurf_report_defs[\"sc-min-temp\"] = {\n    \"surface_names\": sc_surfs,\n    \"report_type\": \"surface-facetmin\",\n    \"field\": \"temperature\",\n}\nsurf_report_defs[\"sc-avg-temp\"] = {\n    \"surface_names\": sc_surfs,\n    \"report_type\": \"surface-facetavg\",\n    \"field\": \"temperature\",\n}\nsurf_report_defs[\"sc-max-temp\"] = {\n    \"surface_names\": sc_surfs,\n    \"report_type\": \"surface-facetmax\",\n    \"field\": \"temperature\",\n}"
      ]
    },
    {
      "cell_type": "markdown",
      "metadata": {},
      "source": [
        "Regolith temperature reports\n============================\n\nCreate reports for the mean temperatures of each regolith layer. We will\nstore the report names for use later.\n"
      ]
    },
    {
      "cell_type": "code",
      "execution_count": null,
      "metadata": {
        "collapsed": false
      },
      "outputs": [],
      "source": [
        "surf_report_defs = solver.solution.report_definitions.surface\n\n# Loop over all regolith reports to set common properties\nregolith_report_names = []\nfor i in range(1, 5 + 1):\n    report_name = f\"regolith-layer-{i}-temp\"\n    surf_report_defs[report_name] = {\n        \"report_type\": \"surface-facetavg\",\n        \"field\": \"temperature\",\n    }\n    regolith_report_names.extend([report_name])\n\nsurf_report_defs[\"regolith-layer-1-temp\"].surface_names = [\"regolith\"]\nsurf_report_defs[\"regolith-layer-2-temp\"].surface_names = [\"regolith-1:2\"]\nsurf_report_defs[\"regolith-layer-3-temp\"].surface_names = [\"regolith-2:3\"]\nsurf_report_defs[\"regolith-layer-4-temp\"].surface_names = [\"regolith-3:4\"]\nsurf_report_defs[\"regolith-layer-5-temp\"].surface_names = [\"regolith-4:5\"]"
      ]
    },
    {
      "cell_type": "markdown",
      "metadata": {},
      "source": [
        "Temperature report files\n========================\n\nCreate temperature report files for post-processing.\n"
      ]
    },
    {
      "cell_type": "code",
      "execution_count": null,
      "metadata": {
        "collapsed": false
      },
      "outputs": [],
      "source": [
        "surf_report_files = solver.solution.monitor.report_files\n\n# Spacecraft temperatures\nsurf_report_files[\"sc-temps-rfile\"] = {\n    \"report_defs\": [\"flow-time\", \"sc-min-temp\", \"sc-avg-temp\", \"sc-max-temp\"],\n}\n\n# Regolith temperatures\nsurf_report_files[\"regolith-temps-rfile\"] = {\n    \"report_defs\": [*regolith_report_names, \"flow-time\"],\n}"
      ]
    },
    {
      "cell_type": "markdown",
      "metadata": {},
      "source": [
        "Autosave\n========\n\nSet the case to save only the data file at each timestep for\npost-processing.\n"
      ]
    },
    {
      "cell_type": "code",
      "execution_count": null,
      "metadata": {
        "collapsed": false
      },
      "outputs": [],
      "source": [
        "autosave = solver.file.auto_save\n\nautosave.case_frequency = \"if-mesh-is-modified\"\nautosave.data_frequency = 1\nautosave.save_data_file_every.frequency_type = \"time-step\"\nautosave.append_file_name_with.file_suffix_type = \"time-step\""
      ]
    },
    {
      "cell_type": "markdown",
      "metadata": {},
      "source": [
        "Convergence criteria\n====================\n\nTurn off the convergence criteria pertaining to fluid flow as there is\nno fluid flow in this simulation. Keep only the energy convergence\ncriterion.\n"
      ]
    },
    {
      "cell_type": "code",
      "execution_count": null,
      "metadata": {
        "collapsed": false
      },
      "outputs": [],
      "source": [
        "residuals = solver.solution.monitor.residual.equations\n\nfor criterion in [\"continuity\", \"x-velocity\", \"y-velocity\", \"z-velocity\"]:\n    residuals[criterion].check_convergence = False\n    residuals[criterion].monitor = False"
      ]
    },
    {
      "cell_type": "markdown",
      "metadata": {},
      "source": [
        "Write case file\n===============\n\nWrite the case file. Enable overwrite.\n"
      ]
    },
    {
      "cell_type": "code",
      "execution_count": null,
      "metadata": {
        "collapsed": false
      },
      "outputs": [],
      "source": [
        "solver.file.batch_options.confirm_overwrite = True\nsolver.file.write(\n    file_name=\"lunar_lander_thermal.cas.h5\",\n    file_type=\"case\",\n)"
      ]
    },
    {
      "cell_type": "markdown",
      "metadata": {},
      "source": [
        "Solve\n=====\n\nSolve case\n----------\n\nRun the case, using a loop to update the radiator state and Sun vector\nat each timestep. We will assume that the Earth\\'s ecliptic longitude\nand the subsolar longitude are both zero at the start of the simulation\nfor simplicity.\n"
      ]
    },
    {
      "cell_type": "code",
      "execution_count": null,
      "metadata": {
        "collapsed": false
      },
      "outputs": [],
      "source": [
        "for i in range(n_steps):\n    # Get current simulation time\n    t = solver.rp_vars(\"flow-time\")\n\n    # Calculate sun vector\n    sun_alt, sun_azm = calc_sun_vecs_for_moon(\n        earth_ecliptic_lon_start=0,\n        subsol_lon_start=0,\n        obsv_lat=land_lat,\n        obsv_lon=land_lon,\n        t=t,\n    )\n    beam_x, beam_y, beam_z = sun_vec_to_beam_dir(\n        sun_alt=sun_alt,\n        sun_azm=sun_azm,\n    )\n\n    # Set beam direction\n    solver.setup.boundary_conditions.wall[\"space\"].radiation.radiation_direction = [\n        beam_x,\n        beam_y,\n        beam_z,\n    ]\n\n    # Calculate radiator mean temperature\n    rad_mean_temp = get_surf_mean_temp(\n        [\"sc-radiator\"],\n        solver,\n    )\n\n    # Simulate closing louvers below 273 K by changing emissivity\n    rad_emiss = solver.setup.boundary_conditions.wall[\n        \"sc-radiator\"\n    ].radiation.band_in_emiss[\"thermal-ir\"]\n    if rad_mean_temp < 273:\n        rad_emiss.value = 0.09\n    else:\n        rad_emiss.value = 0.70\n\n    # Run simulation for 1 timestep\n    solver.solution.run_calculation.calculate()"
      ]
    },
    {
      "cell_type": "markdown",
      "metadata": {},
      "source": [
        "Close Fluent\n============\n\nShut down the solver.\n"
      ]
    },
    {
      "cell_type": "code",
      "execution_count": null,
      "metadata": {
        "collapsed": false
      },
      "outputs": [],
      "source": [
        "solver.exit()"
      ]
    },
    {
      "cell_type": "markdown",
      "metadata": {},
      "source": [
        "Post-process\n============\n\nPost-process the data.\n\nImport packages\n---------------\n\nImport the packages required for post-processing.\n"
      ]
    },
    {
      "cell_type": "code",
      "execution_count": null,
      "metadata": {
        "collapsed": false
      },
      "outputs": [],
      "source": [
        "from pathlib import Path\nimport re\n\nfrom matplotlib import pyplot as plt\nimport pandas as pd"
      ]
    },
    {
      "cell_type": "markdown",
      "metadata": {},
      "source": [
        "Clean column names function\n===========================\n\nPandas will not correctly format the column names when reading in the\nFluent output files. We will clean the names by removing all parentheses\nand double quotation marks.\n"
      ]
    },
    {
      "cell_type": "code",
      "execution_count": null,
      "metadata": {
        "collapsed": false
      },
      "outputs": [],
      "source": [
        "def clean_col_names(df):\n    df.columns = [re.sub(r'[\"()]', \"\", col) for col in df.columns]"
      ]
    },
    {
      "cell_type": "markdown",
      "metadata": {},
      "source": [
        "Read in simulation data\n=======================\n\nRead the Fluent output files for the regolith and spacecraft temperature\ndata into Pandas dataframes. The separation delimiter between columns is\ndefined as one or more spaces that is not immediately in front of or\nbehind an alphabetical character, implemented as negative lookarounds in\na regular expression.\n"
      ]
    },
    {
      "cell_type": "code",
      "execution_count": null,
      "metadata": {
        "collapsed": false
      },
      "outputs": [],
      "source": [
        "root = Path(pyfluent.EXAMPLES_PATH)\nsep = r\"(?<![a-zA-Z])\\s+(?![a-zA-Z])\"\n\n# Read in regolith data\nregolith_df = pd.read_csv(\n    root / \"regolith-temps-rfile.out\",\n    sep=sep,\n    header=2,\n    dtype=np.float64,\n    engine=\"python\",\n)\nclean_col_names(regolith_df)\n\n# Read in spacecraft data\nsc_df = pd.read_csv(\n    root / \"sc-temps-rfile.out\",\n    sep=sep,\n    header=2,\n    dtype=np.float64,\n    engine=\"python\",\n)\nclean_col_names(sc_df)"
      ]
    },
    {
      "cell_type": "markdown",
      "metadata": {},
      "source": [
        "Read in experimental data\n=========================\n\nRead in the experimental data from Apollo 17 \\[[3]()\\] to compare\nagainst the simulation. We will offset the data to start at time step 25\nof the simulation, to ensure that the data are compared at the same sun\nangles.\n"
      ]
    },
    {
      "cell_type": "code",
      "execution_count": null,
      "metadata": {
        "collapsed": false
      },
      "outputs": [],
      "source": [
        "apollo17_df = pd.read_csv(apollo17_temp_data)\n\napollo17_offset = regolith_df[\"flow-time\"].iloc[25]\napollo17_df[\"Offset time since sunrise\"] = (\n    apollo17_df[\"Time since sunrise\"] + apollo17_offset\n)"
      ]
    },
    {
      "cell_type": "markdown",
      "metadata": {},
      "source": [
        "Set data types\n==============\n\nSet the data type of the time step column to integer.\n"
      ]
    },
    {
      "cell_type": "code",
      "execution_count": null,
      "metadata": {
        "collapsed": false
      },
      "outputs": [],
      "source": [
        "regolith_df = regolith_df.astype(\n    {\n        \"Time Step\": np.int64,\n    },\n)\nsc_df = sc_df.astype(\n    {\n        \"Time Step\": np.int64,\n    },\n)"
      ]
    },
    {
      "cell_type": "markdown",
      "metadata": {},
      "source": [
        "Plot regolith temperatures\n==========================\n\nPlot the mean temperatures of each layer of regolith, as well as a\ncomparison with the Apollo 17 data. The simulation agrees well with\nexperiment.\n"
      ]
    },
    {
      "cell_type": "code",
      "execution_count": null,
      "metadata": {
        "collapsed": false
      },
      "outputs": [],
      "source": [
        "fig1, ax1 = plt.subplots()\n\nregolith_df.plot(\n    x=\"flow-time\",\n    y=[f\"regolith-layer-{i+1}-temp\" for i in range(5)],\n    title=\"Regolith temperatures\",\n    ax=ax1,\n)\napollo17_df.plot(\n    x=\"Offset time since sunrise\",\n    y=\"Temperature\",\n    style=\"x\",\n    xlabel=\"Time [s]\",\n    ylabel=\"Temperature [K]\",\n    ax=ax1,\n)\n\nax1.legend([\"Layer 1\", \"2\", \"3\", \"4\", \"5\", \"Apollo 17\"])"
      ]
    },
    {
      "cell_type": "markdown",
      "metadata": {},
      "source": [
        "Plot spacecraft temperatures\n============================\n\nPlot the minimum, mean, and maximum temperatures of the spacecraft.\n"
      ]
    },
    {
      "cell_type": "code",
      "execution_count": null,
      "metadata": {
        "collapsed": false
      },
      "outputs": [],
      "source": [
        "fig2, ax2 = plt.subplots()\n\nsc_df.plot(\n    x=\"flow-time\",\n    y=[\"sc-min-temp\", \"sc-avg-temp\", \"sc-max-temp\"],\n    title=\"Spacecraft Temperatures\",\n    xlabel=\"Time [s]\",\n    ylabel=\"Temperature [K]\",\n    ax=ax2,\n)\nax2.axhline(273, color=\"k\", linestyle=\":\")\n\nax2.legend([\"Minimum\", \"Mean\", \"Maximum\", \"Setpoint\"])"
      ]
    },
    {
      "cell_type": "markdown",
      "metadata": {},
      "source": [
        "Show plots\n==========\n\nDisplay the plots.\n"
      ]
    },
    {
      "cell_type": "code",
      "execution_count": null,
      "metadata": {
        "collapsed": false
      },
      "outputs": [],
      "source": [
        "plt.show()"
      ]
    },
    {
      "cell_type": "markdown",
      "metadata": {},
      "source": [
        "The expected plot for the mean temperature of the regolith layers\n(Figure 1) is as follows. This represents the regolith temperatures that\nwould be observed without a spacecraft in the environment.\n\n![image](../../_static/lunar_lander_regolith_temps.png){.align-center}\n\nThe expected plot for the spacecraft\\'s minimum, mean, and maximum\ntemperatures (Figure 2) is as follows.\n\n![image](../../_static/lunar_lander_sc_temps.png){.align-center}\n"
      ]
    },
    {
      "cell_type": "markdown",
      "metadata": {},
      "source": [
        "References\n==========\n\n::: {#1}\n\\[1\\] T.-Y. Park, J.-J. Lee, J.-H. Kim, and H.-U. Oh, \"Preliminary\nThermal Design and Analysis of Lunar Lander for Night Survival,\"\n*International Journal of Aerospace Engineering*, vol. 2018, p.\ne4236396, Oct. 2018, doi:\n[doi.org/10.1155/2018/4236396](https://doi.org/10.1155/2018/4236396).\n:::\n\n::: {#2}\n\\[2\\] R. J. Christie, D. W. Plachta, and M. M. Yasan, \"Transient Thermal\nModel and Analysis of the Lunar Surface and Regolith for Cryogenic Fluid\nStorage,\" NASA Glenn Research Center, Cleveland, Ohio, NASA Technical\nReport TM-2008-215300, Aug. 2008. \\[Online\\]. Available:\n<https://ntrs.nasa.gov/citations/20080039640>\n:::\n\n::: {#3}\n\\[3\\] M. G. Langseth, S. J. Keihm, and J. L. Chute, \"Heat Flow\nExperiment,\" in *Apollo 17: Preliminary Science Report*, vol. SP-330,\nWashington, D.C.: NASA Lyndon B. Johnson Space Center, 1973. \\[Online\\].\nAvailable:\n<https://ui.adsabs.harvard.edu/abs/1973NASSP.330>\\...\\.../abstract\n:::\n\n::: {#4}\n\\[4\\] L. Kauder, \"Spacecraft Thermal Control Coatings References,\"\nGoddard Space Flight Center, Greenbelt, MD 20771, NASA Technical Report\nNASA/TP-2005-212792, Dec. 2005. \\[Online\\]. Available:\n<https://ntrs.nasa.gov/citations/20070014757>\n:::\n"
      ]
    }
  ],
  "metadata": {
    "kernelspec": {
      "display_name": "Python 3",
      "language": "python",
      "name": "python3"
    },
    "language_info": {
      "codemirror_mode": {
        "name": "ipython",
        "version": 3
      },
      "file_extension": ".py",
      "mimetype": "text/x-python",
      "name": "python",
      "nbconvert_exporter": "python",
      "pygments_lexer": "ipython3",
      "version": "3.9.19"
    }
  },
  "nbformat": 4,
  "nbformat_minor": 0
}