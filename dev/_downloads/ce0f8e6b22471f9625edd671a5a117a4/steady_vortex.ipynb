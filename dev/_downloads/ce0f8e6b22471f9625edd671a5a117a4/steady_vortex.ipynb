{
  "cells": [
    {
      "cell_type": "code",
      "execution_count": null,
      "metadata": {
        "collapsed": false
      },
      "outputs": [],
      "source": [
        "%matplotlib inline"
      ]
    },
    {
      "cell_type": "markdown",
      "metadata": {},
      "source": [
        "\n# Steady-Vortex-VOF\nThese examples show you how you can use Fluent capabilities from Python to perform\nFluent simulations. This includes geometry import, Fluent's meshing workflows,\nsetting up and running the solver, and reviewing the results using Fluent's\npostprocessing capabilities.\n"
      ]
    },
    {
      "cell_type": "code",
      "execution_count": null,
      "metadata": {
        "collapsed": false
      },
      "outputs": [],
      "source": [
        "from pathlib import Path\n\n# Prediction of Vortex Depth in a Stirred Tank\n# Import pyfluent module\nimport ansys.fluent.core as pyfluent\nfrom ansys.fluent.core import examples\n\nimport_filename = examples.download_file(\n    \"vortex-mixingtank.msh.h5\", \"pyfluent/examples/Steady-Vortex-VOF\"\n)  # noqa: E501\n\n# Create a session\nsession = pyfluent.launch_fluent(version=\"3d\", precision=\"double\", processor_count=6)\n\n# Read case file\nsession.tui.file.read_case(import_filename)\n\n# Get active objects in session class\nsession.setup.get_active_child_names()\n\n# Copy air and set density and viscosity\n# session.setup.materials.copy_database_material_by_name.fluid='air'\nmat1 = session.setup.materials.fluid[\"air\"]\nmat1.density.value = 1000\nmat1.viscosity.value = 0.001\n\n# Turn on Gravity and Create Input Parameter Expression for Agitation Speed\nsession.tui.define.operating_conditions.gravity(\"Yes\", 0, 0, -9.81)\nsession.tui.define.parameters.enable_in_TUI(\"yes\")\nsession.tui.define.named_expressions.add(\n    \"agitation_speed\", \"definition\", '\"240 [rev/min]\"', \"input-parameter\", \"yes\", \"q\"\n)\n\n# Set MRF zone parameters\nsession.setup.cell_zone_conditions.fluid[\"mrf\"].mrf_motion = True\ncell_zc = session.setup.cell_zone_conditions.fluid[\"mrf\"]\n# cell_zc.mrf_omega.value = \"agitation_speed\"\n\n# Set Rotating Wall BC parameters\n# Set wall boundary conditions\nsession.setup.boundary_conditions.wall[\"shaft_mrf\"].motion_bc = \"Moving Wall\"\nsession.setup.boundary_conditions.wall[\"shaft_mrf\"].relative = False\nsession.setup.boundary_conditions.wall[\"shaft_mrf\"].rotating = True\nwall_bc = session.setup.boundary_conditions.wall[\"shaft_mrf\"]\n# wall_bc.omega.value = \"agitation_speed\"\n# session.setup.boundary_conditions.wall['shaft_mrf'].ak=-1\n\n# Set Physical Models: VOF & Turbulence Parameters\nsession.setup.models.viscous.options.curvature_correction = \"yes\"\nsession.setup.models.multiphase.models = \"vof\"\n\n# Define models and phases properties\nsession.tui.define.models.multiphase.volume_fraction_parameters = (\n    \"implicit\",\n    1e-6,\n)\nsession.tui.define.models.multiphase.body_force_formulation(\"yes\")\nsession.tui.define.phases.set_domain_properties.phase_domains = (\n    \"phase-2\",\n    \"material\",\n    \"yes\",\n    \"air\",\n    \"q\",\n    \"q\",\n)\nsession.tui.define.phases.set_domain_properties.change_phases_names(\"water\", \"air\")\nsession.tui.define.models.steady(\"yes\")\n\n# Set initial solve conditions\nsolve = session.tui.solve\nsolve.set.multiphase_numerics.solution_stabilization.execute_settings_optimization(\n    \"yes\"\n)\nsession.tui.solve.initialize.reference_frame(\"absolute\")\nsession.tui.solve.initialize.set_defaults(\"mixture\", \"k\", 0.001)\nsession.tui.solve.initialize.mp_localized_turb_init.enable(\"no\")\nsession.tui.solve.cell_registers.add(\n    \"liquid_patch\",\n    \"type\",\n    \"hexahedron\",\n    \"min-point\",\n    -100,\n    -100,\n    -100,\n    \"max-point\",\n    100,\n    100,\n    0.19,\n    \"q\",\n    \"q\",\n)\nsession.tui.solve.initialize.initialize_flow()\nsession.tui.solve.patch(\"water\", \"()\", \"liquid_patch\", \"()\", \"mp\", 1)\n\n# Setting up objects for postprocessing\nsession.tui.surface.iso_surface(\"water\", \"vof\", \"freesurface\", \"()\", \"()\", 0.5, \"()\")\nsession.tui.surface.iso_surface(\"mixture\", \"y-coordinate\", \"ymid\", \"()\", \"()\", 0, \"()\")\n\n# set graphics mesh properties\nsession.results.graphics.mesh[\"internals\"] = {}\nsession.results.graphics.mesh[\"internals\"].surfaces_list = [\n    \"wall_impeller\",\n    \"shaft_mrf\",\n    \"shaft_tank\",\n]\nsession.results.graphics.mesh[\"internals\"].surfaces_list()\nsession.results.graphics.mesh[\"tank\"] = {}\nsession.results.graphics.mesh[\"tank\"].surfaces_list = [\"wall_tank\"]\nsession.results.graphics.mesh[\"tank\"].surfaces_list()\n\n# set graphics contour properties\nsession.results.graphics.contour[\"contour-1\"] = {}\nsession.results.graphics.contour[\"contour-1\"].surfaces_list = [\"ymid\"]\nsession.results.graphics.contour[\"contour-1\"].surfaces_list()\nsession.results.graphics.contour[\"contour-1\"].field = \"water-vof\"\n\n# set graphics mesh properties\nsession.results.graphics.mesh[\"fs\"] = {}\nsession.results.graphics.mesh[\"fs\"].surfaces_list = [\"freesurface\"]\nsession.results.graphics.mesh[\"fs\"].surfaces_list()\n\n# Create graphic object\nsession.tui.display.objects.create(\n    \"scene\",\n    \"scene-1\",\n    \"graphics-objects\",\n    \"add\",\n    \"tank\",\n    \"transparency\",\n    75,\n    \"q\",\n    \"add\",\n    \"internals\",\n    \"transparency\",\n    20,\n    \"q\",\n    \"add\",\n    \"fs\",\n    \"transparency\",\n    20,\n    \"q\",\n    \"q\",\n    \"q\",\n)\n\n# Create animations\nsession.tui.solve.animate.objects.create(\n    \"animation-2\",\n    \"animate-on\",\n    \"scene-1\",\n    \"frequency\",\n    20,\n    \"storage-type\",\n    \"png\",\n    \"view\",\n    \"top\",\n    \"q\",\n    \"q\",\n)\n\n# # Set views properties\nsession.tui.display.views.restore_view(\"top\")\nsession.tui.display.views.auto_scale()\n\n# Set windows resolution\n# session.tui.display.set.picture.use_window_resolution(\"no\")\n\n# Set x-axis resolution\nsession.tui.display.set.picture.x_resolution(600)\n\n# Set y-axis resolution\nsession.tui.display.set.picture.y_resolution(600)\n\n# Save Initial Files & Run Calculation\nsave_case_data_as = str(Path(pyfluent.EXAMPLES_PATH) / \"vortex_init.cas.h5\")\nsession.tui.file.write_case_data(save_case_data_as)\n\n# Set number of iterations\nsession.tui.solve.set.number_of_iterations(25)  # 1500\n\n# Stat iterations\nsession.tui.solve.iterate()\n\n\n# LIC Setup\nsession.tui.surface.plane_surface(\"midplane\", \"zx-plane\", 0)\n\n# Set lic properties\nsession.results.graphics.lic[\"lic-1\"] = {}\nsession.results.graphics.lic[\"lic-1\"].surfaces_list = [\"midplane\"]\nsession.results.graphics.lic[\"lic-1\"].surfaces_list()\nsession.results.graphics.lic[\"lic-1\"].field = \"velocity-magnitude\"\nsession.results.graphics.lic[\"lic-1\"].lic_intensity_factor = 10\nsession.results.graphics.lic[\"lic-1\"].texture_size = 10\n\n# Display object\nsession.tui.display.objects.display(\"lic-1\")\n\n# Set views properties\nsession.tui.display.views.restore_view(\"top\")\nsession.tui.display.views.auto_scale()\n\n# Set windows resolution\nsession.tui.display.set.picture.use_window_resolution(\"no\")\n\n# Set x-axis resolution\nsession.tui.display.set.picture.x_resolution(600)\n\n# Set y-axis resolution\nsession.tui.display.set.picture.y_resolution(600)\n\n# Save vortex picture\nsession.tui.display.save_picture(\"lic-1.png\")\n\n# Save Final Vortex Shape\n# Display vortex\nsession.tui.display.objects.display(\"scene-1\")\n\n# Set views properties\nsession.tui.display.views.restore_view(\"top\")\nsession.tui.display.views.auto_scale()\n\n# Set windows resolution\nsession.tui.display.set.picture.use_window_resolution(\"no\")\n\n# Set x-axis resolution\nsession.tui.display.set.picture.x_resolution(600)\n\n# Set y-axis resolution\nsession.tui.display.set.picture.y_resolution(600)\n\n# Save vortex picture\nsession.tui.display.save_picture(\"vortex.png\")\n\n# Save and write case data\nsave_case_data_as = str(Path(pyfluent.EXAMPLES_PATH) / \"vortex_final.cas.h5\")\nsession.tui.file.write_case_data(save_case_data_as)\n\n# GIF Animation: Vortex Formation\nimport os\n\nimport imageio\n\npng_dir = os.getcwd()\nimages = []\nfor file_name in sorted(os.listdir(png_dir)):\n    if file_name.startswith(\"animation\") and file_name.endswith(\".png\"):\n        file_path = os.path.join(png_dir, file_name)\n        images.append(imageio.imread(file_path))\nimageio.mimsave(\"vortex.gif\", images)\n\n# Load animation\nfrom IPython.display import Image\n\nImage(filename=\"vortex.gif\")"
      ]
    }
  ],
  "metadata": {
    "kernelspec": {
      "display_name": "Python 3",
      "language": "python",
      "name": "python3"
    },
    "language_info": {
      "codemirror_mode": {
        "name": "ipython",
        "version": 3
      },
      "file_extension": ".py",
      "mimetype": "text/x-python",
      "name": "python",
      "nbconvert_exporter": "python",
      "pygments_lexer": "ipython3",
      "version": "3.9.16"
    }
  },
  "nbformat": 4,
  "nbformat_minor": 0
}