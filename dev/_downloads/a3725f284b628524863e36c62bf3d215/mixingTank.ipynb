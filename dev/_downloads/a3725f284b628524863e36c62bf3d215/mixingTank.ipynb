{
  "cells": [
    {
      "cell_type": "code",
      "execution_count": null,
      "metadata": {
        "collapsed": false
      },
      "outputs": [],
      "source": [
        "%matplotlib inline"
      ]
    },
    {
      "cell_type": "markdown",
      "metadata": {},
      "source": [
        "\n# MixingTank-WorkFlow\nThese examples show you how you can use Fluent capabilities from Python to perform\nFluent simulations. This includes geometry import, Fluent's meshing workflows,\nsetting up and running the solver, and reviewing the results using Fluent's\npostprocessing capabilities.\n"
      ]
    },
    {
      "cell_type": "code",
      "execution_count": null,
      "metadata": {
        "collapsed": false
      },
      "outputs": [],
      "source": [
        "from pathlib import Path\n\n# Stirred Tank: Fluent Meshing, Fluent Solver and Postprocessing\nimport ansys.fluent.core as pyfluent\nfrom ansys.fluent.core import examples\n\n# pyfluent.set_log_level(\"INFO\")\n\n# Fluent Meshing\nsession = pyfluent.launch_fluent(\n    version=\"3d\", precision=\"double\", processor_count=6, mode=\"meshing\"\n)\n\n# Check server status\nsession.check_health()\n\n# Initialize Workflow\nsession.workflow.InitializeWorkflow(WorkflowType=\"Watertight Geometry\")\ngeom_filename = examples.download_file(\n    \"StirredTank.scdoc.pmdb\",\n    \"pyfluent/examples/MixingTank-WorkFlow\",\n)\nsession.workflow.TaskObject[\"Import Geometry\"].Arguments = dict(\n    FileName=geom_filename\n)  # noqa: E501\nsession.workflow.TaskObject[\"Import Geometry\"].Execute()\nsession.workflow.TaskObject[\"Generate the Surface Mesh\"].Execute()\nsession.workflow.TaskObject[\"Describe Geometry\"].Arguments = dict(\n    SetupType=\"The geometry consists of only fluid regions with no voids\",\n    wall_to_internal=\"Yes\",\n)\nsession.workflow.TaskObject[\"Describe Geometry\"].Execute()\nsession.workflow.TaskObject[\"Update Boundaries\"].Execute()\nsession.workflow.TaskObject[\"Update Regions\"].Execute()\nsession.workflow.TaskObject[\"Generate the Volume Mesh\"].Execute()\nsession = session.switch_to_solver()\n\n# Fluent Solver Setup\nsession.tui.define.operating_conditions.gravity(\"Yes\", 0, 0, -9.81)\nsession.tui.define.parameters.enable_in_TUI(\"yes\")\n\n# Material with density and viscosity as input parameters\nsession.tui.define.materials.copy(\"fluid\", \"water-liquid\")\nsession.tui.define.materials.change_create(\n    \"water-liquid\",\n    \"water-liquid\",\n    \"yes\",\n    \"yes\",\n    \"density\",\n    1000,\n    \"no\",\n    \"no\",\n    \"yes\",\n    \"yes\",\n    \"viscosity\",\n    0.001,\n    \"no\",\n    \"no\",\n    \"no\",\n)\n\n# Solution Methods & Controls\nsession.tui.solve.set.p_v_coupling(20)\nsession.tui.solve.set.discretization_scheme(\"pressure\", 14)\nsession.tui.solve.set.under_relaxation(\"pressure\", 0.5)\nsession.tui.solve.set.under_relaxation(\"mom\", 0.3)\nsession.tui.solve.set.under_relaxation(\"k\", 0.6)\nsession.tui.solve.set.under_relaxation(\"omega\", 0.6)\nsession.tui.solve.set.under_relaxation(\"turb-viscosity\", 0.6)\n\n# Initialization Settings & Residual Criteria\nsession.tui.solve.initialize.reference_frame(\"absolute\")\nsession.tui.solve.initialize.set_defaults(\"k\", 0.001)\nsession.tui.solve.monitors.residual.convergence_criteria(\n    0.0001, 0.0001, 0.0001, 0.0001, 0.0001, 0.0001\n)\n\n# Setup MRF with agitation speed as parameter\nsession.tui.define.boundary_conditions.set.fluid(\n    [\"fluid_mrf*\"],\n    \"mrf-motion?\",\n    \"yes\",\n    \"mrf-ak\",\n    \"no\",\n    \"no\",\n    -1,\n    \"mrf-omega\",\n    \"yes\",\n    \"agitation_speed\",\n    10,\n    \"material\",\n    \"yes\",\n    \"water-liquid\",\n    \"q\",\n)\nsession.tui.define.boundary_conditions.set.fluid(\n    \"fluid_tank\", \"()\", \"material\", \"yes\", \"water-liquid\", \"q\"\n)\nsession.tui.define.boundary_conditions.set.wall(\n    [\"wall_shaft*\"],\n    \"motion-bc\",\n    \"yes\",\n    \"motion-bc-moving\",\n    \"relative?\",\n    \"no\",\n    \"rotating\",\n    \"yes\",\n    \"ak\",\n    \"no\",\n    -1,\n    \"omega\",\n    \"yes\",\n    \"yes\",\n    \"agitation_speed\",\n    \"q\",\n)\nsession.tui.define.boundary_conditions.set.wall(\n    \"wall_liquid_level\", \"()\", \"shear-bc\", \"yes\", \"shear-bc-spec-shear\", \"q\"\n)\n\n# Report Definitions\nsession.tui.solve.report_definitions.add(\n    \"vol-avg-vel\",\n    \"volume-average\",\n    \"field\",\n    \"velocity-magnitude\",\n    \"zone-names\",\n    \"fluid*\",\n    \"()\",\n    \"q\",\n)\nsession.tui.solve.report_definitions.add(\n    \"torque\", \"moment\", \"thread-names\", \"wall_impeller*\", \"()\", \"scaled?\", \"no\", \"q\"\n)\nsession.tui.solve.report_plots.add(\"torque\", \"report-defs\", \"torque\", \"()\", \"q\")\nsession.tui.solve.report_plots.add(\n    \"vol-avg-vel\", \"report-defs\", \"vol-avg-vel\", \"()\", \"q\"\n)\nsession.tui.solve.report_files.add(\n    \"torque\", \"report-defs\", \"torque\", \"()\", \"file-name\", \"torque.out\", \"q\"\n)\nvol_avg_vel_out_filepath = str(Path(pyfluent.EXAMPLES_PATH) / \"vol-avg-vel.out\")\nsession.tui.solve.report_files.add(\n    \"vol-avg-vel\",\n    \"report-defs\",\n    \"vol-avg-vel\",\n    \"()\",\n    \"file-name\",\n    vol_avg_vel_out_filepath,\n    \"q\",\n)\nsession.tui.solve.report_definitions.add(\n    \"average-dissipation-rate\",\n    \"volume-average\",\n    \"field\",\n    \"turb-diss-rate\",\n    \"zone-names\",\n    \"fluid*\",\n    \"()\",\n    \"q\",\n)\nsession.tui.solve.report_definitions.add(\n    \"maximum-dissipation-rate\",\n    \"volume-max\",\n    \"field\",\n    \"turb-diss-rate\",\n    \"zone-names\",\n    \"fluid*\",\n    \"()\",\n    \"q\",\n)\nsession.tui.solve.report_definitions.add(\n    \"average-strain-rate\",\n    \"volume-average\",\n    \"field\",\n    \"strain-rate\",\n    \"zone-names\",\n    \"fluid*\",\n    \"()\",\n    \"q\",\n)\nsession.tui.solve.report_definitions.add(\n    \"maximum-strain-rate\",\n    \"volume-max\",\n    \"field\",\n    \"strain-rate\",\n    \"zone-names\",\n    \"fluid*\",\n    \"()\",\n    \"q\",\n)\nsession.tui.solve.report_definitions.add(\n    \"fluid-volume\", \"volume-zonevol\", \"zone-names\", \"fluid*\", \"()\", \"q\"\n)\n\n# Creating Output Parameters\nsession.tui.define.parameters.output_parameters.create(\"report-definition\", \"torque\")\nsession.tui.define.parameters.output_parameters.create(\n    \"report-definition\", \"fluid-volume\"\n)\nsession.tui.define.parameters.output_parameters.create(\n    \"report-definition\", \"average-dissipation-rate\"\n)\nsession.tui.define.parameters.output_parameters.create(\n    \"report-definition\", \"maximum-dissipation-rate\"\n)\nsession.tui.define.parameters.output_parameters.create(\n    \"report-definition\", \"average-strain-rate\"\n)\nsession.tui.define.parameters.output_parameters.create(\n    \"report-definition\", \"maximum-strain-rate\"\n)\n\n\n# Run Settings\n# Initialize workflow and set itertaions\nsession.tui.solve.set.number_of_iterations(50)  # 500\nsession.tui.solve.initialize.initialize_flow()\nsession.tui.solve.iterate()\n\n\n# Postprocessing\n\n# Define iso surface\nsession.tui.surface.iso_surface(\"y-coordinate\", \"ymid\", \"()\", \"()\", 0, \"()\")\n\n\n# Add contour properties\nsession.results.graphics.contour[\"contour-1\"] = {}\nsession.results.graphics.contour[\"contour-1\"].surfaces_list = [\"ymid\"]\nsession.results.graphics.contour[\"contour-1\"].surfaces_list()\nsession.results.graphics.contour[\"contour-1\"].field = \"velocity-magnitude\"\n\n# Display and save contour\nsession.tui.display.objects.display(\"contour-1\")\nsession.tui.display.views.restore_view(\"top\")\nsession.tui.display.views.auto_scale()\nsession.tui.display.set.picture.x_resolution(600)\nsession.tui.display.set.picture.y_resolution(600)\nsession.tui.display.save_picture(\"vel-contour.png\")\n\n# Velocity Contour on Mid Plane\n\n# Postprocessing with PyVista\nimport ansys.fluent.visualization.pyvista as pv\n\ngraphics_session1 = pv.Graphics(session)\ncontour1 = graphics_session1.Contours[\"contour-1\"]\ncontour1.field = \"velocity-magnitude\"\ncontour1.surfaces_list = [\"ymid\"]\ncontour1.display()\n\n# Write and save case data\nsave_case_as = str(Path(pyfluent.EXAMPLES_PATH) / \"final.cas.h5\")\nsession.tui.file.write_case_data(save_case_as)\n\n\nimport csv\n\n# Plotting the saved monitors using matplotlib\nimport matplotlib.pyplot as plt\n\nX = []\nY = []\ni = -1\nwith open(vol_avg_vel_out_filepath, \"r\") as datafile:\n    plotting = csv.reader(datafile, delimiter=\" \")\n    for rows in plotting:\n        i = i + 1\n        if i > 2:\n            X.append(int(rows[0]))\n            Y.append(float(rows[1]))\n    plt.plot(X, Y)\n    plt.title(\"Average Velocity Monitor\")\n    plt.xlabel(\"Iterations\")\n    plt.ylabel(\"Average Velocity (m/s)\")\n    # plt.show()"
      ]
    }
  ],
  "metadata": {
    "kernelspec": {
      "display_name": "Python 3",
      "language": "python",
      "name": "python3"
    },
    "language_info": {
      "codemirror_mode": {
        "name": "ipython",
        "version": 3
      },
      "file_extension": ".py",
      "mimetype": "text/x-python",
      "name": "python",
      "nbconvert_exporter": "python",
      "pygments_lexer": "ipython3",
      "version": "3.9.16"
    }
  },
  "nbformat": 4,
  "nbformat_minor": 0
}