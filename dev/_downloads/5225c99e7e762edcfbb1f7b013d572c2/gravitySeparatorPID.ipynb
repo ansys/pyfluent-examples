{
  "cells": [
    {
      "cell_type": "code",
      "execution_count": null,
      "metadata": {
        "collapsed": false
      },
      "outputs": [],
      "source": [
        "%matplotlib inline"
      ]
    },
    {
      "cell_type": "markdown",
      "metadata": {},
      "source": [
        "\n# Gravity-Separator-PID\nThese examples show you how you can use Fluent capabilities from Python to perform\nFluent simulations. This includes geometry import, Fluent's meshing workflows,\nsetting up and running the solver, and reviewing the results using Fluent's\npostprocessing capabilities.\n"
      ]
    },
    {
      "cell_type": "code",
      "execution_count": null,
      "metadata": {
        "collapsed": false
      },
      "outputs": [],
      "source": [
        "# PID Controller for Gravity Separator\n\nfrom pathlib import Path\n\nimport ansys.fluent.core as pyfluent\nfrom ansys.fluent.core import examples\nimport numpy as np\n\ncase_filename = examples.download_file(\n    \"2d-separator.cas.h5\", \"pyfluent/examples/Gravity-Separator-PID\"\n)\ndata_filename = examples.download_file(\n    \"2d-separator.dat.h5\", \"pyfluent/examples/Gravity-Separator-PID\"\n)\n\n# Create a session and launch the fluent\nsession = pyfluent.launch_fluent(version=\"2d\", precision=\"double\", processor_count=6)\n\n# Read a case file\nsession.tui.file.read_case_data(case_filename)\n\npid_kp = 2.0\npid_ti = 0.01\npid_td = 1\ndesired_water_level = 6\npid_update_frequency = 5\ntotal_iterations = 50  # 5000\n\n# Initial Conditions\n\ninitial_outlet_pressure = eval(\n    session.scheme_eval.exec(\n        (\n            \"(ti-menu-load-string \"\n            '\"/define/named-expressions/compute '\n            'water_outlet_pressure\")',\n        )\n    ).split(\" \")[-4]\n)\ninitial_water_level = eval(\n    session.scheme_eval.exec(\n        (\n            \"(ti-menu-load-string \"\n            '\"/solve/report-definitions/compute '\n            'freesurfacelevel ()\")',\n        )\n    ).split(\" \")[-1]\n)\n\nprint(\n    \"Outlet Pressure is: \"\n    + str(initial_outlet_pressure)\n    + \" Pa and Water Level is: \"\n    + str(initial_water_level)\n    + \" m\"\n)\n\n# Solver Update with PID Control\nderiv_error = 0\nintegral_error = 0\nerror_old = 0\ndelta_t = 1\nn = int(total_iterations / pid_update_frequency)\nwater_level = np.zeros(int(total_iterations / pid_update_frequency))\nwater_pressure = np.zeros(int(total_iterations / pid_update_frequency))\nfor i in range(n):\n    session.tui.solve.iterate(pid_update_frequency)\n    current_water_level = eval(\n        session.scheme_eval.exec(\n            (\n                \"(ti-menu-load-string \"\n                '\"/solve/report-definitions/compute '\n                'freesurfacelevel ()\")',\n            )\n        ).split(\" \")[-1]\n    )\n    water_level[i] = current_water_level\n    error = desired_water_level - current_water_level\n    integral_error += error * delta_t\n    deriv_error = (error - error_old) / delta_t\n    control_value = initial_outlet_pressure + pid_kp * (\n        error + (1.0 / pid_ti) * integral_error + pid_td * deriv_error\n    )\n    water_pressure[i] = control_value\n    error_old = error\n    session.setup.boundary_conditions.pressure_outlet[\"water_outlet\"].phase[\n        \"mixture\"\n    ].gauge_pressure = control_value\n\n# Plot - Water Outlet Pressure vs Iterations\nimport matplotlib.pyplot as plt\n\nX = np.linspace(pid_update_frequency, n * pid_update_frequency, num=n)\nplt.plot(X, water_level)\nplt.title(\"Water Level vs Iterations\")\nplt.ylabel(\"Water Level (m)\")\nplt.xlabel(\"Iterations\")\nplt.show()\n\nplt.plot(X, water_pressure)\nplt.title(\"Water Outlet Pressure vs Iterations\")\nplt.ylabel(\"Pressure (Pa)\")\nplt.xlabel(\"Iterations\")\nplt.show()\n\n# Write and save the case file\nsave_case_data_as = str(Path(pyfluent.EXAMPLES_PATH) / \"2d-separator-final.cas.h5\")\nsession.tui.file.write_case_data(save_case_data_as)"
      ]
    }
  ],
  "metadata": {
    "kernelspec": {
      "display_name": "Python 3",
      "language": "python",
      "name": "python3"
    },
    "language_info": {
      "codemirror_mode": {
        "name": "ipython",
        "version": 3
      },
      "file_extension": ".py",
      "mimetype": "text/x-python",
      "name": "python",
      "nbconvert_exporter": "python",
      "pygments_lexer": "ipython3",
      "version": "3.9.16"
    }
  },
  "nbformat": 4,
  "nbformat_minor": 0
}