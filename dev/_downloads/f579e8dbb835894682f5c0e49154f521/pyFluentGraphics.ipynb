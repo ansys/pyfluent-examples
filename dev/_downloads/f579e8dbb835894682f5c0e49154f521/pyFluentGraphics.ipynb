{
  "cells": [
    {
      "cell_type": "code",
      "execution_count": null,
      "metadata": {
        "collapsed": false
      },
      "outputs": [],
      "source": [
        "%matplotlib inline"
      ]
    },
    {
      "cell_type": "markdown",
      "metadata": {},
      "source": [
        "\n# Graphics-Demo\nThese examples show you how you can use Fluent capabilities from Python to perform\nFluent simulations. This includes geometry import, Fluent's meshing workflows,\nsetting up and running the solver, and reviewing the results using Fluent's\npostprocessing capabilities.\n"
      ]
    },
    {
      "cell_type": "code",
      "execution_count": null,
      "metadata": {
        "collapsed": false
      },
      "outputs": [],
      "source": [
        "# Post processing in PyFluent\n\n# Fluent data post processing can be categorised in two parts\n# Graphics\n# Plotting\n\n# Graphics\n# At present following graphics objects are supported\n# Contour\n# Vector\n# Iso surface\n# Mesh\n\n# For graphics pyVista Library is used.\n\n# Plots\n# At present only XY plots are supported.\n# For plots matplotlib Library is used.\n# In addition animationS are also supported\n\n# Import modules\nimport ansys.fluent.core as pyfluent\nfrom ansys.fluent.core import examples\nfrom ansys.fluent.visualization import set_config\n\nimport_filename = examples.download_file(\n    \"elbow1.cas\", \"pyfluent/examples/Graphics-Demo\"\n)  # noqa: E501\n\nset_config(blocking=True, set_view_on_display=\"isometric\")\n\n# Connect to session\nsession = pyfluent.launch_fluent()\n\n# Read case and Data\nsession.tui.file.read_case(import_filename)\n\n# Initialize workflow\nsession.tui.solve.initialize.initialize_flow()\n\ntry:\n    from ansys.fluent.visualization.matplotlib import Plots, matplot_windows_manager\n    from ansys.fluent.visualization.pyvista import Graphics, pyvista_windows_manager\nexcept ImportError:\n    from ansys.fluent.post.matplotlib import Plots, matplot_windows_manager\n    from ansys.fluent.post.pyvista import Graphics, pyvista_windows_manager\n\n# Get Graphics/XYPlots for session\ngraphics_session1 = Graphics(session)\nxyplots_session1 = Plots(session)\n\n# Create, inquire and set contour properties\ncontour1 = graphics_session1.Contours[\"contour-1\"]\ncontour1.field = \"temperature\"\ncontour1.surfaces_list = [\"symmetry\"]\n\n# Inquire Properties\nlist(graphics_session1.Contours)\ncontour1()\ncontour1(True)\n\ncontour1.surfaces_list.allowed_values\n\ncontour1.field.allowed_values\n\n# contour1.surfaces_list._type\n\ntry:\n    contour1.surfaces_list = 1\nexcept Exception as e:\n    print(e)\n\n\ntry:\n    contour1.surfaces_list = [bool]\nexcept Exception as e:\n    print(e)\n\ntry:\n    contour1.surfaces_list = [\"x\"]\nexcept Exception as e:\n    print(e)\n\n# Set Properties\ncontour2 = graphics_session1.Contours[\"contour-2\"]\ncontour2.field = \"velocity-magnitude\"\ncontour2.surfaces_list = [\"symmetry\"]\n\n# Create and set iso surface properties\nsurface1 = graphics_session1.Surfaces[\"surface-1\"]\nsurface1.definition.iso_surface.field = \"velocity-magnitude\"\nsurface1.definition.iso_surface.rendering = \"contour\"\nsurface1.definition.iso_surface.iso_value = 0.3\n\n# Create Mesh\nmesh1 = graphics_session1.Meshes[\"mesh-1\"]\nmesh1.show_edges = True\nmesh1.surfaces_list = [\"wall\"]\n\n# Create and set iso vector properties\nvector1 = graphics_session1.Vectors[\"vector-1\"]\nvector1.surfaces_list = [\"symmetry\"]\nvector1.scale = 4.0\nvector1.skip = 4\n\n# plot sessions\n# get_ipython().run_line_magic(\"matplotlib\", \"notebook\")\nplots_session1 = Plots(session)\np1 = plots_session1.XYPlots[\"p1\"]\np1.surfaces_list = [\"symmetry\"]\np1.y_axis_function = \"temperature\"\np1.plot(\"p1\")\n\np1.surfaces_list = [\"symmetry\"]\np1.y_axis_function = \"pressure\"\nmatplot_windows_manager.refresh_windows(\"\", [\"p1\"])\n\nfrom ansys.fluent.visualization.matplotlib import matplot_windows_manager\n\n# Define functions to plot\np1.y_axis_function = \"pressure\"\nmatplot_windows_manager.open_window(\"p2\")\nmatplot_windows_manager.set_object_for_window(p1, \"p2\")\nmatplot_windows_manager.refresh_windows(\"\", [\"p1\", \"p2\"])\n\n# Change function\nplots_session1 = Plots(session)\np1 = plots_session1.XYPlots[\"p1\"]\np1.surfaces_list = [\"symmetry\"]\np1.y_axis_function = \"velocity-magnitude\"\np1.plot(\"p3\")\n\n# Define callbacks\nfrom ansys.fluent.core.utils.generic import execute_in_event_loop_threadsafe\n\n\n@execute_in_event_loop_threadsafe\ndef auto_refersh_call_back_iteration(session_id, event_info):\n    if event_info.index % 5 == 0:\n        pyvista_windows_manager.refresh_windows(session_id, [\"contour-1\", \"contour-2\"])\n        matplot_windows_manager.refresh_windows(\"\", [\"residual\"])\n\n\n@execute_in_event_loop_threadsafe\ndef initialize_call_back(session_id, event_info):\n    pyvista_windows_manager.refresh_windows(session_id, [\"contour-1\", \"contour-2\"])\n    matplot_windows_manager.refresh_windows(\"\", [\"residual\"])\n\n\n# Register callbacks\ncb_init_id = session.events_manager.register_callback(\n    \"InitializedEvent\", initialize_call_back\n)\ncb_data_read_id = session.events_manager.register_callback(\n    \"DataReadEvent\", initialize_call_back\n)\ncb_itr_id = session.events_manager.register_callback(\n    \"IterationEndedEvent\", auto_refersh_call_back_iteration\n)\n\n# Specify plotters id to animate\npyvista_windows_manager.animate_windows(\"\", [\"contour-1\", \"contour-2\"])\n\nfrom ansys.fluent.core.utils.async_execution import asynchronous\n\n\n@asynchronous\ndef iterate(count):\n    session.tui.solve.iterate(count)\n\n\niterate(100)\n\n# Close plotter to write animations\npyvista_windows_manager.close_windows()"
      ]
    }
  ],
  "metadata": {
    "kernelspec": {
      "display_name": "Python 3",
      "language": "python",
      "name": "python3"
    },
    "language_info": {
      "codemirror_mode": {
        "name": "ipython",
        "version": 3
      },
      "file_extension": ".py",
      "mimetype": "text/x-python",
      "name": "python",
      "nbconvert_exporter": "python",
      "pygments_lexer": "ipython3",
      "version": "3.9.16"
    }
  },
  "nbformat": 4,
  "nbformat_minor": 0
}