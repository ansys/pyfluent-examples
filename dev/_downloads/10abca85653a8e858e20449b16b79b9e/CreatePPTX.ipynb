{
  "cells": [
    {
      "cell_type": "code",
      "execution_count": null,
      "metadata": {
        "collapsed": false
      },
      "outputs": [],
      "source": [
        "%matplotlib inline"
      ]
    },
    {
      "cell_type": "markdown",
      "metadata": {},
      "source": [
        "\n# Part-1-Create-PPTX\nThese examples show you how you can generate PPTX and use Fluent capabilities\nfrom Python to perform Fluent simulations. This includes geometry import,\nFluent's meshing workflows, setting up and running the solver,\nand reviewing the results using Fluent's postprocessing capabilities.\n"
      ]
    },
    {
      "cell_type": "code",
      "execution_count": null,
      "metadata": {
        "collapsed": false
      },
      "outputs": [],
      "source": [
        "# import modules\nfrom pptx import Presentation\nfrom pptx.util import Inches\n\n\n# Generate PPTX\ndef generatePPTX(session):\n    template_filename = \"template.pptx\"\n\n    prs = Presentation(template_filename)\n\n    # slide layout 0 is selected based on particulate template\n    slide = prs.slides.add_slide(prs.slide_layouts[0])\n\n    # placeholder 10 holds the title text for particular template\n    title = slide.placeholders[10]\n    title.text = \"Pipe Elbow Report\"\n\n    # placeholder 12 holds the subtitle text for particular template\n    subtitle = slide.placeholders[12]\n    subtitle.text = \"Automatically Generated Report\"\n\n    # Collect Report Definition Data\n    repdef = []\n    repcalc = []\n    reportList = session.solution.report_definitions.surface.get_object_names()\n    for report in reportList:\n        for key, value in session.solution.report_definitions.compute(\n            report_defs=[report]\n        )[0].items():\n            repdef.append(key)\n            repcalc.append(value[0])\n\n    if reportList:  # if there are reports\n        slide = prs.slides.add_slide(prs.slide_layouts[3])\n        title = slide.shapes.title\n        title.text = \"Report Definitions\"\n\n        # Create a table of appropriate size\n        x, y, cx, cy = Inches(2), Inches(2), Inches(8), Inches(1.5)\n        shape = slide.shapes.add_table(len(repdef) + 1, 2, x, y, cx, cy)\n        table = shape.table\n\n        # Create table headers\n        cell = table.cell(0, 0)\n        cell.text = \"Report Definition\"\n        cell = table.cell(0, 1)\n        cell.text = \"Value\"\n\n        # Populate table with Report Definition Data\n        for index, value in enumerate(repdef):\n            cell = table.cell(index + 1, 0)\n            cell.text = value\n            cell = table.cell(index + 1, 1)\n            cell.text = format(repcalc[index], \".4E\")\n\n    # Function that will be used later to resize pictures to fit their placeholder\n    def adjust_picture_to_fit(picture):\n        available_width = picture.width\n        available_height = picture.height\n        image_width, image_height = picture.image.size\n        placeholder_aspect_ratio = float(available_width) / float(available_height)\n        image_aspect_ratio = float(image_width) / float(image_height)\n        pos_left, pos_top = picture.left, picture.top\n\n        picture.crop_top = 0\n        picture.crop_left = 0\n        picture.crop_bottom = 0\n        picture.crop_right = 0\n\n        # ---if the placeholder is \"wider\" in aspect, shrink the picture width while\n        # ---maintaining the image aspect ratio\n        if placeholder_aspect_ratio > image_aspect_ratio:\n            picture.height = available_height\n            picture.width = int(image_aspect_ratio * available_height)\n        # ---otherwise shrink the height\n        else:\n            picture.width = available_width\n            picture.height = int(available_width / image_aspect_ratio)\n        picture.left, picture.top = pos_left, pos_top\n\n    # Dictionary corresponding to graphics objects.\n    # Once scenes are enabled with the Settings API they can be added here.\n    Images = {\n        \"mesh\": session.results.graphics.mesh.get_object_names(),\n        \"contour\": session.results.graphics.contour.get_object_names(),\n        \"vector\": session.results.graphics.vector.get_object_names(),\n        \"pathlines\": session.results.graphics.pathline.get_object_names(),\n        \"particletracks\": session.results.graphics.particle_track.get_object_names(),\n    }\n\n    session.tui.display.set.picture.use_window_resolution(\"no\")\n\n    # Loop through the objects of each key in the Images dictionary,\n    # display, save picture, and insert picture into PPTX\n    for key, value in Images.items():\n        for image in value:\n            graph_slide_layout = prs.slide_layouts[6]\n            slide = prs.slides.add_slide(graph_slide_layout)\n            title = slide.shapes.title\n            title.text = image\n            # session.results.graphics.mesh.display(object_name=image)\n            session.tui.display.save_picture(image + \".jpg\")\n            placeholder = slide.placeholders[14]\n            pic = placeholder.insert_picture(image + \".jpg\")\n            adjust_picture_to_fit(pic)\n\n    # Add residual plot.\n    session.tui.plot.residuals()\n    session.tui.display.save_picture(\"residuals.jpg\")\n\n    graph_slide_layout = prs.slide_layouts[6]\n    slide = prs.slides.add_slide(graph_slide_layout)\n    title = slide.shapes.title\n    title.text = \"Residuals\"\n\n    placeholder = slide.placeholders[14]\n    pic = placeholder.insert_picture(\"residuals.jpg\")\n    adjust_picture_to_fit(pic)\n\n    # Add charts for each individual report plot.\n\n    # Generate a list of all report plots.\n    # Using Scheme Eval until Settings API can be used.\n    reportdefs_string = session.scheme_eval.exec(\n        ('(ti-menu-load-string \"solve/report-plots/list \")',)\n    )\n    reportdefs = reportdefs_string.split()\n    reportdefs.pop(0)\n\n    # Loop through all report plots,\n    # generate a slide titled with report plot name, including image of plot\n    if reportdefs[0] == \"invalid\":\n        print(\"There are no report definitions.\")\n    else:\n        for report in reportdefs:\n            session.tui.solve.report_plots.plot(report)\n            session.tui.display.save_picture(report + \".jpg\")\n\n            graph_slide_layout = prs.slide_layouts[6]\n            slide = prs.slides.add_slide(graph_slide_layout)\n            title = slide.shapes.title\n            title.text = report\n\n            placeholder = slide.placeholders[14]\n            pic = placeholder.insert_picture(report + \".jpg\")\n            adjust_picture_to_fit(pic)\n\n    prs.save(\"report.pptx\")"
      ]
    }
  ],
  "metadata": {
    "kernelspec": {
      "display_name": "Python 3",
      "language": "python",
      "name": "python3"
    },
    "language_info": {
      "codemirror_mode": {
        "name": "ipython",
        "version": 3
      },
      "file_extension": ".py",
      "mimetype": "text/x-python",
      "name": "python",
      "nbconvert_exporter": "python",
      "pygments_lexer": "ipython3",
      "version": "3.9.16"
    }
  },
  "nbformat": 4,
  "nbformat_minor": 0
}