{
  "cells": [
    {
      "cell_type": "code",
      "execution_count": null,
      "metadata": {
        "collapsed": false
      },
      "outputs": [],
      "source": [
        "%matplotlib inline"
      ]
    },
    {
      "cell_type": "markdown",
      "metadata": {},
      "source": [
        "\n# Separator-Collection-Efficiency\nThese examples show you how you can use Fluent capabilities from Python to perform\nFluent simulations. This includes geometry import, Fluent's meshing workflows,\nsetting up and running the solver, and reviewing the results using Fluent's\npostprocessing capabilities.\n"
      ]
    },
    {
      "cell_type": "code",
      "execution_count": null,
      "metadata": {
        "collapsed": false
      },
      "outputs": [],
      "source": [
        "from pathlib import Path\n\n# Oil Separator: Plot Collection Efficiency\n# Import pyfluent module\nimport ansys.fluent.core as pyfluent\n\n# Set log level to info\n# pyfluent.set_log_level(\"INFO\")\n\n# Create a session\nsession = pyfluent.launch_fluent(version=\"3d\", precision=\"double\", processor_count=6)\n\nfrom ansys.fluent.core import examples\n\nimport_filename = examples.download_file(\n    \"oil_separator.msh.h5\",\n    \"pyfluent/examples/Separator-Collection-Efficiency\",\n)  # noqa: E501\n\n# Fluent Solver Setup\n# Read case file\nsession.tui.file.read_case(import_filename)\n\n# Set gravity\nsession.tui.define.operating_conditions.gravity(\"Yes\", 0, -9.81, 0)\n\n# Set viscous parameters\nsession.tui.define.models.viscous.ke_realizable(\"yes\")\n\n# Set boundary condition\nsession.tui.define.boundary_conditions.list_zones()\n\n# Set velocity inlet\nsession.tui.define.boundary_conditions.inlet = \"velocity-inlet\"\n\nsession.tui.solve.set.p_v_coupling(20)\n\n# Set all discretization scheme constants\nsession.tui.solve.set.discretization_scheme(\"pressure\", 14)\nsession.tui.solve.set.discretization_scheme(\"k\", 1)\nsession.tui.solve.set.discretization_scheme(\"epsilon\", 1)\n\n# Set all relaxation constants\nsession.tui.solve.set.under_relaxation(\"pressure\", 0.5)\nsession.tui.solve.set.under_relaxation(\"mom\", 0.3)\nsession.tui.solve.set.under_relaxation(\"k\", 0.6)\nsession.tui.solve.set.under_relaxation(\"epsilon\", 0.6)\nsession.tui.solve.set.under_relaxation(\"turb-viscosity\", 0.6)\n\n# Define convergence criteria\nsession.tui.solve.monitors.residual.convergence_criteria(\n    0.0001, 0.0001, 0.0001, 0.0001, 0.0001, 0.0001\n)\n\n# Define injection properties\nsession.tui.define.injections(\n    \"create-injection\",\n    \"injection-0\",\n    \"no\",\n    \"yes\",\n    \"surface\",\n    \"no\",\n    \"inlet\",\n    \"()\",\n    \"no\",\n    \"yes\",\n    \"yes\",\n    \"yes\",\n    10,\n    0.15,\n    \"no\",\n    \"no\",\n    \"no\",\n    \"no\",\n    0.0001,\n    1,\n    0.2,\n    \"q\",\n)\n\n# Setup boundary conditions\nsession.setup.boundary_conditions.wall[\"wall_trap\"].dpm_bc_type = \"trap\"\n\n# Add report definitions\nsession.tui.solve.report_definitions.add(\n    \"vol-avg-vel\",\n    \"volume-average\",\n    \"field\",\n    \"velocity-magnitude\",\n    \"zone-names\",\n    \"fluid*\",\n    \"()\",\n    \"q\",\n)\n\n# Add report plots\nsession.tui.solve.report_plots.add(\n    \"vol-avg-vel\", \"report-defs\", \"vol-avg-vel\", \"()\", \"q\"\n)\n\n# Add report files\nsession.tui.solve.report_files.add(\n    \"vol-avg-vel\",\n    \"report-defs\",\n    \"vol-avg-vel\",\n    \"()\",\n    \"file-name\",\n    str(Path(pyfluent.EXAMPLES_PATH) / \"vol-avg-vel.out\"),\n    \"q\",\n)\n\n# Run Settings\n# Set number of iterations\nsession.tui.solve.set.number_of_iterations(25)  # 1000\n\n# In[26]:\n\n# Initialize solver workflow\nsession.tui.solve.initialize.initialize_flow()\n\n# Start iterations\nsession.tui.solve.iterate()\n\n# Postprocessing\n# Define iso surface\nsession.tui.surface.iso_surface(\"z-coordinate\", \"zmid\", \"()\", \"()\", 0, \"()\")\n\n# Define plane surface\nsession.tui.surface.plane_surface(\"midplane\", \"xy-plane\", 0)\n\n# Set contour properties\nsession.results.graphics.contour[\"contour-1\"] = {}\nsession.results.graphics.contour[\"contour-1\"].surfaces_list = [\"zmid\"]\nsession.results.graphics.contour[\"contour-1\"].surfaces_list()\nsession.results.graphics.contour[\"contour-1\"].field = \"velocity-magnitude\"\n\n# Display contour\nsession.tui.display.objects.display(\"contour-1\")\n\n# Set views properties\nsession.tui.display.views.restore_view(\"front\")\nsession.tui.display.views.auto_scale()\n\n# Set x axis resolution\nsession.tui.display.set.picture.x_resolution(600)\n\n# Set y axis resolution\nsession.tui.display.set.picture.y_resolution(600)\n\n# Save the contour image\nsession.tui.display.save_picture(\"vel-contour.png\")\n\n# Adding graphics properties\nsession.results.graphics.lic[\"lic-1\"] = {}\nsession.results.graphics.lic[\"lic-1\"].surfaces_list = [\"midplane\"]\nsession.results.graphics.lic[\"lic-1\"].field = \"velocity-magnitude\"\nsession.results.graphics.lic[\"lic-1\"].lic_intensity_factor = 10\nsession.results.graphics.lic[\"lic-1\"].texture_size = 10\n\n# Display graphics object\nsession.tui.display.objects.display(\"lic-1\")\n\n# Save the graphics object\nsession.tui.display.save_picture(\"lic-vel.png\")\n\n# Write and save case data\nsave_case_as = str(Path(pyfluent.EXAMPLES_PATH) / \"oil_separator.cas.h5\")\nsession.tui.file.write_case_data(save_case_as)\n\n\n# Velocity on Mid Plane\n\nimport csv\n\nimport matplotlib.pyplot as plt\n\n# Calculating Collection Efficiency\nimport numpy as np\n\ncsv.register_dialect(\"skip_space\", skipinitialspace=True)\ndia = np.array(\n    [5e-6, 6e-6, 7e-6, 8e-6, 9e-6, 1e-5, 1.1e-5, 1.2e-5, 1.3e-5, 1.4e-5, 1.5e-5]\n)\narea = 4.82e-5\ndensity = 900\noil_mf = np.array([0.05, 0.1, 0.15, 0.2, 0.25, 0.3, 0.35, 0.4, 0.45, 0.5, 0.55])\neff = np.zeros((len(oil_mf), len(dia)))\n\nfor i in range(len(oil_mf)):\n    for j in range(len(dia)):\n        session.tui.define.injections(\n            \"set-injection-properties\",\n            \"injection-0\",\n            \"injection-0\",\n            \"no\",\n            \"no\",\n            \"no\",\n            \"inlet\",\n            \"()\",\n            \"no\",\n            \"yes\",\n            \"yes\",\n            \"yes\",\n            10,\n            0.15,\n            \"no\",\n            \"no\",\n            \"no\",\n            \"no\",\n            dia[j],\n            (oil_mf[i] / density * area),\n            oil_mf[i],\n        )\n        session.tui.report.dpm_sample(\"injection-0\", \"()\", \"outlet\", \"()\", \"()\", \"no\")\n        data = 0\n        k = -1\n        with open(\"outlet.dpm\", \"r\") as datafile:\n            plotting = csv.reader(datafile, delimiter=\" \", dialect=\"skip_space\")\n            for rows in plotting:\n                k = k + 1\n                if k > 1:\n                    data = data + eval(rows[8])\n        eff[i][j] = 100.0 * (1.0 - data / oil_mf[i])\n\n\n# 2D Plot using Matplotlib\nplt.scatter(dia, eff[0], label=\"mass flow=0.05kg/s\")\nplt.scatter(dia, eff[-1], label=\"mass flow=0.55kg/s\")\nplt.title(\"Collection Efficiency Curve\")\nplt.xlabel(\"Droplet Diameter (m)\")\nplt.ylabel(\"Collection Efficiency(%)\")\nplt.legend()\nplt.show()\n\n# 3D Surface Plot using Plotly\nimport plotly.graph_objects as go\n\nfig = go.Figure(data=[go.Surface(z=eff, x=dia, y=oil_mf)])\nfig.update_layout(\n    title=\"Separator Collection Efficiency\",\n    autosize=False,\n    width=700,\n    height=700,\n    margin=dict(l=80, r=80, b=80, t=80),\n)\nfig.update_layout(\n    scene=dict(\n        xaxis_title=\"Droplet Diameter (m)\",\n        yaxis_title=\"Oil Mass Flow Rate (Kg/s)\",\n        zaxis_title=\"Collection Efficiency (%)\",\n    )\n)\nfig.show()"
      ]
    }
  ],
  "metadata": {
    "kernelspec": {
      "display_name": "Python 3",
      "language": "python",
      "name": "python3"
    },
    "language_info": {
      "codemirror_mode": {
        "name": "ipython",
        "version": 3
      },
      "file_extension": ".py",
      "mimetype": "text/x-python",
      "name": "python",
      "nbconvert_exporter": "python",
      "pygments_lexer": "ipython3",
      "version": "3.9.16"
    }
  },
  "nbformat": 4,
  "nbformat_minor": 0
}