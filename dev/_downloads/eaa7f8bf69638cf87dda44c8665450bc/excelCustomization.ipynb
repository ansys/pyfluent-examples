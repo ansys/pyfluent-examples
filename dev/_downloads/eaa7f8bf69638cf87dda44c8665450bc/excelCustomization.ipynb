{
  "cells": [
    {
      "cell_type": "code",
      "execution_count": null,
      "metadata": {
        "collapsed": false
      },
      "outputs": [],
      "source": [
        "%matplotlib inline"
      ]
    },
    {
      "cell_type": "markdown",
      "metadata": {},
      "source": [
        "\n# Excel-Monitor-Points\nThese examples show you how you can use Fluent capabilities from Python to perform\nFluent simulations. This includes geometry import, Fluent's meshing workflows,\nsetting up and running the solver, and reviewing the results using Fluent's\npostprocessing capabilities.\n"
      ]
    },
    {
      "cell_type": "code",
      "execution_count": null,
      "metadata": {
        "collapsed": false
      },
      "outputs": [],
      "source": [
        "# Load Settings from Excel Spreadsheet\n# Import modules\n# get_ipython().run_line_magic('matplotlib', 'inline')\nimport ansys.fluent.core as pyfluent\nfrom ansys.fluent.core import examples\n\nimport_case_filename = examples.download_file(\n    \"glycerol_filling_mixing_init.cas.h5\",\n    \"pyfluent/examples/Excel-Monitor-Points\",\n)  # noqa: E501\n\nimport_data_filename = examples.download_file(\n    \"glycerol_filling_mixing_init.dat.h5\",\n    \"pyfluent/examples/Excel-Monitor-Points\",\n)  # noqa: E501\n\n\n# sphinx_gallery_thumbnail_number = -5\nfrom ansys.fluent.visualization import set_config\n\n# from ansys.fluent.visualization.matplotlib import Plots\nfrom ansys.fluent.visualization.pyvista import Graphics\nimport pandas as pd\n\nset_config(blocking=True, set_view_on_display=\"isometric\")\n\n# Import Excel Into Notebook\ndataset = pd.read_excel(\"Setup.xlsx\")\n\n# Convert Columns Into Variables\nlistNames = dataset[\"Monitor Name\"]\nlistCoordX = dataset[\"X\"]\nlistCoordY = dataset[\"Y\"]\nlistCoordZ = dataset[\"Z\"]\n\n# Launch fluent\nsession = pyfluent.launch_fluent()\n\n# Set server status\nsession.check_health()\n\n# Read case file\nsession.tui.file.read_case(import_case_filename)\n\n# Read case data\nsession.tui.file.read_data(import_data_filename)\n\n# Display tank slice\ngraphics = Graphics(session=session)\ntankSlice = graphics.Meshes[\"tank-slice\"]\ntankSlice.show_edges = True\ntankSlice.surfaces_list = [\"tank-slice\"]\ntankSlice.display(\"window-1\")\n\n# Display contour\ngraphics_session = Graphics(session)\ncontourVF = graphics_session.Contours[\"contour-vf\"]\ncontourVF.field = \"liquid-vof\"\ncontourVF.surfaces_list = [\"tank-slice\"]\ncontourVF.display(\"window-2\")"
      ]
    }
  ],
  "metadata": {
    "kernelspec": {
      "display_name": "Python 3",
      "language": "python",
      "name": "python3"
    },
    "language_info": {
      "codemirror_mode": {
        "name": "ipython",
        "version": 3
      },
      "file_extension": ".py",
      "mimetype": "text/x-python",
      "name": "python",
      "nbconvert_exporter": "python",
      "pygments_lexer": "ipython3",
      "version": "3.9.16"
    }
  },
  "nbformat": 4,
  "nbformat_minor": 0
}