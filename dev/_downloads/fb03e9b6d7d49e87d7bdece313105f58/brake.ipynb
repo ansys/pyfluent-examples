{
  "cells": [
    {
      "cell_type": "code",
      "execution_count": null,
      "metadata": {
        "collapsed": false
      },
      "outputs": [],
      "source": [
        "%matplotlib inline"
      ]
    },
    {
      "cell_type": "markdown",
      "metadata": {},
      "source": [
        "\n# Brake-Thermal-PyVista-Matplotlib\nThese examples show you how you can use Fluent capabilities from Python to perform\nFluent simulations. This includes geometry import, Fluent's meshing workflows,\nsetting up and running the solver, and reviewing the results using Fluent's\npostprocessing capabilities.\n"
      ]
    },
    {
      "cell_type": "code",
      "execution_count": null,
      "metadata": {
        "collapsed": false
      },
      "outputs": [],
      "source": [
        "# Brake Thermal Example\n\n# Objective\n# Demonstrate:\n# Fluent setup and simulation using PyFluent\n# Post processing using PyVista and Matplotlib\n\n# Problem Description\n# Braking surface temperature assessment is vey important for safety\n# Brake fade, Vapor lock\n# Brake pad wear\n# Braking performance\n\nfrom pathlib import Path\n\n# import modules\nimport ansys.fluent.core as pyfluent\nfrom ansys.fluent.core import examples\n\nimport_filename = examples.download_file(\n    \"brake.msh\", \"pyfluent/examples/Brake-Thermal-PyVista-Matplotlib\"\n)  # noqa: E501\n\n# Set log level\n# pyfluent.set_log_level(\"DEBUG\")\n\n# Open Fluent in GUI mode\nsession = pyfluent.launch_fluent(version=\"3ddp\", precision=\"double\", processor_count=2)\n\n# Check server status\nsession.check_health()\n\n\n# Read mesh file\nsession.tui.file.read_case(import_filename)\n\n\n# Define models and material\nsession.tui.define.models.energy(\"yes\", \"no\", \"no\", \"no\", \"yes\")\nsession.tui.define.models.unsteady_2nd_order_bounded(\"Yes\")\nsession.tui.define.materials.copy(\"solid\", \"steel\")\n\n\n# Solve only energy equation (conduction)\nsession.tui.solve.set.equations(\"flow\", \"no\", \"kw\", \"no\")\n\n\n# Define disc rotation\n# (15.79 rps corresponds to 100 km/h car speed\n# with 0.28 m of axis height from ground)\nsession.tui.define.boundary_conditions.set.solid(\n    \"disc1\",\n    \"disc2\",\n    \"()\",\n    \"solid-motion?\",\n    \"yes\",\n    \"solid-omega\",\n    \"no\",\n    -15.79,\n    \"solid-x-origin\",\n    \"no\",\n    -0.035,\n    \"solid-y-origin\",\n    \"no\",\n    -0.821,\n    \"solid-z-origin\",\n    \"no\",\n    0.045,\n    \"solid-ai\",\n    \"no\",\n    0,\n    \"solid-aj\",\n    \"no\",\n    1,\n    \"solid-ak\",\n    \"no\",\n    0,\n    \"q\",\n)\n\n# ### Apply frictional heating on pad-disc surfaces\n# (wall thickness 0f 2 mm has been assumed and\n# 2e9 w/m3 is the heat generation which has been\n# calculated from kinetic energy change due to braking)\nsession.tui.define.boundary_conditions.set.wall(\n    \"wall_pad-disc1\",\n    \"wall-pad-disc2\",\n    \"()\",\n    \"wall-thickness\",\n    0.002,\n    \"q-dot\",\n    \"no\",\n    2e9,\n    \"q\",\n)\n\n\n# Outer surfaces are applied a constant htc of 100 W/(m2 K)\n# and 300 K free stream temperature\nsession.tui.define.boundary_conditions.set.wall(\n    \"wall-disc*\",\n    \"wall-geom*\",\n    \"()\",\n    \"thermal-bc\",\n    \"yes\",\n    \"convection\",\n    \"convective-heat-transfer-coefficient\",\n    \"no\",\n    100,\n    \"q\",\n)\n\n# Initialize with 300 K temperature\nsession.tui.solve.initialize.initialize_flow()\n\n\n# ### Report definitions, monitor plots and animation setup\nsession.tui.solve.report_definitions.add(\n    \"max-pad-temperature\",\n    \"volume-max\",\n    \"field\",\n    \"temperature\",\n    \"zone-names\",\n    \"geom-1-innerpad\",\n    \"geom-1-outerpad\",\n)\nsession.tui.solve.report_definitions.add(\n    \"max-disc-temperature\",\n    \"volume-max\",\n    \"field\",\n    \"temperature\",\n    \"zone-names\",\n    \"disc1\",\n    \"disc2\",\n)\n\nsession.tui.solve.report_plots.add(\n    \"max-temperature\",\n    \"report-defs\",\n    \"max-pad-temperature\",\n    \"max-disc-temperature\",\n    \"()\",\n)\n\nreport_file = str(Path(pyfluent.EXAMPLES_PATH) / \"max-temperature.out\")\nsession.tui.solve.report_files.add(\n    \"max-temperature\",\n    \"report-defs\",\n    \"max-pad-temperature\",\n    \"max-disc-temperature\",\n    \"()\",\n    \"file-name\",\n    report_file,\n)\n\n# Set contour properties\nsession.results.graphics.contour[\"contour-1\"] = {\n    \"boundary_values\": True,\n    \"color_map\": {\n        \"color\": \"field-velocity\",\n        \"font_automatic\": True,\n        \"font_name\": \"Helvetica\",\n        \"font_size\": 0.032,\n        \"format\": \"%0.2e\",\n        \"length\": 0.54,\n        \"log_scale\": False,\n        \"position\": 1,\n        \"show_all\": True,\n        \"size\": 100,\n        \"user_skip\": 9,\n        \"visible\": True,\n        \"width\": 6.0,\n    },\n    \"coloring\": {\"smooth\": False},\n    \"contour_lines\": False,\n    \"display_state_name\": \"None\",\n    \"draw_mesh\": False,\n    \"field\": \"temperature\",\n    \"filled\": True,\n    \"mesh_object\": \"\",\n    \"node_values\": True,\n    \"range_option\": {\"auto_range_on\": {\"global_range\": True}},\n}\n\n\n# Create a graphic object\nsession.tui.display.objects.create(\n    \"contour\",\n    \"temperature\",\n    \"field\",\n    \"temperature\",\n    \"surface-list\",\n    \"wall*\",\n    \"()\",\n    \"color-map\",\n    \"format\",\n    \"%0.1f\",\n    \"q\",\n    \"range-option\",\n    \"auto-range-off\",\n    \"minimum\",\n    300,\n    \"maximum\",\n    400,\n    \"q\",\n    \"q\",\n)\n\n# Select property to display\n# session.tui.display.objects.display(\"temperature\")\n\n# Set views properties\nsession.tui.display.views.restore_view(\"top\")\nsession.tui.display.views.camera.zoom_camera(2)\n\n# Save the animation\nsession.tui.display.views.save_view(\"animation-view\")\n\n# Create animation\nsession.tui.solve.animate.objects.create(\n    \"animate-temperature\",\n    \"animate-on\",\n    \"temperature\",\n    \"frequency-of\",\n    \"flow-time\",\n    \"flow-time-frequency\",\n    0.05,\n    \"view\",\n    \"animation-view\",\n    \"q\",\n)\n\n# Run simulation for 2 seconds flow time\n# Set time step\nsession.tui.solve.set.transient_controls.time_step_size(0.01)\n\n# Set number of iterations\nsession.tui.solve.dual_time_iterate(10, 5)  # 200, 5\n\n# Write and save case file data\nsave_case_data_as = str(Path(pyfluent.EXAMPLES_PATH) / \"brake-final.cas.h5\")\nsession.tui.file.write_case_data(save_case_data_as)\n\n\n# PyVista post processing\ntry:\n    import ansys.fluent.visualization.pyvista as pv\nexcept ImportError:\n    import ansys.fluent.post.pyvista as pv\n\n\n# Create a graphics session\ngraphics_session1 = pv.Graphics(session)\n\n# Temperature contour\ncontour1 = graphics_session1.Contours[\"temperature\"]\n\n\n# Following command shows setting/control options available\ncontour1()\n\n# Setting contour properties\ncontour1.field = \"temperature\"\ncontour1.surfaces_list = [\n    \"wall-disc1\",\n    \"wall-disc2\",\n    \"wall-pad-disc2\",\n    \"wall_pad-disc1\",\n    \"wall-geom-1-bp_inner\",\n    \"wall-geom-1-bp_outer\",\n    \"wall-geom-1-innerpad\",\n    \"wall-geom-1-outerpad\",\n]\ncontour1.range.option = \"auto-range-off\"\ncontour1()\ncontour1.range.auto_range_off.minimum = 300\ncontour1.range.auto_range_off.maximum = 400\n# contour1.display()\n\n\nimport csv\n\n# Matplotlib: Reads Fluent monitor file and shows imbeded plot\nimport matplotlib.pyplot as plt\n\nX = []\nY = []\nZ = []\ni = -1\nwith open(report_file, \"r\") as datafile:\n    plotting = csv.reader(datafile, delimiter=\" \")\n    for rows in plotting:\n        i = i + 1\n        if i > 2:\n            X.append(float(rows[3]))\n            Y.append(float(rows[2]))\n            Z.append(float(rows[1]))\n    plt.title(\"Maximum Temperature\", fontdict={\"color\": \"darkred\", \"size\": 20})\n    plt.plot(X, Z, label=\"Max. Pad Temperature\", color=\"red\")\n    plt.plot(X, Y, label=\"Max. Disc Temperature\", color=\"blue\")\n    plt.xlabel(\"Time (sec)\")\n    plt.ylabel(\"Max Temperature (K)\")\n    plt.legend(loc=\"lower right\", shadow=True, fontsize=\"x-large\")\n    # plt.show()"
      ]
    }
  ],
  "metadata": {
    "kernelspec": {
      "display_name": "Python 3",
      "language": "python",
      "name": "python3"
    },
    "language_info": {
      "codemirror_mode": {
        "name": "ipython",
        "version": 3
      },
      "file_extension": ".py",
      "mimetype": "text/x-python",
      "name": "python",
      "nbconvert_exporter": "python",
      "pygments_lexer": "ipython3",
      "version": "3.9.16"
    }
  },
  "nbformat": 4,
  "nbformat_minor": 0
}