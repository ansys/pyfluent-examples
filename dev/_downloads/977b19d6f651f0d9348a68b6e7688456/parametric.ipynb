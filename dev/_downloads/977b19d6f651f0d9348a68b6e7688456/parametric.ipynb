{
  "cells": [
    {
      "cell_type": "code",
      "execution_count": null,
      "metadata": {
        "collapsed": false
      },
      "outputs": [],
      "source": [
        "%matplotlib inline"
      ]
    },
    {
      "cell_type": "markdown",
      "metadata": {},
      "source": [
        "\n# Fluent-Parametric\nThese examples show you how you can use Fluent capabilities from Python to perform\nFluent simulations. This includes geometry import, Fluent's meshing workflows,\nsetting up and running the solver, and reviewing the results using Fluent's\npostprocessing capabilities.\n"
      ]
    },
    {
      "cell_type": "code",
      "execution_count": null,
      "metadata": {
        "collapsed": false
      },
      "outputs": [],
      "source": [
        "# Import modules\ntry:\n    from ansys.fluent.parametric import ParametricSession\nexcept ImportError:\n    from ansys.fluent.addons.parametric import ParametricSession\n\nfrom pathlib import Path  # noqa: F401\n\nimport ansys.fluent.core as pyfluent  # noqa: F401\nfrom ansys.fluent.core import examples\n\nimport_filename = examples.download_file(\n    \"elbow_params_2.cas.h5\", \"pyfluent/examples/Fluent-Parametric\"\n)  # noqa: E501\n\n# Parametric session starting with a case file\nsession1 = ParametricSession(import_filename, start_transcript=True)\n\n# Start study\nstudy1 = session1.studies[\"elbow_params_2-Solve\"]\nsession1.studies\n\n# Create a new study\nstudy2 = session1.new_study()\n\n# Get input parameters\nip = study2.design_points[\"Base DP\"].input_parameters\nip\n\n# set parameter_2\nip[\"parameter_2\"] = 1.3\n\n# Set input parameters to design points\nstudy2.design_points[\"Base DP\"].input_parameters = ip\n\n# Update current design point\nstudy2.update_current_design_point()\n\n# Get output parameters\nstudy2.design_points[\"Base DP\"].output_parameters\n\n# Add design point\ndp1 = study2.add_design_point()\n\n# Duplicate design point\ndp2 = study2.duplicate_design_point(dp1)\n\n# Delete design points\nstudy2.delete_design_points([dp1, dp2])\n\n# Save the project\n# project_filepath_save_as = str(\n#     Path(pyfluent.EXAMPLES_PATH) / \"fluent_parametric_study_save_as.flprj\"\n# )\n# session1.project.save_as(project_filepath=project_filepath_save_as)\n#\n# # Parametric session starting with a project file\n# project_filepath_read = project_filepath_save_as\n# session2 = ParametricSession(project_filepath=project_filepath_read, start_transcript=True)  # noqa: E501"
      ]
    }
  ],
  "metadata": {
    "kernelspec": {
      "display_name": "Python 3",
      "language": "python",
      "name": "python3"
    },
    "language_info": {
      "codemirror_mode": {
        "name": "ipython",
        "version": 3
      },
      "file_extension": ".py",
      "mimetype": "text/x-python",
      "name": "python",
      "nbconvert_exporter": "python",
      "pygments_lexer": "ipython3",
      "version": "3.9.16"
    }
  },
  "nbformat": 4,
  "nbformat_minor": 0
}