{
  "cells": [
    {
      "cell_type": "code",
      "execution_count": null,
      "metadata": {
        "collapsed": false
      },
      "outputs": [],
      "source": [
        "%matplotlib inline"
      ]
    },
    {
      "cell_type": "markdown",
      "metadata": {},
      "source": [
        "\n# MixingTank-DOE\nThese examples show you how you can use Fluent capabilities from Python to perform\nFluent simulations. This includes geometry import, Fluent's meshing workflows,\nsetting up and running the solver, and reviewing the results using Fluent's\npostprocessing capabilities.\n"
      ]
    },
    {
      "cell_type": "code",
      "execution_count": null,
      "metadata": {
        "collapsed": false
      },
      "outputs": [],
      "source": [
        "# Stirred Tank: DOE and Plotting 3D Surface Plot using Plotly\nimport ansys.fluent.core as pyfluent\nfrom ansys.fluent.core import examples\nimport numpy as np\n\n# Defining constants\ndensity = 998.2\nimp_dia = 0.36\nvisc = np.array([0.001, 0.003, 0.006, 0.01, 0.025, 0.05])\nomega = np.array([1, 2.5, 6.0, 10.0, 15.0, 20.0])\ntorq = np.zeros((len(omega), len(visc)))\npower = np.zeros((len(omega), len(visc)))\npower_number = np.zeros((len(omega), len(visc)))\nreynolds_number = np.zeros((len(omega), len(visc)))\n\n# Create a session\nsession = pyfluent.launch_fluent(version=\"3d\", precision=\"double\", processor_count=6)\n\nimport_filename = examples.download_file(\n    \"test-laminar-visc.cas.h5\", \"pyfluent/examples/MixingTank-DOE\"\n)  # noqa: E501\n\n\n# Read case file\nsession.tui.file.read_case(import_filename)\n\n# DOE\nfor i in range(len(omega)):\n    for j in range(len(visc)):\n        session.tui.define.materials.change_create(\n            \"water-liquid\",\n            \"water-liquid\",\n            \"no\",\n            \"no\",\n            \"no\",\n            \"yes\",\n            \"constant\",\n            visc[j],\n            \"no\",\n            \"no\",\n            \"no\",\n        )\n        session.tui.define.boundary_conditions.set.fluid(\n            [\"fluid_mrf*\"], \"mrf-omega\", \"no\", omega[i], \"q\"\n        )\n        session.tui.define.boundary_conditions.set.wall(\n            [\"wall_shaft*\"], \"omega\", \"no\", omega[i], \"q\"\n        )\n        session.tui.solve.set.number_of_iterations(2)  # 5000\n        session.tui.solve.initialize.initialize_flow()\n        session.tui.solve.iterate()\n        results_list = session.solution.report_definitions.compute(\n            report_defs=[\"torque\"]\n        )\n        val = results_list[0][\"torque\"][0]\n        torq[i][j] = val\n        power[i][j] = omega[i] * val\n        reynolds_number[i][j] = (\n            density * (omega[i] * 0.159154943) * imp_dia * imp_dia / visc[j]\n        )\n        power_number[i][j] = power[i][j] / (\n            density * pow(omega[i] * 0.159154943, 3) * pow(imp_dia, 5)\n        )\n\n# Torque and power list\nprint(torq)\nprint(power)\n\n# 3D Surface Plot using Plotly\n\nimport plotly.graph_objects as go\n\nfig = go.Figure(data=[go.Surface(z=power, x=omega, y=visc)])\nfig.update_layout(\n    title=\"Mixing Tank Power Response Surface\",\n    autosize=False,\n    width=700,\n    height=700,\n    margin=dict(l=80, r=80, b=80, t=80),\n)\nfig.update_layout(\n    scene=dict(\n        xaxis_title=\"Agitation Speed (rad/s)\",\n        yaxis_title=\"Fluid Viscosity (Pa s)\",\n        zaxis_title=\"Power (W)\",\n    )\n)\nfig.show()\n\n# Plot Power Number vs Re\nimport matplotlib.pyplot as plt\n\nre = reynolds_number.flatten()\nnp = power_number.flatten()\nplt.scatter(re, np)\nplt.title(\"Power Number vs Re\")\nplt.xlabel(\"Impeller Reynolds Number\")\nplt.ylabel(\"Power Number\")\nplt.show()"
      ]
    }
  ],
  "metadata": {
    "kernelspec": {
      "display_name": "Python 3",
      "language": "python",
      "name": "python3"
    },
    "language_info": {
      "codemirror_mode": {
        "name": "ipython",
        "version": 3
      },
      "file_extension": ".py",
      "mimetype": "text/x-python",
      "name": "python",
      "nbconvert_exporter": "python",
      "pygments_lexer": "ipython3",
      "version": "3.9.16"
    }
  },
  "nbformat": 4,
  "nbformat_minor": 0
}