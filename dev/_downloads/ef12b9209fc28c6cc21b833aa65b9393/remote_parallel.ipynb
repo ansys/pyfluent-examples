{
  "cells": [
    {
      "cell_type": "code",
      "execution_count": null,
      "metadata": {
        "collapsed": false
      },
      "outputs": [],
      "source": [
        "%matplotlib inline"
      ]
    },
    {
      "cell_type": "markdown",
      "metadata": {},
      "source": [
        "\n# Remote-Execution-in-Cluster\nThese examples show you how you can use Fluent capabilities from Python to perform\nFluent simulations. This includes geometry import, Fluent's meshing workflows,\nsetting up and running the solver, and reviewing the results using Fluent's\npostprocessing capabilities.\n"
      ]
    },
    {
      "cell_type": "code",
      "execution_count": null,
      "metadata": {
        "collapsed": false
      },
      "outputs": [],
      "source": [
        "# Run Remote on Linux\n\n# Requirements to run this example\n#  - Passwordless SSH connection to remote Linux machine\n#  - Remote display capabilities (Linux server)\n\nimport os\nimport time\n\nimport ansys.fluent.core as pyfluent\n\n# Module declaration\nimport paramiko\nfrom paramiko_expect import SSHClientInteraction  # noqa: F401\n\n# Global variable setup\nparamiko.util.log_to_file(\"linux_server.log\")\n\n# Local side\nkey_path = \"<homedir>/ssh/id_rsa\"\nlocal_dir = \"<local_dir>\"\n\n# Server side\nuser = \"<user_name>\"\nserver = \"<server_name>\"\nremote_dir = \"<remote_dir>\"\nport = \"<SFTP_port>\"\ndisplay = \"<remote_display_port>\"\nexecutable = \"<path_to_fluent_executable_in_server>\"\ncores = \"<number_of_cores>\"\nsqueue = \"<slurm_queue_name>\"\n\n# Run mode\n# 0 - Batch, 1 - Interactive\nrun_mode = 1\n\n# Function declaration\n\n\ndef remote_exec(loc_client, cmd):\n    _stdin, _stdout, _stderr = loc_client.exec_command(cmd)\n    return {\"stdin\": _stdin, \"stdout\": _stdout.read().decode(), \"sterr\": _stderr}\n\n\ndef loc_path(file):\n    return os.path.join(local_dir, file)\n\n\ndef rem_path(file):\n    linux_path = remote_dir + \"/\" + file\n    return linux_path\n\n\n# Setup remote server ssh and sftp sessions\nos.chdir(local_dir)\n\n# SSH client\nssh_client = paramiko.client.SSHClient()\n\nssh_client.set_missing_host_key_policy(paramiko.AutoAddPolicy())\n\nk = paramiko.RSAKey.from_private_key_file(key_path)\n\nssh_client.connect(server, username=user, pkey=k)\n\n# SFTP client\nsftp = ssh_client.open_sftp()\n\n# Upload case file to remote server\ncase_file = \"bkd_facing_step.cas.h5\"\nsftp.put(loc_path(case_file), rem_path(case_file))\n\n# Log to remote machine\n\n# Scenario 1: Connect to remote session interactively\n\n# Set remote launcher settings\nif run_mode == 1:\n    launcher = \"{0} 3ddp -t{1} -nm -scheduler=slurm -scheduler_queue={2} -sifile=server.txt\".format(  # noqa: E501\n        executable, cores, squeue  # noqa: E501\n    )  # noqa: E501\nelse:\n    launcher = \"{0} 3ddp -t{1} -nm -gu -scheduler=slurm -scheduler_queue={2} -driver opengl -sifile=server.txt\".format(  # noqa: E501\n        executable, cores, squeue\n    )\n\n# Setup and run remote session\nremote_server_file = rem_path(\"server.txt\")\nlocal_server_file = loc_path(\"server.txt\")\n\n# Remove existing server file\nremote_exec(ssh_client, r\"rm -f {}\".format(remote_server_file))\n\nif run_mode == 1:\n    result = remote_exec(\n        ssh_client,\n        \";\".join([\"cd %s\" % (remote_dir), \"setenv DISPLAY %s\" % (display), launcher]),\n    )  # noqa: E501\nelse:\n    result = remote_exec(ssh_client, \";\".join([\"cd %s\" % (remote_dir), launcher]))\n\n# Attach session\nfor i in range(20):\n    try:\n        sftp.get(remote_server_file, local_server_file)\n\n    except OSError:\n        print(\"Witing to process start...\")\n        time.sleep(5)\n\n# session = pyfluent.session.Session.create_from_server_info_file(r'D:\\AFT\\PyFluent\\py_fluent\\remote\\server.txt')  # noqa: E501\nsession = pyfluent.launch_fluent()\n\nif run_mode == 1:\n    fs = session.tui\n\n# Enable trailing from remote session\n# Fluent automatically outputs trn file. Get the latest one\n# result = remote_exec(ssh_client, \"ls -t %s*.trn\" % (remote_dir))\n# trnfile = os.path.join(remote_dir, result['stdout'].split()[0])\n# interact = SSHClientInteraction(ssh_client, timeout=10, display=False)\n\n# interact.send(\"tail -f %s\" % (trnfile))\n\n# Fluent operations\n# read case\nsession.tui.file.read_case(r\"bkd_facing_step.cas.h5\")\n\n# Set velocity inlet\nsession.setup.boundary_conditions.velocity_inlet[\"inlet\"].vmag = 0.5\n\n# Initialize and run\nsession.solution.initialization.standard_initialize()\nsession.solution.run_calculation.iterate(number_of_iterations=10)  # 500\n\n# Create velocity contour and save png image\ngraphs = session.results.graphics\ngraphs.contour[\"contour-1\"] = {\n    \"field\": \"x-velocity\",\n    \"filled\": True,\n    \"surfaces_list\": [\"symmetry1\"],\n}  # noqa: E501\ngraphs.contour[\"contour-1\"].display()\ngraphs.views.restore_view(view_name=\"front\")\ngraphs.views.picture_options.driver_options = {\"hardcopy_format\": \"png\"}\ngraphs.views.save_picture(file_name=\"velocity_cont.png\")\n\n# Download image to local machine\nsftp.get(rem_path(\"velocity_cont.png\"), loc_path(\"velocity_cont.png\"))\n\n# Close agents\nsftp.close()\nssh_client.close()"
      ]
    }
  ],
  "metadata": {
    "kernelspec": {
      "display_name": "Python 3",
      "language": "python",
      "name": "python3"
    },
    "language_info": {
      "codemirror_mode": {
        "name": "ipython",
        "version": 3
      },
      "file_extension": ".py",
      "mimetype": "text/x-python",
      "name": "python",
      "nbconvert_exporter": "python",
      "pygments_lexer": "ipython3",
      "version": "3.9.16"
    }
  },
  "nbformat": 4,
  "nbformat_minor": 0
}