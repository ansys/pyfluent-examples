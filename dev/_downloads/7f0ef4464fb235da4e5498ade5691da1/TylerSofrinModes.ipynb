{
  "cells": [
    {
      "cell_type": "code",
      "execution_count": null,
      "metadata": {
        "collapsed": false
      },
      "outputs": [],
      "source": [
        "%matplotlib inline"
      ]
    },
    {
      "cell_type": "markdown",
      "metadata": {},
      "source": [
        "\n# Tyler-Sofrin-Modes-Compressor\nThese examples show you how you can use Fluent capabilities from Python to perform\nFluent simulations. This includes geometry import, Fluent's meshing workflows,\nsetting up and running the solver, and reviewing the results using Fluent's\npostprocessing capabilities.\n"
      ]
    },
    {
      "cell_type": "code",
      "execution_count": null,
      "metadata": {
        "collapsed": false
      },
      "outputs": [],
      "source": [
        "# Tyler/Sofrin Mode Calculator\n\n# Background\n# Tyler and Sofrin (1961) showed that rotor/stator interactions\n# produce an infinite collection of spinning modes\n# Each TS mode has an m-lobed pattern and rotates at a speed of Bn\u03a9/m where:\n#         m = nB+kV (m is the Tyler/Sofrin mode number)\n#         n = impeller frequency harmonic\n#         k = vane harmonic\n#         B = # rotating blades\n#         V = # stationary vanes\n#\n# Example:\n#         8-blade rotor interacting with a 6-vane stator\n#         2-lobed pattern turning at (8)(1)/(2) = 4 times shaft speed\n#\n# ![Exampletable](ExampleTable.jpg)\n#\n# ![TSmode](TSmode.jpg)\n\n# Discrete Fourier Transform (DFT)\n# To determine the pressure associated\n# with each TS-mode,\n# extend the simulation and compute the DFT of pressure\n# @ desired blade passing frequency harmonics\n# Disable (Hanning) windowing (for periodic flows such as this).\n# Failure to do this will result in \u00bd expected magnitudes (for periodic flows)\n#     `(rpsetvar 'rtdft/window \"none\")`\n# Ensure that sampling period corresponds to\n# a multiple of the period of the lowest frequency.\n# It can be a single period but\n# it\u2019s better to run for multiple periods (e.g. 1 revolution)\n# The DFT data is only valid if\n# sampling is performed across entire specified sampling period\n# Nyquist criteria: Ensure that DFT sampling frequency is\n# greater than 2*highest frequency\n\n# Please note that the cas/dat file\n# included with this notebook is for demonstration purposes.\n# A finer mesh is required for proper acoustic analysis.\n\n# This line is needed at the beginning of the notebook to allow for an interactive plot\n# get_ipython().run_line_magic(\"matplotlib\", \"widget\")\n\n# Import Pyfluent module\nimport ansys.fluent.core as pyfluent\nfrom ansys.fluent.core import examples\n\nimport_filename = examples.download_file(\n    \"axial_comp_fullWheel_DFT.cas.h5\",\n    \"pyfluent/examples/Tyler-Sofrin-Modes-Compressor\",\n)  # noqa: E501\n\nexamples.download_file(\n    \"axial_comp_fullWheel_DFT.dat.h5\",\n    \"pyfluent/examples/Tyler-Sofrin-Modes-Compressor\",\n)\n\n# Create a session object\nsession = pyfluent.launch_fluent()\n\n# Check server status\nsession.check_health()\n\n# User Inputs\n#\n# The varnames should correspond to the variables writted from the DFT and\n# can be determined by manually inspecting the solution variables as depicted below:\n# ![Varnames](varnames.jpg)\n\nn_mode = [0, 1, 2, 3]  # Impeller frequency harmonics\nvarname = [\n    \"static-pressure-1_0.00mHz-ta1\",\n    \"static-pressure-1_9.80kHz-ta2\",\n    \"static-pressure-1_20.20kHz-ta3\",\n    \"static-pressure-1_30.00kHz-ta4\",\n]  # Variable names from DFT analysis. Ensure len(n_mode)=len(varname)\nr = 0.082  # meters\nz = -0.037  # meters\ndtheta = 5  # degrees\nm_max = 50  # maximum TS mode number\n\n# TS mode number increment.\n# Plot will be from -m_max to +m_max, incremented by m_inc\nm_inc = 2\n\n# CAS/DAT Files\n# The dat file should correspond to the already completed DFT simulation.\n\n# Read a case file\nsession.tui.file.read_case_data(\n    import_filename\n)  # The dat file containing the DFT results\n\n\n# Create Monitor Points\nimport math\n\nfor angle in range(0, 360, dtheta):\n    x = math.cos(math.radians(angle)) * r\n    y = math.sin(math.radians(angle)) * r\n    session.tui.surface.point_surface(\"point-\" + str(angle), x, y, z)\n\n# Compute An and Bn at each monitor point\nimport numpy as np\n\nAn = np.zeros((len(varname), int(360 / dtheta)))\nBn = np.zeros((len(varname), int(360 / dtheta)))\n\nfor angle_ind, angle in enumerate(range(0, 360, dtheta)):\n    for n_ind, variable in enumerate(varname):\n        session.solution.report_definitions.surface[\"mag-report\"] = {\n            \"report_type\": \"surface-vertexmax\",\n            \"surface_names\": [\"point-\" + str(angle)],\n            \"field\": \"pressure\",\n        }\n        mag = session.solution.report_definitions.compute(report_defs=[\"mag-report\"])\n        mag = mag[0][\"mag-report\"][0]\n        session.solution.report_definitions.surface[\"phase-report\"] = {\n            \"report_type\": \"surface-vertexmax\",\n            \"surface_names\": [\"point-\" + str(angle)],\n            \"field\": \"pressure\",\n        }\n        phase = session.solution.report_definitions.compute(\n            report_defs=[\"phase-report\"]\n        )\n        phase = phase[0][\"phase-report\"][0]\n        An[n_ind][angle_ind] = mag * math.cos(phase)\n        Bn[n_ind][angle_ind] = -mag * math.sin(phase)\n\n\n# Write Fourier Coefficients to File\n#\n# This step is only required if data is to be processed outside of this script.\nwith open(\"FourierCoefficients.txt\", \"w\") as f:\n    f.write(\"n theta An Bn \\n\")\n\n    for n_ind, variable in enumerate(varname):\n        for ind, x in enumerate(An[n_ind, :]):\n            f.write(\n                str(n_mode[n_ind])\n                + \",\"\n                + str(ind * dtheta)\n                + \",\"\n                + str(An[n_ind, ind])\n                + \",\"\n                + str(Bn[n_ind, ind])\n                + \"\\n\"\n            )\n\n\n# Calculating Pnm\n#\n# ![TS_formulas](TS_formulas.jpg)\n# Create list of m values based on m_max and m_inc\nm_mode = range(-m_max, m_max + m_inc, m_inc)\n\n# Initialize solution matrices with zeros\nAnm = np.zeros((len(varname), len(m_mode)))\nBnm = np.zeros((len(varname), len(m_mode)))\nPnm = np.zeros((len(varname), len(m_mode)))\n\nfor n_ind, variable in enumerate(varname):  # loop over n modes\n    for m_ind, m in enumerate(m_mode):  # loop over m modes\n        for angle_ind, angle in enumerate(\n            np.arange(0, math.radians(360), math.radians(dtheta))\n        ):  # loop over all angles, in radians\n            Anm[n_ind][m_ind] += An[n_ind][angle_ind] * math.cos(m * angle) - Bn[n_ind][\n                angle_ind\n            ] * math.sin(m * angle)\n            Bnm[n_ind][m_ind] += An[n_ind][angle_ind] * math.sin(m * angle) + Bn[n_ind][\n                angle_ind\n            ] * math.cos(m * angle)\n        Anm[n_ind][m_ind] = Anm[n_ind][m_ind] / (2 * math.pi) * math.radians(dtheta)\n        Bnm[n_ind][m_ind] = Bnm[n_ind][m_ind] / (2 * math.pi) * math.radians(dtheta)\n        Pnm[n_ind][m_ind] = math.sqrt(Anm[n_ind][m_ind] ** 2 + Bnm[n_ind][m_ind] ** 2)\n\n# P_00 is generally orders of magnitude larger than that of other modes.\n# Giving focus to other modes by setting P_00 equal to zero\nPnm[0][int(len(m_mode) / 2)] = 0\n\n# get_ipython().run_line_magic(\"matplotlib\", \"inline\")\n# from mpl_toolkits import mplot3d\nimport random\n\n# Tyler/Sofrin Mode Plot\nimport matplotlib.pyplot as plt\n\nfig = plt.figure()\nax = plt.axes(projection=\"3d\")\nax.set_xlabel(\"TS mode, m\")\nax.set_ylabel(\"Imp Freq Harmonic, n\")\nax.set_zlabel(\"Pnm [Pa]\")\nplt.yticks(n_mode)\nfor n_ind, n in enumerate(n_mode):\n    x = m_mode\n    y = np.full(Pnm.shape[1], n)\n    z = Pnm[n_ind]\n    rgb = (random.random(), random.random(), random.random())\n    ax.plot3D(x, y, z, c=rgb)"
      ]
    }
  ],
  "metadata": {
    "kernelspec": {
      "display_name": "Python 3",
      "language": "python",
      "name": "python3"
    },
    "language_info": {
      "codemirror_mode": {
        "name": "ipython",
        "version": 3
      },
      "file_extension": ".py",
      "mimetype": "text/x-python",
      "name": "python",
      "nbconvert_exporter": "python",
      "pygments_lexer": "ipython3",
      "version": "3.9.16"
    }
  },
  "nbformat": 4,
  "nbformat_minor": 0
}