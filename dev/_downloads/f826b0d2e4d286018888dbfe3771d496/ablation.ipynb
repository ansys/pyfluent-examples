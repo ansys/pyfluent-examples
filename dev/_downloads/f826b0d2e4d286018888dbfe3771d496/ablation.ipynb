{
  "cells": [
    {
      "cell_type": "code",
      "execution_count": null,
      "metadata": {
        "collapsed": false
      },
      "outputs": [],
      "source": [
        "%matplotlib inline"
      ]
    },
    {
      "cell_type": "markdown",
      "metadata": {},
      "source": [
        "\n# Ablation-tutorial\nThese examples show you how you can use Fluent capabilities from Python to perform\nFluent simulations. This includes geometry import, Fluent's meshing workflows,\nsetting up and running the solver, and reviewing the results using Fluent's\npostprocessing capabilities.\n"
      ]
    },
    {
      "cell_type": "code",
      "execution_count": null,
      "metadata": {
        "collapsed": false
      },
      "outputs": [],
      "source": [
        "from pathlib import Path\n\n# Import modules\nimport ansys.fluent.core as pyfluent\nfrom ansys.fluent.core import examples\n\nimport_filename = examples.download_file(\n    \"ablation.msh.h5\", \"pyfluent/examples/Ablation-tutorial\"\n)\n\nfrom ansys.fluent.visualization import set_config\n\nset_config(blocking=True, set_view_on_display=\"isometric\")\n\n# Launch fluent\nsession = pyfluent.launch_fluent(version=\"3d\", precision=\"double\", processor_count=4)\n\n# Read Mesh\nsession.tui.file.read_case(import_filename)\n\n# Setup\nsession.tui.define.models.solver.density_based_implicit(\"yes\")\nsession.tui.define.models.unsteady_1st_order(\"yes\")\nsession.tui.define.operating_conditions.operating_pressure(\"0\")\nsession.tui.define.models.energy(\"yes\")\nsession.tui.define.models.ablation(\"yes\")\n\n# TUI API vs. Settings API\nsession.tui.define.materials.change_create(\n    \"air\", \"air\", \"yes\", \"ideal-gas\", \"no\", \"no\", \"no\", \"no\", \"no\", \"no\"\n)\n\nsession.setup.materials.fluid[\"air\"]()\nsession.setup.materials.fluid[\"air\"] = {\"density\": {\"option\": \"ideal-gas\"}}\n\n# Boundary Conditions with Settings API\nsession.setup.boundary_conditions.change_type(\n    zone_list=[\"inlet\"], new_type=\"pressure-far-field\"\n)\n\nsession.setup.boundary_conditions.wall[\"wall_ablation\"] = {\n    \"ablation_select_model\": \"Vielle's Model\",\n    \"ablation_vielle_a\": 5,\n    \"ablation_vielle_n\": 0.1,\n}\n\n\n# Dynamic Mesh Controls\nsession.tui.define.dynamic_mesh.zones.create(\n    \"interior--flow\",\n    \"deforming\",\n    \"faceted\",\n    \"no\",\n    \"no\",\n    \"yes\",\n    \"no\",\n    \"yes\",\n    \"yes\",\n    \"no\",\n    \"yes\",\n)\nsession.tui.define.dynamic_mesh.zones.create(\n    \"outlet\",\n    \"deforming\",\n    \"faceted\",\n    \"no\",\n    \"yes\",\n    \"no\",\n    \"yes\",\n    \"yes\",\n    \"yes\",\n    \"yes\",\n    \"no\",\n    \"yes\",\n)\nsession.tui.define.dynamic_mesh.zones.create(\n    \"symm1\",\n    \"deforming\",\n    \"plane\",\n    \"0\",\n    \"-0.04\",\n    \"0\",\n    \"0\",\n    \"-1\",\n    \"0\",\n    \"no\",\n    \"yes\",\n    \"no\",\n    \"yes\",\n    \"yes\",\n    \"yes\",\n    \"yes\",\n    \"no\",\n    \"yes\",\n)\nsession.tui.define.dynamic_mesh.zones.create(\n    \"symm2\",\n    \"deforming\",\n    \"plane\",\n    \"0\",\n    \"0.04\",\n    \"0\",\n    \"0\",\n    \"1\",\n    \"0\",\n    \"no\",\n    \"yes\",\n    \"no\",\n    \"yes\",\n    \"yes\",\n    \"yes\",\n    \"yes\",\n    \"no\",\n    \"yes\",\n)\nsession.tui.define.dynamic_mesh.zones.create(\n    \"wall_ablation\",\n    \"user-defined\",\n    \"**ablation**\",\n    \"no\",\n    \"no\",\n    \"189\",\n    \"constant\",\n    \"0\",\n    \"yes\",\n    \"yes\",\n    \"0.7\",\n    \"no\",\n    \"no\",\n)\n\n# Solver Settings\nsession.tui.define.models.unsteady_2nd_order(\"yes\")\n\nsession.tui.solve.set.limits(\n    \"1\", \"5e+10\", \"1\", \"25000\", \"1e-14\", \"1e-20\", \"100000\", \"0.2\"\n)\nsession.tui.solve.monitors.residual.convergence_criteria(\n    \"1e-3\", \"1e-3\", \"1e-3\", \"1e-3\", \"1e-6\", \"1e-3\", \"1e-3\"\n)\n\n# Report Definitions\nsession.tui.solve.report_definitions.add(\n    \"drag_force_x\", \"drag\", \"thread-names\", \"wall_ablation\", \"()\", \"scaled?\", \"no\", \"q\"\n)\nsession.tui.solve.report_plots.add(\n    \"drag_force_x\", \"report-defs\", \"drag_force_x\", \"()\", \"q\"\n)\nsession.tui.solve.report_plots.axes(\n    \"drag_force_x\", \"numbers\", \"float\", \"4\", \"exponential\", \"2\", \"q\"\n)\nsession.tui.solve.report_files.add(\n    \"drag_force_x\",\n    \"report-defs\",\n    \"drag_force_x\",\n    \"()\",\n    \"file-name\",\n    \"drag_force_x.out\",\n    \"q\",\n)\nsession.tui.solve.report_definitions.add(\n    \"pressure_avg_abl_wall\",\n    \"surface-areaavg\",\n    \"field\",\n    \"pressure\",\n    \"surface-names\",\n    \"wall_ablation\",\n    \"()\",\n    \"q\",\n)\nsession.tui.solve.report_plots.add(\n    \"pressure_avg_abl_wall\", \"report-defs\", \"pressure_avg_abl_wall\", \"()\", \"q\"\n)\nsession.tui.solve.report_plots.axes(\n    \"pressure_avg_abl_wall\", \"numbers\", \"float\", \"4\", \"exponential\", \"2\", \"q\"\n)\nsession.tui.solve.report_files.add(\n    \"pressure_avg_abl_wall\",\n    \"report-defs\",\n    \"pressure_avg_abl_wall\",\n    \"()\",\n    \"file-name\",\n    \"pressure_avg_abl_wall.out\",\n    \"q\",\n)\nsession.tui.solve.report_definitions.add(\n    \"recede_point\",\n    \"surface-vertexmax\",\n    \"field\",\n    \"z-coordinate\",\n    \"surface-names\",\n    \"wall_ablation\",\n    \"()\",\n    \"q\",\n)\nsession.tui.solve.report_plots.add(\n    \"recede_point\", \"report-defs\", \"recede_point\", \"()\", \"q\"\n)\nsession.tui.solve.report_plots.axes(\n    \"recede_point\", \"numbers\", \"float\", \"4\", \"exponential\", \"2\", \"q\"\n)\nsession.tui.solve.report_files.add(\n    \"recede_point\",\n    \"report-defs\",\n    \"recede_point\",\n    \"()\",\n    \"file-name\",\n    \"recede_point.out\",\n    \"q\",\n)\n\n# Initialize and Save\nsession.tui.solve.initialize.compute_defaults.pressure_far_field(\"inlet\")\n\n# Initialize solver workflow\nsession.tui.solve.initialize.initialize_flow()\n\n# Save case file\nsave_case_data_as = str(Path(pyfluent.EXAMPLES_PATH) / \"ablation.cas.h5\")\nsession.tui.file.write_case(save_case_data_as)\n\n# Post-Process\nimport_data_filename = examples.download_file(\n    \"ablation_Solved.dat.h5\", \"pyfluent/examples/Ablation-tutorial\"\n)\n\nsession.tui.file.read_case_data(import_data_filename)\n\nsession.tui.display.surface.plane_surface(\"mid_plane\", \"zx-plane\", \"0\")\n\n# Define contour properties\nsession.results.graphics.contour[\"contour_pressure\"] = {\n    \"field\": \"pressure\",\n    \"surfaces_list\": [\"mid_plane\"],\n}\n\n# Display contour\nsession.results.graphics.contour.display(object_name=\"contour_pressure\")\n\n# Define contour properties\nsession.results.graphics.contour[\"contour_mach\"] = {\n    \"field\": \"mach-number\",\n    \"surfaces_list\": [\"mid_plane\"],\n}\n\n# Display contour\nsession.results.graphics.contour.display(object_name=\"contour_mach\")\n\n\n# Post-Process with PyVista\nfrom ansys.fluent.visualization.pyvista import Graphics\n\ngraphics_session1 = Graphics(session)\ncontour1 = graphics_session1.Contours[\"contour-1\"]\ncontour1.field = \"pressure\"\ncontour1.surfaces_list = [\"mid_plane\"]\ncontour1.display()"
      ]
    }
  ],
  "metadata": {
    "kernelspec": {
      "display_name": "Python 3",
      "language": "python",
      "name": "python3"
    },
    "language_info": {
      "codemirror_mode": {
        "name": "ipython",
        "version": 3
      },
      "file_extension": ".py",
      "mimetype": "text/x-python",
      "name": "python",
      "nbconvert_exporter": "python",
      "pygments_lexer": "ipython3",
      "version": "3.9.16"
    }
  },
  "nbformat": 4,
  "nbformat_minor": 0
}